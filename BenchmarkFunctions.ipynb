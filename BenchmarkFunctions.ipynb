{
 "cells": [
  {
   "cell_type": "code",
   "execution_count": 1,
   "metadata": {
    "collapsed": true
   },
   "outputs": [],
   "source": [
    "import numpy as np\n",
    "import tensorflow as tf\n",
    "import matplotlib.pyplot as plt\n",
    "from mpl_toolkits.mplot3d import Axes3D\n",
    "from matplotlib import cm\n",
    "import numpy as np"
   ]
  },
  {
   "cell_type": "code",
   "execution_count": 2,
   "metadata": {
    "collapsed": false
   },
   "outputs": [],
   "source": [
    "def plot_training_data(fun, dim, nplot, heat=True):\n",
    "    n2 = np.ceil(np.sqrt(nplot))\n",
    "    n1 = np.ceil(nplot/n2)\n",
    "\n",
    "    if dim==2:\n",
    "        xx1 = np.linspace(-1,1,100)\n",
    "        xx2 = np.linspace(-1,1,100)\n",
    "        x = np.array(np.meshgrid(xx1,xx2)).T.reshape(1,-1,dim)\n",
    "        print(x.shape)\n",
    "        y = fun(x)\n",
    "\n",
    "        print(y.shape)\n",
    "        if heat:\n",
    "            plt.figure(figsize=(20,15))\n",
    "            for i in range(nplot):\n",
    "                plt.subplot(n1,n2,1+i)\n",
    "                plt.imshow(y[i].reshape(100,100), cmap='hot', interpolation='nearest', extent=[-1,1,1,-1])\n",
    "                plt.colorbar()\n",
    "                plt.xlim([-1,1])\n",
    "                plt.ylim([-1,1])\n",
    "            plt.show()\n",
    "                "
   ]
  },
  {
   "cell_type": "code",
   "execution_count": 3,
   "metadata": {
    "collapsed": false
   },
   "outputs": [],
   "source": [
    "def branin(x):\n",
    "    a = 1\n",
    "    b = 5.1 / (4*np.pi**2)\n",
    "    c = 5 / np.pi\n",
    "    r = 6\n",
    "    s = 10\n",
    "    t = 1/(8*np.pi)\n",
    "    \n",
    "    x = 7.5*x+np.array([2.5, 7.5])\n",
    "    \n",
    "    minv = 0.397887\n",
    "    maxv = 307\n",
    "    \n",
    "    y = a*(x[:,:,1] - b*x[:,:,0]**2 + c*x[:,:,0] - r)**2 + s*(1-t)*np.cos(x[:,:,0]) + s\n",
    "    y = 2*(y-minv)/(maxv-minv)-1\n",
    "    \n",
    "    return y\n",
    "\t\n",
    "def branin_tf(x):\n",
    "    a = 1\n",
    "    b = 5.1 / (4*np.pi**2)\n",
    "    c = 5 / np.pi\n",
    "    r = 6\n",
    "    s = 10\n",
    "    t = 1/(8*np.pi)\n",
    "    \n",
    "    x = 7.5*x+tf.constant([2.5, 7.5])\n",
    "    \n",
    "    minv = 0.397887\n",
    "    maxv = 307\n",
    "    \n",
    "    y = a*(x[:,1] - b*x[:,0]**2 + c*x[:,0] - r)**2 + s*(1-t)*tf.cos(x[:,0]) + s\n",
    "    y = 2*(y-minv)/(maxv-minv)-1\n",
    "    \n",
    "    return tf.reshape(y, (-1,1))\n",
    "\n",
    "def goldstein_price(x):\n",
    "    x = x*2\n",
    "    \n",
    "    minv = 3\n",
    "    maxv = 1020000 \n",
    "    x_1, x_2 = np.split(x,[1],axis=-1)\n",
    "\t\n",
    "    y = (1 + (x_1 + x_2 + 1)**2 * (19 - 14*x_1 + 3*x_1**2 - 14*x_2 + 6*x_1*x_2+ 3*x_2**2))*\\\n",
    "    (30 + (2*x_1-3*x_2)**2 * (18 - 32*x_1 + 12*x_1**2 + 48*x_2 - 36*x_1*x_2+ 27*x_2**2))\n",
    "    \n",
    "    y = 2*(y-minv)/(maxv-minv)-1\n",
    "    \n",
    "    return y\n",
    "\t\n",
    "def goldstein_price_tf(x):\n",
    "    x = x*2\n",
    "    \n",
    "    minv = 3\n",
    "    maxv = 1020000\n",
    "    \n",
    "    y = (1 + (x[:,0] + x[:,1] + 1)**2 * (19 - 14*x[:,0] + 3*x[:,0]**2 - 14*x[:,1] + 6*x[:,0]*x[:,1]\\\n",
    "                                             + 3*x[:,1]**2))*\\\n",
    "    (30 + (2*x[:,0]-3*x[:,1])**2 * (18 - 32*x[:,0] + 12*x[:,0]**2 + 48*x[:,1] - 36*x[:,0]*x[:,1]\\\n",
    "                                        + 27*x[:,1]**2))\n",
    "    \n",
    "    y = 2*(y-minv)/(maxv-minv)-1\n",
    "    \n",
    "    return tf.reshape(y, (-1,1))\n",
    "\n",
    "def hartmann3(x):\n",
    "    x = (x+1)/2\n",
    "    \n",
    "    minv = -3.86278\n",
    "    maxv = 18.06\n",
    "    \n",
    "    A = np.array([[3.0, 10, 30],[0.1, 10, 35],[3.0, 10, 30],[0.1, 10, 35]])\n",
    "    P = 0.0001 * np.array([[3689, 1170, 2673], [4699, 4387, 7470], [1091, 8732, 5547], [381, 5743, 8828]])\n",
    "    alpha = np.array([1.0, 1.2, 3.0, 3.2])\n",
    "    \n",
    "    print(A.shape)\n",
    "    print(P.shape)\n",
    "    print(x.shape)\n",
    "    \n",
    "    y = np.sum(alpha[:,np.newaxis] * np.exp(-A*((x[:,:,np.newaxis,:]-P)**2)),axis=(-1,-2))\n",
    "    \n",
    "    y = 2*(y-minv)/(maxv-minv)-1\n",
    "    \n",
    "    return y\n",
    "\n",
    "def hartmann3_tf(x):\n",
    "    x = (x+1)/2\n",
    "    \n",
    "    minv = -3.86278\n",
    "    maxv = 18.06\n",
    "    \n",
    "    A = np.array([[3.0, 10, 30],[0.1, 10, 35],[3.0, 10, 30],[0.1, 10, 35]])\n",
    "    P = 0.0001 * np.array([[3689, 1170, 2673], [4699, 4387, 7470], [1091, 8732, 5547], [381, 5743, 8828]])\n",
    "    alpha = np.array([1.0, 1.2, 3.0, 3.2])\n",
    "    \n",
    "    print(A.shape)\n",
    "    print(P.shape)\n",
    "    print(x.shape)\n",
    "    \n",
    "    y = tf.reduce_sum(tf.expand_dims(alpha,1) * tf.exp(-A*((tf.expand_dims(x,2)-P)**2)),axis=(-1,-2))\n",
    "    \n",
    "    y = 2*(y-minv)/(maxv-minv)-1\n",
    "    \n",
    "    return y\n",
    "    \n",
    "def hartmann6(x):\n",
    "    x = (x+1)/2\n",
    "    \n",
    "    minv = -3.32237\n",
    "    maxv = 38.7\n",
    "    \n",
    "    A = np.array([[10, 3, 17, 3.5, 1.7, 8],[0.05, 10, 17, 0.1, 8, 14], [3, 3.5, 1.7, 10, 17, 8],\\\n",
    "                  [17, 8, 0.05, 10, 0.1, 14]])\n",
    "    P = 1e-4 * np.array([[1312, 1696, 5569, 124, 8283, 5886],[2329, 4135, 8307, 3736, 1004, 9991],\\\n",
    "                         [2348, 1451, 3522, 2883, 3047, 6650],[4047, 8828, 8732, 5743, 1091, 381]])\n",
    "    alpha = np.array([1, 1.2, 3, 3.2])\n",
    "    \n",
    "    print(A.shape)\n",
    "    print(P.shape)\n",
    "    print(x.shape)\n",
    "    \n",
    "    y = np.sum(alpha[:,np.newaxis] * np.exp(-A*((x[:,:,np.newaxis,:]-P)**2)),axis=(-1,-2))\n",
    "    \n",
    "    y = 2*(y-minv)/(maxv-minv)-1\n",
    "    \n",
    "    return y\n",
    "\n",
    "def hartmann6_tf(x):\n",
    "    x = (x+1)/2\n",
    "    x = tf.expand_dims(x,0)\n",
    "    \n",
    "    minv = -3.32237\n",
    "    maxv = 38.7\n",
    "    \n",
    "    A = np.array([[10, 3, 17, 3.5, 1.7, 8],[0.05, 10, 17, 0.1, 8, 14], [3, 3.5, 1.7, 10, 17, 8],\\\n",
    "                  [17, 8, 0.05, 10, 0.1, 14]])\n",
    "    P = 1e-4 * np.array([[1312, 1696, 5569, 124, 8283, 5886],[2329, 4135, 8307, 3736, 1004, 9991],\\\n",
    "                         [2348, 1451, 3522, 2883, 3047, 6650],[4047, 8828, 8732, 5743, 1091, 381]])\n",
    "    alpha = np.array([1, 1.2, 3, 3.2])\n",
    "    \n",
    "    print(A.shape)\n",
    "    print(P.shape)\n",
    "    print(x.shape)\n",
    "    \n",
    "    y = tf.reduce_sum(tf.expand_dims(alpha,1) * tf.exp(-A*((tf.expand_dims(x,2)-P)**2)),axis=(-1,-2))\n",
    "    \n",
    "    y = 2*(y-minv)/(maxv-minv)-1\n",
    "    \n",
    "    return y"
   ]
  },
  {
   "cell_type": "code",
   "execution_count": 4,
   "metadata": {
    "collapsed": false
   },
   "outputs": [
    {
     "name": "stdout",
     "output_type": "stream",
     "text": [
      "(4, 3)\n",
      "(4, 3)\n",
      "(1, 1000000, 3)\n"
     ]
    },
    {
     "data": {
      "text/plain": [
       "array([[ 0.53298582,  0.44260982,  0.58419289, ...,  0.81234297,\n",
       "         0.88697303,  0.47073452]])"
      ]
     },
     "execution_count": 4,
     "metadata": {},
     "output_type": "execute_result"
    }
   ],
   "source": [
    "xx = np.random.uniform(low = -1, high = 1.0, size=[1,1000000,3])\n",
    "hartmann3(xx)"
   ]
  },
  {
   "cell_type": "code",
   "execution_count": 5,
   "metadata": {
    "collapsed": true
   },
   "outputs": [],
   "source": [
    "tf.constant?"
   ]
  },
  {
   "cell_type": "code",
   "execution_count": null,
   "metadata": {
    "collapsed": true
   },
   "outputs": [],
   "source": []
  }
 ],
 "metadata": {
  "anaconda-cloud": {},
  "kernelspec": {
   "display_name": "Python [conda env:tensorflow]",
   "language": "python",
   "name": "conda-env-tensorflow-py"
  },
  "language_info": {
   "codemirror_mode": {
    "name": "ipython",
    "version": 3
   },
   "file_extension": ".py",
   "mimetype": "text/x-python",
   "name": "python",
   "nbconvert_exporter": "python",
   "pygments_lexer": "ipython3",
   "version": "3.5.2"
  }
 },
 "nbformat": 4,
 "nbformat_minor": 1
}
