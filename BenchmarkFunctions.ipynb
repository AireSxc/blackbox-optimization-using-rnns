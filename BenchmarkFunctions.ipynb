{
 "cells": [
  {
   "cell_type": "code",
   "execution_count": 1,
   "metadata": {
    "collapsed": true
   },
   "outputs": [],
   "source": [
    "import numpy as np\n",
    "import tensorflow as tf\n",
    "import matplotlib.pyplot as plt\n",
    "from mpl_toolkits.mplot3d import Axes3D\n",
    "from matplotlib import cm\n",
    "import numpy as np"
   ]
  },
  {
   "cell_type": "code",
   "execution_count": null,
   "metadata": {
    "collapsed": false
   },
   "outputs": [],
   "source": [
    "def plot_training_data(fun, dim, nplot, heat=True):\n",
    "    n2 = np.ceil(np.sqrt(nplot))\n",
    "    n1 = np.ceil(nplot/n2)\n",
    "\n",
    "    if dim==2:\n",
    "        xx1 = np.linspace(-1,1,100)\n",
    "        xx2 = np.linspace(-1,1,100)\n",
    "        x = np.array(np.meshgrid(xx1,xx2)).T.reshape(1,-1,dim)\n",
    "        print(x.shape)\n",
    "        y = fun(x)\n",
    "\n",
    "        print(y.shape)\n",
    "        if heat:\n",
    "            plt.figure(figsize=(20,15))\n",
    "            for i in range(nplot):\n",
    "                plt.subplot(n1,n2,1+i)\n",
    "                plt.imshow(y[i].reshape(100,100), cmap='hot', interpolation='nearest', extent=[-1,1,1,-1])\n",
    "                plt.colorbar()\n",
    "                plt.xlim([-1,1])\n",
    "                plt.ylim([-1,1])\n",
    "            plt.show()\n",
    "                "
   ]
  },
  {
   "cell_type": "code",
   "execution_count": null,
   "metadata": {
    "collapsed": false
   },
   "outputs": [],
   "source": [
    "def branin(x):\n",
    "    a = 1\n",
    "    b = 5.1 / (4*np.pi**2)\n",
    "    c = 5 / np.pi\n",
    "    r = 6\n",
    "    s = 10\n",
    "    t = 1/(8*np.pi)\n",
    "    \n",
    "    x[:,:,0] = 7.5*x[:,:,0]+2.5\n",
    "    x[:,:,1] = 7.5*x[:,:,1]+7.5\n",
    "    \n",
    "    minv = 0.397887\n",
    "    maxv = 307\n",
    "    \n",
    "    y = a*(x[:,:,1] - b*x[:,:,0]**2 + c*x[:,:,0] - r)**2 + s*(1-t)*np.cos(x[:,:,0]) + s\n",
    "    y = 2*(y-minv)/(maxv-minv)-1\n",
    "    \n",
    "    print(y.shape)\n",
    "    return y\n",
    "\n",
    "def goldstein_price(x):\n",
    "    x = x*2\n",
    "    \n",
    "    minv = 3\n",
    "    maxv = 1020000\n",
    "    \n",
    "    y = (1 + (x[:,:,0] + x[:,:,1] + 1)**2 * (19 - 14*x[:,:,0] + 3*x[:,:,0]**2 - 14*x[:,:,1] + 6*x[:,:,0]*x[:,:,1]\\\n",
    "                                             + 3*x[:,:,1]**2))*\\\n",
    "    (30 + (2*x[:,:,0]-3*x[:,:,1])**2 * (18 - 32*x[:,:,0] + 12*x[:,:,0]**2 + 48*x[:,:,1] - 36*x[:,:,0]*x[:,:,1]\\\n",
    "                                        + 27*x[:,:,1]**2))\n",
    "    \n",
    "    y = 2*(y-minv)/(maxv-minv)-1\n",
    "    \n",
    "    return y\n",
    "\n",
    "def hartmann3(x):\n",
    "    A = np.array([[3.0, 10, 30],[0.1, 10, 35],[3.0, 10, 30],[0.1, 10, 35]])\n",
    "    P = 0.0001 * np.array([[3689, 1170, 2673], 4699, 4387, 7470], [1091, 8732, 5547], [381, 5743, 8828])\n",
    "    alpha = np.array([1.0, 1.2, 3.0, 3.2])\n",
    "    \n",
    "def hartmann4(x):\n",
    "    return None"
   ]
  },
  {
   "cell_type": "code",
   "execution_count": null,
   "metadata": {
    "collapsed": false
   },
   "outputs": [],
   "source": [
    "plot_training_data(goldstein_price, 2, 1)"
   ]
  },
  {
   "cell_type": "code",
   "execution_count": null,
   "metadata": {
    "collapsed": false
   },
   "outputs": [],
   "source": [
    "x = np.random.uniform(low = -1.0, high = 1.0, size=[100000,2])"
   ]
  },
  {
   "cell_type": "code",
   "execution_count": null,
   "metadata": {
    "collapsed": false
   },
   "outputs": [],
   "source": [
    "y = goldstein_price(x)"
   ]
  },
  {
   "cell_type": "code",
   "execution_count": null,
   "metadata": {
    "collapsed": false
   },
   "outputs": [],
   "source": [
    "minv = np.min(y, axis=0)\n",
    "maxv = np.max(y, axis=0)"
   ]
  },
  {
   "cell_type": "code",
   "execution_count": null,
   "metadata": {
    "collapsed": false
   },
   "outputs": [],
   "source": [
    "minv"
   ]
  },
  {
   "cell_type": "code",
   "execution_count": null,
   "metadata": {
    "collapsed": true
   },
   "outputs": [],
   "source": [
    "def poly(a,b,c):\n",
    "    return lambda x: a*x**2+b*x+c"
   ]
  },
  {
   "cell_type": "code",
   "execution_count": null,
   "metadata": {
    "collapsed": true
   },
   "outputs": [],
   "source": [
    "f = poly(1,2,3)"
   ]
  },
  {
   "cell_type": "code",
   "execution_count": null,
   "metadata": {
    "collapsed": true
   },
   "outputs": [],
   "source": [
    "y = f(2)"
   ]
  },
  {
   "cell_type": "code",
   "execution_count": null,
   "metadata": {
    "collapsed": false
   },
   "outputs": [],
   "source": [
    "print(y)"
   ]
  },
  {
   "cell_type": "code",
   "execution_count": null,
   "metadata": {
    "collapsed": true
   },
   "outputs": [],
   "source": []
  }
 ],
 "metadata": {
  "anaconda-cloud": {},
  "kernelspec": {
   "display_name": "Python [conda env:tensorflow]",
   "language": "python",
   "name": "conda-env-tensorflow-py"
  },
  "language_info": {
   "codemirror_mode": {
    "name": "ipython",
    "version": 3
   },
   "file_extension": ".py",
   "mimetype": "text/x-python",
   "name": "python",
   "nbconvert_exporter": "python",
   "pygments_lexer": "ipython3",
   "version": "3.5.2"
  }
 },
 "nbformat": 4,
 "nbformat_minor": 1
}
