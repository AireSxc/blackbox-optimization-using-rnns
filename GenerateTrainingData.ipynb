{
 "cells": [
  {
   "cell_type": "code",
   "execution_count": 2,
   "metadata": {
    "collapsed": true
   },
   "outputs": [],
   "source": [
    "import tensorflow as tf\n",
    "import numpy as np\n",
    "import os\n",
    "import utils"
   ]
  },
  {
   "cell_type": "code",
   "execution_count": 3,
   "metadata": {
    "collapsed": true
   },
   "outputs": [],
   "source": [
    "def kernel(x1,x2,l):\n",
    "    return np.exp(-1.0/l**2*np.sum((np.expand_dims(x1,axis=2) - np.expand_dims(x2,axis=1))**2, axis = 3))\n",
    "\n",
    "def GP(X,A,x,l):\n",
    "    k_xX = kernel(x,X,l)\n",
    "    return np.squeeze(np.matmul(k_xX,  A),axis=(2,))\n",
    "\n",
    "def normalize(minv, maxv, y):\n",
    "    return 2*(y-minv)/(maxv-minv)-1.0"
   ]
  },
  {
   "cell_type": "code",
   "execution_count": 4,
   "metadata": {
    "collapsed": true
   },
   "outputs": [],
   "source": [
    "def gen_data(n_data, dim, n_gp_samples, n_mc_samples, l):\n",
    "    X = np.random.uniform(low = -1.0, high = 1.0, size = (n_data, n_gp_samples, dim))\n",
    "    Y = np.random.uniform(low = -1.0, high = 1.0, size = (n_data, n_gp_samples))\n",
    "\n",
    "    K_XX = kernel(X,X,l)\n",
    "    A = np.linalg.solve(K_XX, np.expand_dims(Y,axis=2))\n",
    "    \n",
    "    mc_samples = np.random.uniform(low = -1.0, high = 1.0, size = [1, n_mc_samples, dim])\n",
    "    y = GP(X,A,mc_samples,l)\n",
    "\n",
    "    min_vals = np.min(y, axis = 1).reshape(n_data,1)\n",
    "    max_vals = np.max(y, axis = 1).reshape(n_data,1)\n",
    "\n",
    "    return (X, A, min_vals, max_vals)"
   ]
  },
  {
   "cell_type": "code",
   "execution_count": 6,
   "metadata": {
    "collapsed": true
   },
   "outputs": [],
   "source": [
    "data_dir = utils.loadConfig()['DATA_DIR']\n",
    "def run_gen_data_for(dim, no_training, no_testing, n_gp_samples, n_mc_samples, length ):\n",
    "    no_data = [no_training,no_testing]\n",
    "    for i in range(1):\n",
    "        X, A, minv, maxv = gen_data( no_data[i], dim, n_gp_samples, n_mc_samples, length)\n",
    "        s = 'training' if i == 0 else 'testing'\n",
    "        directory = utils.getDataPath(dim, s)\n",
    "        if not os.path.exists(directory):\n",
    "            os.makedirs(directory)\n",
    "\n",
    "        np.save( directory + \"/X\", X)\n",
    "        np.save( directory + \"/A\", A)\n",
    "        np.save( directory + \"/minv\", minv)\n",
    "        np.save( directory + \"/maxv\", maxv)"
   ]
  },
  {
   "cell_type": "code",
   "execution_count": 7,
   "metadata": {
    "collapsed": true
   },
   "outputs": [],
   "source": [
    "run_gen_data_for(2, 2000, 200, 6, 1000, 0.4714045207910317) # generate for 1D"
   ]
  },
  {
   "cell_type": "code",
   "execution_count": null,
   "metadata": {
    "collapsed": true
   },
   "outputs": [],
   "source": []
  }
 ],
 "metadata": {
  "anaconda-cloud": {},
  "kernelspec": {
   "display_name": "Python [default]",
   "language": "python",
   "name": "python3"
  },
  "language_info": {
   "codemirror_mode": {
    "name": "ipython",
    "version": 3
   },
   "file_extension": ".py",
   "mimetype": "text/x-python",
   "name": "python",
   "nbconvert_exporter": "python",
   "pygments_lexer": "ipython3",
   "version": "3.5.2"
  }
 },
 "nbformat": 4,
 "nbformat_minor": 1
}
