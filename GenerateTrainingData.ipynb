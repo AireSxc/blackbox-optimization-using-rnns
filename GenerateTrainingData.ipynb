{
 "cells": [
  {
   "cell_type": "code",
   "execution_count": 1,
   "metadata": {
    "collapsed": false
   },
   "outputs": [],
   "source": [
    "import tensorflow as tf\n",
    "import numpy as np\n",
    "import os\n",
    "import utils\n",
    "import gpfunctions as gp"
   ]
  },
  {
   "cell_type": "code",
   "execution_count": 2,
   "metadata": {
    "collapsed": true
   },
   "outputs": [],
   "source": [
    "def gen_data(n_data, dim, n_gp_samples, n_mc_samples, l, kernel):\n",
    "    X = np.random.uniform(low = -1.0, high = 1.0, size = (n_data, n_gp_samples, dim))\n",
    "    Y = np.random.uniform(low = -1.0, high = 1.0, size = (n_data, n_gp_samples))\n",
    "\n",
    "    K_XX = kernel(\"np\",X,X,l)\n",
    "    A = np.linalg.solve(K_XX, np.expand_dims(Y,axis=2))\n",
    "    \n",
    "    mc_samples = np.random.uniform(low = -1.0, high = 1.0, size = [1, n_mc_samples, dim])\n",
    "    y = gp.GP(\"np\",X,A,mc_samples,l, kernel)\n",
    "\n",
    "    min_vals = np.min(y, axis = 1).reshape(n_data,1)\n",
    "    max_vals = np.max(y, axis = 1).reshape(n_data,1)\n",
    "\n",
    "    return (X, A, min_vals, max_vals)"
   ]
  },
  {
   "cell_type": "code",
   "execution_count": 5,
   "metadata": {
    "collapsed": true
   },
   "outputs": [],
   "source": [
    "data_dir = utils.loadConfig()['DATA_DIR']\n",
    "def run_gen_data_for(dim, no_training, no_testing, n_gp_samples, n_mc_samples, length, kernelstr, kernel):\n",
    "    no_data = [no_training,no_testing]\n",
    "    for i in range(2):\n",
    "        X, A, minv, maxv = gen_data( no_data[i], dim, n_gp_samples, n_mc_samples, length, kernel)\n",
    "        s = 'training' if i == 0 else 'testing'\n",
    "        directory = utils.getDataPath(dim, s, kernelstr)\n",
    "        if not os.path.exists(directory):\n",
    "            os.makedirs(directory)\n",
    "\n",
    "        np.save( directory + \"/X\", X)\n",
    "        np.save( directory + \"/A\", A)\n",
    "        np.save( directory + \"/minv\", minv)\n",
    "        np.save( directory + \"/maxv\", maxv)"
   ]
  },
  {
   "cell_type": "code",
   "execution_count": 13,
   "metadata": {
    "collapsed": false
   },
   "outputs": [
    {
     "name": "stdout",
     "output_type": "stream",
     "text": [
      "1\n",
      "1\n",
      "1\n",
      "2\n",
      "2\n",
      "2\n",
      "3\n",
      "3\n",
      "3\n",
      "4\n",
      "4\n",
      "4\n",
      "6\n",
      "6\n",
      "6\n"
     ]
    }
   ],
   "source": [
    "for dim in [1,2,3,4,6]:\n",
    "    for kernel_id in [0,1,2]:\n",
    "        #dim = 2\n",
    "        no_training = 2000\n",
    "        no_testing = 2000\n",
    "        n_bumps = 6\n",
    "        n_mc_samples = 1000\n",
    "        length = 2/n_bumps*np.sqrt(dim)\n",
    "\n",
    "        #kernel_id = 2\n",
    "        kernelstr = [\"rbf\", \"matern32\", \"matern52\"][kernel_id]\n",
    "        kernel = [gp.rbf_kernel, gp.matern32_kernel, gp.matern52_kernel][kernel_id]\n",
    "\n",
    "        run_gen_data_for(dim, no_training, no_testing, n_bumps, n_mc_samples, length, kernelstr, kernel)\n",
    "        print(dim)"
   ]
  },
  {
   "cell_type": "code",
   "execution_count": null,
   "metadata": {
    "collapsed": true
   },
   "outputs": [],
   "source": []
  }
 ],
 "metadata": {
  "anaconda-cloud": {},
  "kernelspec": {
   "display_name": "Python [conda env:tensorflow]",
   "language": "python",
   "name": "conda-env-tensorflow-py"
  },
  "language_info": {
   "codemirror_mode": {
    "name": "ipython",
    "version": 3
   },
   "file_extension": ".py",
   "mimetype": "text/x-python",
   "name": "python",
   "nbconvert_exporter": "python",
   "pygments_lexer": "ipython3",
   "version": "3.5.2"
  }
 },
 "nbformat": 4,
 "nbformat_minor": 1
}
