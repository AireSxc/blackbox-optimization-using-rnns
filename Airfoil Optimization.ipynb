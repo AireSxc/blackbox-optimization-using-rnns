{
 "cells": [
  {
   "cell_type": "code",
   "execution_count": null,
   "metadata": {
    "collapsed": false
   },
   "outputs": [],
   "source": [
    "import airfoil_simulator\n",
    "import tensorflow as tf\n",
    "import numpy as np\n",
    "import lstm_model\n",
    "import time\n",
    "import skopt \n",
    "import visualize as viz"
   ]
  },
  {
   "cell_type": "code",
   "execution_count": null,
   "metadata": {
    "collapsed": true
   },
   "outputs": [],
   "source": [
    "def obj_airfoil_lift_drag(x):\n",
    "    x = np.array(x)\n",
    "    obj_value = -1*airfoil_simulator.objective(x.reshape(-1))/100\n",
    "    return obj_value"
   ]
  },
  {
   "cell_type": "code",
   "execution_count": null,
   "metadata": {
    "collapsed": true
   },
   "outputs": [],
   "source": [
    "# imp.reload(lstm_model) # remove this when it's ready\n",
    "steps = 20\n",
    "dim = 2\n",
    "x_0 = np.array([-0.1,-0.1]).reshape(-1,2)"
   ]
  },
  {
   "cell_type": "code",
   "execution_count": null,
   "metadata": {
    "collapsed": false
   },
   "outputs": [],
   "source": [
    "def optimize_lstm(x_0, steps):\n",
    "    #load best model\n",
    "    best_model_2d='rnn-cell-2d-1498485717'   \n",
    "    print(\"Starting at %s and optimize for %d steps\" % (x_0, steps) )\n",
    "    sess, model_params = lstm_model.load_trained_model(best_model_2d)\n",
    "    \n",
    "    start_time = time.time()\n",
    "    samples_x, samples_y = lstm_model.generate_sample_sequence(sess, model_params, x_0, steps = steps, \\\n",
    "        obj_func=lambda x: np.array(obj_airfoil_lift_drag(x)).reshape(1,-1) \\\n",
    "    )\n",
    "\n",
    "    samples_y = np.array(samples_y).flatten()\n",
    "\n",
    "    #print(\"Min -L/D found %f at %s\" % (samples_y[min_y_idx], samples_x[min_y_idx].flatten()) )\n",
    "    print(\"Took %f mins\" % (( time.time() - start_time ) / 60.0) )\n",
    "    \n",
    "    return samples_x, samples_y\n",
    "\n",
    "def optimize_random(x_0, steps):\n",
    "    res = skopt.dummy_minimize(obj_airfoil_lift_drag, dimensions=[(-1.0,1.0)]*2, n_calls=steps, \n",
    "                               x0=x_0, verbose=True) \n",
    "    return res.xiters, res.funcvals\n",
    "\n",
    "def optimize_skopt(x_0, steps):\n",
    "    res = skopt.gp_minimize(obj_airfoil_lift_drag, dimensions=[(-1.0,1.0)]*2, n_calls=steps, \n",
    "                            n_random_starts=10, x0=x_0, verbose=True) \n",
    "    return res.xiters, res.funcvals"
   ]
  },
  {
   "cell_type": "code",
   "execution_count": null,
   "metadata": {
    "collapsed": false
   },
   "outputs": [],
   "source": [
    "samples_x_random, samples_y_random = optimize_random(x_0, steps)\n",
    "samples_x_skopt, samples_y_skopt = optimize_skopt(x_0, steps)\n",
    "samples_x_lstm, samples_y_lstm = optimize_lstm(x_0, steps)"
   ]
  },
  {
   "cell_type": "code",
   "execution_count": null,
   "metadata": {
    "collapsed": false
   },
   "outputs": [],
   "source": [
    "viz.plot_min_curves([samples_y_lstm[np.newaxis,:], np.array(samples_y_random)[np.newaxis,:],\n",
    "                    np.array(samples_y_skopt)[np.newaxis,:]],['MIN', 'RANDOM','SKOPT'])"
   ]
  },
  {
   "cell_type": "code",
   "execution_count": null,
   "metadata": {
    "collapsed": true
   },
   "outputs": [],
   "source": []
  }
 ],
 "metadata": {
  "anaconda-cloud": {},
  "kernelspec": {
   "display_name": "Python [conda env:tensorflow]",
   "language": "python",
   "name": "conda-env-tensorflow-py"
  },
  "language_info": {
   "codemirror_mode": {
    "name": "ipython",
    "version": 3
   },
   "file_extension": ".py",
   "mimetype": "text/x-python",
   "name": "python",
   "nbconvert_exporter": "python",
   "pygments_lexer": "ipython3",
   "version": "3.5.2"
  }
 },
 "nbformat": 4,
 "nbformat_minor": 2
}
