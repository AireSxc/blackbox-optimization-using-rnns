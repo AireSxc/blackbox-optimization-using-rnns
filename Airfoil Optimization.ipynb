{
 "cells": [
  {
   "cell_type": "code",
   "execution_count": null,
   "metadata": {
    "collapsed": false
   },
   "outputs": [],
   "source": [
    "import airfoil_simulator\n",
    "import tensorflow as tf\n",
    "import numpy as np\n",
    "import lstm_model\n",
    "import time\n",
    "from skopt import gp_minimize\n",
    "import visualize as viz"
   ]
  },
  {
   "cell_type": "code",
   "execution_count": null,
   "metadata": {
    "collapsed": true
   },
   "outputs": [],
   "source": [
    "def obj_airfoil_lift_drag(x):\n",
    "    x = np.array(x)\n",
    "    obj_value = -1*airfoil_simulator.objective(x.reshape(-1))/100\n",
    "    return obj_value"
   ]
  },
  {
   "cell_type": "code",
   "execution_count": null,
   "metadata": {
    "collapsed": true
   },
   "outputs": [],
   "source": [
    "# imp.reload(lstm_model) # remove this when it's ready\n",
    "steps = 20\n",
    "dim = 2\n",
    "x_0 = np.array([-0.1,-0.1]).reshape(-1,2)"
   ]
  },
  {
   "cell_type": "code",
   "execution_count": null,
   "metadata": {
    "collapsed": false
   },
   "outputs": [],
   "source": [
    "def optimize_lstm(x_0, steps):\n",
    "    #load best model\n",
    "    best_model_2d='rnn-cell-2d-1498485717'   \n",
    "    print(\"Starting at %s and optimize for %d steps\" % (x_0, steps) )\n",
    "    sess, model_params = lstm_model.load_trained_model(best_model_2d)\n",
    "    \n",
    "    start_time = time.time()\n",
    "    samples_x, samples_y = lstm_model.generate_sample_sequence(sess, model_params, x_0, steps = steps, \\\n",
    "        obj_func=lambda x: np.array(obj_airfoil_lift_drag(x)).reshape(1,-1) \\\n",
    "    )\n",
    "\n",
    "    sample_y = np.array(sample_y).flatten()\n",
    "\n",
    "    print(\"Min -L/D found %f at %s\" % (sample_y[min_y_idx], sample_x[min_y_idx].flatten()) )\n",
    "    print(\"Took %f mins\" % (( time.time() - start_time ) / 60.0) )\n",
    "    \n",
    "    return samples_x, samples_y\n",
    "\n",
    "def optimize_random(x_0, steps):\n",
    "    samples_x = [x_0]\n",
    "    samples_y = [obj_airfoil_lift_drag(x_0)]\n",
    "    for i in range(steps):\n",
    "        #print(i)\n",
    "        x = np.random.uniform(low=-1.0, high=1.0, size=2)\n",
    "        y = obj_airfoil_lift_drag(x)\n",
    "        \n",
    "        samples_x += [x]\n",
    "        samples_y += [y]\n",
    "        \n",
    "    return samples_x, samples_y\n",
    "\n",
    "def optimize_skopt(x_0, steps):\n",
    "    res = gp_minimize(obj_airfoil_lift_drag, dimensions=[(-1.0,1.0)]*2, n_calls=steps, n_random_starts=10, x0=x_0) \n",
    "    return res.xiters, res.funcvals"
   ]
  },
  {
   "cell_type": "code",
   "execution_count": null,
   "metadata": {
    "collapsed": false
   },
   "outputs": [],
   "source": [
    "#samples_x_lstm, samples_y_lstm = optimize_lstm()\n",
    "samples_x_random, samples_y_random = optimize_random(x_0, steps)\n",
    "#samples_x_skopt, samples_y_skopt = optimize_skopt()"
   ]
  },
  {
   "cell_type": "code",
   "execution_count": null,
   "metadata": {
    "collapsed": false
   },
   "outputs": [],
   "source": [
    "viz.plot_min_curves([sample_y[np.newaxis,:], np.array(y_random)[np.newaxis,:], res.func_vals[np.newaxis,:]],['MIN', 'RANDOM', 'SKOPT'])"
   ]
  },
  {
   "cell_type": "code",
   "execution_count": null,
   "metadata": {
    "collapsed": true
   },
   "outputs": [],
   "source": []
  }
 ],
 "metadata": {
  "anaconda-cloud": {},
  "kernelspec": {
   "display_name": "Python [conda env:tensorflow]",
   "language": "python",
   "name": "conda-env-tensorflow-py"
  },
  "language_info": {
   "codemirror_mode": {
    "name": "ipython",
    "version": 3
   },
   "file_extension": ".py",
   "mimetype": "text/x-python",
   "name": "python",
   "nbconvert_exporter": "python",
   "pygments_lexer": "ipython3",
   "version": "3.5.2"
  }
 },
 "nbformat": 4,
 "nbformat_minor": 2
}
