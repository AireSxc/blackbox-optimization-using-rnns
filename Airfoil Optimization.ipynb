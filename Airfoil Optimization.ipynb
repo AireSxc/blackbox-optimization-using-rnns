{
 "cells": [
  {
   "cell_type": "code",
   "execution_count": 3,
   "metadata": {
    "collapsed": false
   },
   "outputs": [],
   "source": [
    "import airfoil_simulator\n",
    "#import tensorflow as tf\n",
    "import numpy as np\n",
    "#import lstm_model\n",
    "import time"
   ]
  },
  {
   "cell_type": "code",
   "execution_count": 4,
   "metadata": {
    "collapsed": false
   },
   "outputs": [
    {
     "data": {
      "text/plain": [
       "-1"
      ]
     },
     "execution_count": 4,
     "metadata": {},
     "output_type": "execute_result"
    }
   ],
   "source": [
    "airfoil_simulator.objective([-1,-1])"
   ]
  },
  {
   "cell_type": "code",
   "execution_count": null,
   "metadata": {
    "collapsed": true
   },
   "outputs": [],
   "source": [
    "def obj_airfoil_lift_drag(x):\n",
    "    x = np.array(x)\n",
    "    obj_value = -1*airfoil_simulator.objective(x.reshape(-1))\n",
    "    return np.array(obj_value).reshape(1,1)"
   ]
  },
  {
   "cell_type": "code",
   "execution_count": null,
   "metadata": {
    "collapsed": false
   },
   "outputs": [],
   "source": [
    "obj_airfoil_lift_drag([-0.2,-0.1])"
   ]
  },
  {
   "cell_type": "code",
   "execution_count": null,
   "metadata": {
    "collapsed": false
   },
   "outputs": [],
   "source": [
    "# imp.reload(lstm_model) # remove this when it's ready\n",
    "\n",
    "best_model_2d='rnn-cell-2d-1497731697'\n",
    "steps= 30\n",
    "dim = 2\n",
    "x_0 = [-0.1,-0.1]\n",
    "\n",
    "print(\"Starting at %s and optimize for %d steps\" % (starting_point, steps) )\n",
    "\n",
    "starting_point = np.array(x_0).reshape(1,dim)\n",
    "sess, model_params = lstm_model.load_trained_model(best_model_2d)\n",
    "start_time = time.time()\n",
    "sample_x, sample_y = lstm_model.generate_sample_sequence(sess, model_params, starting_point, steps = steps, \\\n",
    "    obj_func=obj_airfoil_lift_drag \\\n",
    ")\n",
    "\n",
    "sample_y = np.array(sample_y).flatten()\n",
    "min_y_idx = np.argmin(sample_y)\n",
    "\n",
    "print(\"Min -L/D found %f at %s\" % (sample_y[min_y_idx], sample_x[min_y_idx].flatten()) )\n",
    "print(\"Took %f mins\" % (( time.time() - start_time ) / 60.0) )"
   ]
  },
  {
   "cell_type": "code",
   "execution_count": null,
   "metadata": {
    "collapsed": false
   },
   "outputs": [],
   "source": [
    "np.array(sample_x).flatten().reshape(-1,2)"
   ]
  },
  {
   "cell_type": "code",
   "execution_count": null,
   "metadata": {
    "collapsed": false
   },
   "outputs": [],
   "source": [
    "sample_y"
   ]
  },
  {
   "cell_type": "code",
   "execution_count": null,
   "metadata": {
    "collapsed": true
   },
   "outputs": [],
   "source": []
  }
 ],
 "metadata": {
  "anaconda-cloud": {},
  "kernelspec": {
   "display_name": "Python [default]",
   "language": "python",
   "name": "python3"
  },
  "language_info": {
   "codemirror_mode": {
    "name": "ipython",
    "version": 3
   },
   "file_extension": ".py",
   "mimetype": "text/x-python",
   "name": "python",
   "nbconvert_exporter": "python",
   "pygments_lexer": "ipython3",
   "version": "3.5.2"
  }
 },
 "nbformat": 4,
 "nbformat_minor": 2
}
