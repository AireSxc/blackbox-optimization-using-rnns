{
 "cells": [
  {
   "cell_type": "code",
   "execution_count": 11,
   "metadata": {
    "collapsed": false
   },
   "outputs": [],
   "source": [
    "import airfoil_simulator\n",
    "import tensorflow as tf\n",
    "import numpy as np\n",
    "import lstm_model\n",
    "import time\n",
    "from skopt import gp_minimize\n",
    "import visualize as viz"
   ]
  },
  {
   "cell_type": "code",
   "execution_count": 2,
   "metadata": {
    "collapsed": true
   },
   "outputs": [],
   "source": [
    "def obj_airfoil_lift_drag(x):\n",
    "    x = np.array(x)\n",
    "    obj_value = -1*airfoil_simulator.objective(x.reshape(-1))/100\n",
    "    return obj_value"
   ]
  },
  {
   "cell_type": "code",
   "execution_count": 3,
   "metadata": {
    "collapsed": true
   },
   "outputs": [],
   "source": [
    "# imp.reload(lstm_model) # remove this when it's ready\n",
    "best_model_2d='rnn-cell-2d-1498485717'\n",
    "steps= 20\n",
    "dim = 2\n",
    "x_0 = np.array([-0.1,-0.1]).reshape(-1,2)"
   ]
  },
  {
   "cell_type": "code",
   "execution_count": 4,
   "metadata": {
    "collapsed": false
   },
   "outputs": [
    {
     "name": "stdout",
     "output_type": "stream",
     "text": [
      "Starting at [[-0.1 -0.1]] and optimize for 20 steps\n",
      "./trained_models/rnn-cell-2d-1498485717\n",
      "Load rnn-cell-2d-1498485717 model\n",
      "+---------------------+-----------------------------------------------+\n",
      "| Parameter           | Value                                         |\n",
      "+---------------------+-----------------------------------------------+\n",
      "| dim                 | 2                                             |\n",
      "| epochs              | 600                                           |\n",
      "| forget_bias         | 5.0                                           |\n",
      "| gp_length           | 0.4714045207910317                            |\n",
      "| learning_rate_final | 0.0001                                        |\n",
      "| learning_rate_init  | 0.005                                         |\n",
      "| loss_function       | MIN                                           |\n",
      "| model_path          | ./trained_models/rnn-cell-2d-1498485717/model |\n",
      "| n_bumps             | 6                                             |\n",
      "| n_hidden            | 100                                           |\n",
      "| n_steps             | 20                                            |\n",
      "| scope               | rnn-cell-2d-1498485717                        |\n",
      "+---------------------+-----------------------------------------------+\n",
      "INFO:tensorflow:Restoring parameters from ./trained_models/rnn-cell-2d-1498485717/model\n",
      "0\n",
      "1\n",
      "2\n",
      "3\n",
      "4\n",
      "5\n",
      "6\n",
      "7\n",
      "8\n",
      "9\n",
      "10\n",
      "11\n",
      "12\n",
      "13\n",
      "14\n",
      "15\n",
      "16\n",
      "17\n",
      "18\n",
      "19\n",
      "Min -L/D found -0.894582 at [-0.58873421  0.63333386]\n",
      "Took 1.468828 mins\n"
     ]
    }
   ],
   "source": [
    "print(\"Starting at %s and optimize for %d steps\" % (x_0, steps) )\n",
    "\n",
    "sess, model_params = lstm_model.load_trained_model(best_model_2d)\n",
    "start_time = time.time()\n",
    "sample_x, sample_y = lstm_model.generate_sample_sequence(sess, model_params, x_0, steps = steps, \\\n",
    "    obj_func=lambda x: np.array(obj_airfoil_lift_drag(x)).reshape(1,-1) \\\n",
    ")\n",
    "\n",
    "sample_y = np.array(sample_y).flatten()\n",
    "min_y_idx = np.argmin(sample_y)\n",
    "\n",
    "print(\"Min -L/D found %f at %s\" % (sample_y[min_y_idx], sample_x[min_y_idx].flatten()) )\n",
    "print(\"Took %f mins\" % (( time.time() - start_time ) / 60.0) )"
   ]
  },
  {
   "cell_type": "code",
   "execution_count": 8,
   "metadata": {
    "collapsed": false
   },
   "outputs": [
    {
     "name": "stdout",
     "output_type": "stream",
     "text": [
      "0\n",
      "1\n",
      "2\n",
      "3\n",
      "4\n",
      "5\n",
      "6\n",
      "7\n",
      "8\n",
      "9\n",
      "10\n",
      "11\n",
      "12\n",
      "13\n",
      "14\n",
      "15\n",
      "16\n",
      "17\n",
      "18\n",
      "19\n",
      "[0.017736369910282955, -0.027554535017221583, -0.380876346082436, -0.02759415833973866, -0.9758985200845666, -0.9471898197242843, 0.01, -0.058635996771589996, -0.8832665330661322, 0.01, -0.10515613652868555, 0.01, 0.01, 0.01, -0.23478977741137677, 0.01, -0.1534015345268542, -0.5747474747474748, -0.7939879759519038, 0.01]\n"
     ]
    }
   ],
   "source": [
    "x_random = []\n",
    "y_random = []\n",
    "for i in range(steps):\n",
    "    print(i)\n",
    "    x_random += [np.random.uniform(low=-1.0, high=1.0, size=2)]\n",
    "    y = obj_airfoil_lift_drag(x_random[-1])\n",
    "    y_random += [y]\n",
    "print(y_random)"
   ]
  },
  {
   "cell_type": "code",
   "execution_count": 9,
   "metadata": {
    "collapsed": false
   },
   "outputs": [],
   "source": [
    "res = gp_minimize(obj_airfoil_lift_drag, dimensions=[(-1.0,1.0)]*2, n_calls=20, n_random_starts=10) "
   ]
  },
  {
   "cell_type": "code",
   "execution_count": 10,
   "metadata": {
    "collapsed": false
   },
   "outputs": [
    {
     "name": "stdout",
     "output_type": "stream",
     "text": [
      "[-0.12748103 -0.6124359  -0.06629221  0.01       -0.34625343  0.01\n",
      "  0.02450185  0.02132701  0.01025641 -0.09394337  0.01       -0.26902128\n",
      " -0.79268559 -0.48169557 -0.80140693 -0.97718341 -0.02253956 -0.91940887\n",
      " -0.98991507 -0.97630181]\n"
     ]
    }
   ],
   "source": [
    "print(res.func_vals)"
   ]
  },
  {
   "cell_type": "code",
   "execution_count": 18,
   "metadata": {
    "collapsed": false
   },
   "outputs": [
    {
     "data": {
      "image/png": "[encoded data removed]",
      "text/plain": [
       "<matplotlib.figure.Figure at 0x2c503665128>"
      ]
     },
     "metadata": {},
     "output_type": "display_data"
    }
   ],
   "source": [
    "viz.plot_min_curves([sample_y[np.newaxis,:], np.array(y_random)[np.newaxis,:], res.func_vals[np.newaxis,:]],['MIN', 'RANDOM', 'SKOPT'])"
   ]
  },
  {
   "cell_type": "code",
   "execution_count": null,
   "metadata": {
    "collapsed": true
   },
   "outputs": [],
   "source": []
  }
 ],
 "metadata": {
  "anaconda-cloud": {},
  "kernelspec": {
   "display_name": "Python [conda env:tensorflow]",
   "language": "python",
   "name": "conda-env-tensorflow-py"
  },
  "language_info": {
   "codemirror_mode": {
    "name": "ipython",
    "version": 3
   },
   "file_extension": ".py",
   "mimetype": "text/x-python",
   "name": "python",
   "nbconvert_exporter": "python",
   "pygments_lexer": "ipython3",
   "version": "3.5.2"
  }
 },
 "nbformat": 4,
 "nbformat_minor": 2
}
