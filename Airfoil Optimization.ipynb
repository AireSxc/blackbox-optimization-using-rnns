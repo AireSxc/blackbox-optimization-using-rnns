{
 "cells": [
  {
   "cell_type": "code",
   "execution_count": 111,
   "metadata": {
    "collapsed": true
   },
   "outputs": [],
   "source": [
    "import airfoil_simulator\n",
    "import tensorflow as tf\n",
    "import numpy as np\n",
    "import lstm_model\n",
    "import time"
   ]
  },
  {
   "cell_type": "code",
   "execution_count": 68,
   "metadata": {},
   "outputs": [
    {
     "data": {
      "text/plain": [
       "-1"
      ]
     },
     "execution_count": 68,
     "metadata": {},
     "output_type": "execute_result"
    }
   ],
   "source": [
    "airfoil_simulator.objective([-1,-1])"
   ]
  },
  {
   "cell_type": "code",
   "execution_count": 134,
   "metadata": {
    "collapsed": true
   },
   "outputs": [],
   "source": [
    "def obj_airfoil_lift_drag(x):\n",
    "    x = np.array(x)\n",
    "    obj_value = -1*airfoil_simulator.objective(x.reshape(-1))\n",
    "    return np.array(obj_value).reshape(1,1)"
   ]
  },
  {
   "cell_type": "code",
   "execution_count": 135,
   "metadata": {},
   "outputs": [
    {
     "data": {
      "text/plain": [
       "array([[-35.17391304]])"
      ]
     },
     "execution_count": 135,
     "metadata": {},
     "output_type": "execute_result"
    }
   ],
   "source": [
    "obj_airfoil_lift_drag([-0.2,-0.1])"
   ]
  },
  {
   "cell_type": "code",
   "execution_count": 136,
   "metadata": {},
   "outputs": [
    {
     "name": "stdout",
     "output_type": "stream",
     "text": [
      "Starting at [[-0.1 -0.1]] and optimize for 30 steps\n",
      "./trained_models/rnn-cell-2d-1497731697\n",
      "Load rnn-cell-2d-1497731697 model\n",
      "+---------------------+-----------------------------------------------+\n",
      "| Parameter           | Value                                         |\n",
      "+---------------------+-----------------------------------------------+\n",
      "| dim                 | 2                                             |\n",
      "| epochs              | 600                                           |\n",
      "| forget_bias         | 5.0                                           |\n",
      "| gp_length           | 0.4714045207910317                            |\n",
      "| learning_rate_final | 0.0001                                        |\n",
      "| learning_rate_init  | 0.005                                         |\n",
      "| loss_function       | MIN                                           |\n",
      "| model_path          | ./trained_models/rnn-cell-2d-1497731697/model |\n",
      "| n_bumps             | 6                                             |\n",
      "| n_hidden            | 100                                           |\n",
      "| n_steps             | 20                                            |\n",
      "| scope               | rnn-cell-2d-1497731697                        |\n",
      "+---------------------+-----------------------------------------------+\n",
      "INFO:tensorflow:Restoring parameters from ./trained_models/rnn-cell-2d-1497731697/model\n",
      "Min -L/D found -89.275053 at [-0.43327171  0.40656972]\n",
      "Took 1.384386 mins\n"
     ]
    }
   ],
   "source": [
    "# imp.reload(lstm_model) # remove this when it's ready\n",
    "\n",
    "best_model_2d='rnn-cell-2d-1497731697'\n",
    "steps= 30\n",
    "dim = 2\n",
    "x_0 = [-0.1,-0.1]\n",
    "\n",
    "print(\"Starting at %s and optimize for %d steps\" % (starting_point, steps) )\n",
    "\n",
    "starting_point = np.array(x_0).reshape(1,dim)\n",
    "sess, model_params = lstm_model.load_trained_model(best_model_2d)\n",
    "start_time = time.time()\n",
    "sample_x, sample_y = lstm_model.generate_sample_sequence(sess, model_params, starting_point, steps = steps, \\\n",
    "    obj_func=obj_airfoil_lift_drag \\\n",
    ")\n",
    "\n",
    "sample_y = np.array(sample_y).flatten()\n",
    "min_y_idx = np.argmin(sample_y)\n",
    "\n",
    "print(\"Min -L/D found %f at %s\" % (sample_y[min_y_idx], sample_x[min_y_idx].flatten()) )\n",
    "print(\"Took %f mins\" % (( time.time() - start_time ) / 60.0) )"
   ]
  },
  {
   "cell_type": "code",
   "execution_count": 137,
   "metadata": {},
   "outputs": [
    {
     "data": {
      "text/plain": [
       "array([[-0.1       , -0.1       ],\n",
       "       [-0.04056527, -0.50768769],\n",
       "       [-0.06366195, -0.72018832],\n",
       "       [-0.11230899, -0.81141412],\n",
       "       [-0.10782368, -0.84135419],\n",
       "       [-0.10101961, -0.84858823],\n",
       "       [-0.09720795, -0.86200374],\n",
       "       [ 0.74546462, -0.72179091],\n",
       "       [ 0.7557084 , -0.5779956 ],\n",
       "       [ 0.7676158 , -0.30789408],\n",
       "       [ 0.73047608, -0.08267315],\n",
       "       [ 0.6079188 ,  0.05495527],\n",
       "       [ 0.28563285,  0.10342833],\n",
       "       [-0.19332938,  0.10043699],\n",
       "       [-0.35942483,  0.28277338],\n",
       "       [-0.39660794,  0.25478691],\n",
       "       [-0.41899604,  0.33561343],\n",
       "       [-0.43076259,  0.39048189],\n",
       "       [-0.43305415,  0.40295106],\n",
       "       [-0.43330002,  0.40560043],\n",
       "       [-0.43330127,  0.40629178],\n",
       "       [-0.43328434,  0.40650254],\n",
       "       [-0.43327171,  0.40656972],\n",
       "       [-0.43326241,  0.40658808],\n",
       "       [-0.43325448,  0.40658826],\n",
       "       [-0.43324733,  0.406582  ],\n",
       "       [-0.43324012,  0.40657371],\n",
       "       [-0.4332332 ,  0.40656459],\n",
       "       [-0.43322635,  0.40655518],\n",
       "       [-0.43321925,  0.40654546],\n",
       "       [-0.43321234,  0.40653569]])"
      ]
     },
     "execution_count": 137,
     "metadata": {},
     "output_type": "execute_result"
    }
   ],
   "source": [
    "np.array(sample_x).flatten().reshape(-1,2)"
   ]
  },
  {
   "cell_type": "code",
   "execution_count": 138,
   "metadata": {},
   "outputs": [
    {
     "data": {
      "text/plain": [
       "array([-40.30785563,  -5.28510116, -12.84402049, -10.98022835,\n",
       "       -10.62955516, -10.53932021,   1.        ,   1.        ,\n",
       "         1.        ,   1.        ,   1.        ,   1.        ,\n",
       "         1.        , -79.55147808, -81.67213115, -73.39037433,\n",
       "       -81.83564568, -87.23698193, -88.96478122, -89.15778252,\n",
       "       -89.23240938, -89.26439232, -89.2750533 , -89.2750533 ,\n",
       "       -89.2750533 , -89.2750533 , -89.2750533 , -89.2750533 ,\n",
       "       -89.2750533 , -89.2750533 , -89.2750533 ])"
      ]
     },
     "execution_count": 138,
     "metadata": {},
     "output_type": "execute_result"
    }
   ],
   "source": [
    "sample_y"
   ]
  },
  {
   "cell_type": "code",
   "execution_count": null,
   "metadata": {
    "collapsed": true
   },
   "outputs": [],
   "source": []
  }
 ],
 "metadata": {
  "kernelspec": {
   "display_name": "Python 3 : NI Project",
   "language": "python",
   "name": "python-3-ni-project"
  },
  "language_info": {
   "codemirror_mode": {
    "name": "ipython",
    "version": 3
   },
   "file_extension": ".py",
   "mimetype": "text/x-python",
   "name": "python",
   "nbconvert_exporter": "python",
   "pygments_lexer": "ipython3",
   "version": "3.5.1"
  }
 },
 "nbformat": 4,
 "nbformat_minor": 2
}
