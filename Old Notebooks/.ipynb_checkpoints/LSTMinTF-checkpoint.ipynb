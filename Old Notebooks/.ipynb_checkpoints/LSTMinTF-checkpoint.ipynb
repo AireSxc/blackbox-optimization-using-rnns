{
 "cells": [
  {
   "cell_type": "code",
   "execution_count": 1,
   "metadata": {
    "collapsed": true
   },
   "outputs": [],
   "source": [
    "import tensorflow as tf\n",
    "import numpy as np"
   ]
  },
  {
   "cell_type": "code",
   "execution_count": 2,
   "metadata": {
    "collapsed": false
   },
   "outputs": [],
   "source": [
    "def fun(x):\n",
    "    return x**2+1"
   ]
  },
  {
   "cell_type": "code",
   "execution_count": 3,
   "metadata": {
    "collapsed": false
   },
   "outputs": [],
   "source": [
    "n_hidden = 20\n",
    "size = 13\n",
    "\n",
    "\n",
    "x_0 = -0.0*tf.ones([size, 1])\n",
    "h_0 = tf.ones([size, n_hidden])#tf.truncated_normal([size, n_hidden],stddev=0.1)\n",
    "c_0 = tf.ones([size, n_hidden])#tf.truncated_normal([size, n_hidden],stddev=0.1)\n",
    "\n",
    "state = (c_0, h_0)\n",
    "x = x_0\n",
    "y = fun(x)\n",
    "\n",
    "weights = {\n",
    "    'out': tf.Variable(tf.random_normal([n_hidden, 1]))\n",
    "}\n",
    "biases = {\n",
    "    'out': tf.Variable(tf.random_normal([1]))\n",
    "}\n"
   ]
  },
  {
   "cell_type": "code",
   "execution_count": 4,
   "metadata": {
    "collapsed": false
   },
   "outputs": [],
   "source": [
    "cell = tf.contrib.rnn.LSTMCell(num_units = 20, reuse=None)\n",
    "cell(tf.concat([x, y], 1), state, scope='rnn_cell')\n",
    "cell = tf.contrib.rnn.LSTMCell(num_units = 20, reuse=True)\n",
    "\n",
    "for i in range(3):\n",
    "    h, state = cell(tf.concat([x, y], 1), state, scope='rnn_cell')\n",
    "    x = tf.matmul(h, weights['out']) + biases['out']\n",
    "    y = fun(x)"
   ]
  },
  {
   "cell_type": "code",
   "execution_count": 5,
   "metadata": {
    "collapsed": true
   },
   "outputs": [],
   "source": [
    "sess = tf.InteractiveSession()\n",
    "sess.run(tf.global_variables_initializer())"
   ]
  },
  {
   "cell_type": "code",
   "execution_count": 6,
   "metadata": {
    "collapsed": false
   },
   "outputs": [],
   "source": [
    "xx = sess.run([x])"
   ]
  },
  {
   "cell_type": "code",
   "execution_count": 7,
   "metadata": {
    "collapsed": false
   },
   "outputs": [
    {
     "name": "stdout",
     "output_type": "stream",
     "text": [
      "[array([[ 3.79402566],\n",
      "       [ 3.79402566],\n",
      "       [ 3.79402566],\n",
      "       [ 3.79402566],\n",
      "       [ 3.79402566],\n",
      "       [ 3.79402566],\n",
      "       [ 3.79402566],\n",
      "       [ 3.79402566],\n",
      "       [ 3.79402566],\n",
      "       [ 3.79402566],\n",
      "       [ 3.79402566],\n",
      "       [ 3.79402566],\n",
      "       [ 3.79402566]], dtype=float32)]\n"
     ]
    }
   ],
   "source": [
    "print(xx)"
   ]
  },
  {
   "cell_type": "code",
   "execution_count": null,
   "metadata": {
    "collapsed": true
   },
   "outputs": [],
   "source": []
  }
 ],
 "metadata": {
  "anaconda-cloud": {},
  "kernelspec": {
   "display_name": "Python [conda env:tensorflow]",
   "language": "python",
   "name": "conda-env-tensorflow-py"
  },
  "language_info": {
   "codemirror_mode": {
    "name": "ipython",
    "version": 3
   },
   "file_extension": ".py",
   "mimetype": "text/x-python",
   "name": "python",
   "nbconvert_exporter": "python",
   "pygments_lexer": "ipython3",
   "version": "3.5.2"
  }
 },
 "nbformat": 4,
 "nbformat_minor": 1
}
