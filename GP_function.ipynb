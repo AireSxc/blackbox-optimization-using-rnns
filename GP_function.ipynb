{
 "cells": [
  {
   "cell_type": "code",
   "execution_count": 1,
   "metadata": {
    "collapsed": true
   },
   "outputs": [],
   "source": [
    "%matplotlib qt5\n",
    "import matplotlib.pyplot as plt\n",
    "import numpy as np\n"
   ]
  },
  {
   "cell_type": "code",
   "execution_count": 2,
   "metadata": {
    "collapsed": true
   },
   "outputs": [],
   "source": [
    "def kernel(x1,x2,l):\n",
    "    return np.exp(-1.0/l**2*(x1 - x2[:, None])**2)\n",
    "\n",
    "def evalGP(X,A,l,x):\n",
    "    K_xX = kernel(x,X,l)\n",
    "    mu = K_xX.T @ A\n",
    "    \n",
    "    return mu"
   ]
  },
  {
   "cell_type": "code",
   "execution_count": 13,
   "metadata": {
    "collapsed": false
   },
   "outputs": [
    {
     "name": "stdout",
     "output_type": "stream",
     "text": [
      "0\n",
      "1\n",
      "2\n",
      "3\n"
     ]
    }
   ],
   "source": [
    "# Create Random fixed points\n",
    "n_samples = 11\n",
    "X = np.linspace(0,10,n_samples)\n",
    "\n",
    "for i, l in enumerate([2,1,0.5,0.4]):\n",
    "\n",
    "    print(i)\n",
    "    Y = -np.random.uniform(size=n_samples)\n",
    "\n",
    "    # Compute and invert the GP Kernel Matrix\n",
    "    K_XX = kernel(X,X,l)\n",
    "    A = np.linalg.inv(K_XX) @ Y\n",
    "\n",
    "    # Evaluate the GP on the data x\n",
    "    x = np.linspace(-5,15,200)\n",
    "    y = evalGP(X,A,l,x)\n",
    "    \n",
    "    plt.subplot(2,2,i+1)\n",
    "    plt.plot(x,y,linewidth=2,label=\"length scale = \"+str(l))\n",
    "    plt.scatter(X,Y,marker=\"x\",color=\"r\",linewidth=2)\n",
    "    plt.legend()\n",
    "    #plt.title(\"length scale = \"+str(l))\n",
    "\n",
    "plt.show()"
   ]
  },
  {
   "cell_type": "code",
   "execution_count": 4,
   "metadata": {
    "collapsed": false
   },
   "outputs": [],
   "source": [
    "plt.hold(True)\n",
    "plt.scatter(X,Y)\n",
    "plt.plot(x,y)\n",
    "plt.show()"
   ]
  },
  {
   "cell_type": "code",
   "execution_count": 6,
   "metadata": {
    "collapsed": false
   },
   "outputs": [
    {
     "name": "stdout",
     "output_type": "stream",
     "text": [
      "[-0.01428325]\n"
     ]
    }
   ],
   "source": [
    "# Evaluate the GP at one point\n",
    "print(evalGP(X,A,l,1.5))"
   ]
  },
  {
   "cell_type": "code",
   "execution_count": null,
   "metadata": {
    "collapsed": true
   },
   "outputs": [],
   "source": []
  }
 ],
 "metadata": {
  "anaconda-cloud": {},
  "kernelspec": {
   "display_name": "Python [conda root]",
   "language": "python",
   "name": "conda-root-py"
  },
  "language_info": {
   "codemirror_mode": {
    "name": "ipython",
    "version": 3
   },
   "file_extension": ".py",
   "mimetype": "text/x-python",
   "name": "python",
   "nbconvert_exporter": "python",
   "pygments_lexer": "ipython3",
   "version": "3.5.2"
  }
 },
 "nbformat": 4,
 "nbformat_minor": 1
}
