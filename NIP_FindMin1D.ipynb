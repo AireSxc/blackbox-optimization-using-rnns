{
 "cells": [
  {
   "cell_type": "code",
   "execution_count": 1,
   "metadata": {
    "collapsed": true
   },
   "outputs": [],
   "source": [
    "import tensorflow as tf\n",
    "import numpy as np\n",
    "import matplotlib.pyplot as plt"
   ]
  },
  {
   "cell_type": "code",
   "execution_count": 2,
   "metadata": {
    "collapsed": true
   },
   "outputs": [],
   "source": [
    "def func1(x):\n",
    "    return (6*x-2)**2*np.sin(12*x-4)"
   ]
  },
  {
   "cell_type": "code",
   "execution_count": 3,
   "metadata": {
    "collapsed": false
   },
   "outputs": [],
   "source": [
    "n_grid = 1000\n",
    "x_grid = np.linspace(0,1,n_grid)\n",
    "y_grid = func1(x_grid)"
   ]
  },
  {
   "cell_type": "code",
   "execution_count": 52,
   "metadata": {
    "collapsed": false
   },
   "outputs": [],
   "source": [
    "# Define Model\n",
    "x = tf.placeholder(shape=[None, 1],dtype=tf.float32)\n",
    "y = tf.placeholder(shape=[None, 1],dtype=tf.float32)\n",
    "\n",
    "W_1 = tf.Variable(tf.truncated_normal(shape=[1, 127],stddev=0.5))\n",
    "b_1 = tf.Variable(tf.truncated_normal([127],stddev=0.5))\n",
    "W_2 = tf.Variable(tf.truncated_normal([127, 127],stddev=0.5))\n",
    "b_2 = tf.Variable(tf.truncated_normal([127],stddev=0.5))\n",
    "W_out = tf.Variable(tf.truncated_normal([127, 1],stddev=0.5))\n",
    "b_out = tf.Variable(tf.truncated_normal([1],stddev=0.5))\n",
    "\n",
    "y_predict = tf.matmul(tf.sin(tf.matmul(tf.sin(tf.matmul(x, W_1)+b_1), W_2) + b_2),W_out)+b_out"
   ]
  },
  {
   "cell_type": "code",
   "execution_count": 71,
   "metadata": {
    "collapsed": true
   },
   "outputs": [],
   "source": [
    "sess = tf.InteractiveSession()\n",
    "sess.run(tf.global_variables_initializer())"
   ]
  },
  {
   "cell_type": "code",
   "execution_count": 72,
   "metadata": {
    "collapsed": false
   },
   "outputs": [],
   "source": [
    "y_p = sess.run(y_predict, feed_dict={x:x_grid.reshape(n_grid,1)}).reshape(n_grid,1)"
   ]
  },
  {
   "cell_type": "code",
   "execution_count": 73,
   "metadata": {
    "collapsed": false
   },
   "outputs": [
    {
     "data": {
      "image/png": "[encoded data removed]",
      "text/plain": [
       "<matplotlib.figure.Figure at 0x2a17c2b41d0>"
      ]
     },
     "metadata": {},
     "output_type": "display_data"
    }
   ],
   "source": [
    "plt.hold(True)\n",
    "plt.plot(x_grid,y_p)\n",
    "plt.show()"
   ]
  },
  {
   "cell_type": "code",
   "execution_count": 99,
   "metadata": {
    "collapsed": false
   },
   "outputs": [],
   "source": [
    "weights = sess.run([W_1, b_1, W_2, b_2, W_out, b_out])\n",
    "w = []\n",
    "for x in weights:\n",
    "    for e in x.reshape(-1):\n",
    "        w += [e]"
   ]
  },
  {
   "cell_type": "code",
   "execution_count": 101,
   "metadata": {
    "collapsed": false
   },
   "outputs": [
    {
     "data": {
      "text/plain": [
       "16638"
      ]
     },
     "execution_count": 101,
     "metadata": {},
     "output_type": "execute_result"
    }
   ],
   "source": [
    "len(w)"
   ]
  },
  {
   "cell_type": "code",
   "execution_count": null,
   "metadata": {
    "collapsed": true
   },
   "outputs": [],
   "source": []
  }
 ],
 "metadata": {
  "anaconda-cloud": {},
  "kernelspec": {
   "display_name": "Python [conda root]",
   "language": "python",
   "name": "conda-root-py"
  },
  "language_info": {
   "codemirror_mode": {
    "name": "ipython",
    "version": 3
   },
   "file_extension": ".py",
   "mimetype": "text/x-python",
   "name": "python",
   "nbconvert_exporter": "python",
   "pygments_lexer": "ipython3",
   "version": "3.5.2"
  }
 },
 "nbformat": 4,
 "nbformat_minor": 1
}
