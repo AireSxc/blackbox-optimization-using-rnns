{
 "cells": [
  {
   "cell_type": "code",
   "execution_count": 20,
   "metadata": {},
   "outputs": [
    {
     "name": "stdout",
     "output_type": "stream",
     "text": [
      "Requirement already satisfied: numpy in /Users/heytitle/projects/neural-network-project/lib/python2.7/site-packages\r\n",
      "Requirement already satisfied: scipy in /Users/heytitle/projects/neural-network-project/lib/python2.7/site-packages\r\n",
      "Requirement already satisfied: pymongo in /Users/heytitle/projects/neural-network-project/lib/python2.7/site-packages\r\n",
      "Requirement already satisfied: weave in /Users/heytitle/projects/neural-network-project/lib/python2.7/site-packages\r\n"
     ]
    }
   ],
   "source": [
    "!pip install numpy scipy pymongo weave pymongo\n",
    "#!pip install -e /Users/heytitle/projects/neural-network-project/Spearmint\n",
    "#!pip install git+git://github.com/HIPS/Spearmint.git"
   ]
  },
  {
   "cell_type": "code",
   "execution_count": 26,
   "metadata": {},
   "outputs": [
    {
     "name": "stdout",
     "output_type": "stream",
     "text": [
      "pip 9.0.1 from /Users/heytitle/projects/neural-network-project/lib/python2.7/site-packages (python 2.7)\r\n"
     ]
    }
   ],
   "source": [
    "!python -m pip --version "
   ]
  },
  {
   "cell_type": "code",
   "execution_count": null,
   "metadata": {
    "collapsed": true
   },
   "outputs": [],
   "source": []
  }
 ],
 "metadata": {
  "kernelspec": {
   "display_name": "Python 2.7",
   "language": "python",
   "name": "python2.7"
  },
  "language_info": {
   "codemirror_mode": {
    "name": "ipython",
    "version": 2
   },
   "file_extension": ".py",
   "mimetype": "text/x-python",
   "name": "python",
   "nbconvert_exporter": "python",
   "pygments_lexer": "ipython2",
   "version": "2.7.10"
  }
 },
 "nbformat": 4,
 "nbformat_minor": 2
}
