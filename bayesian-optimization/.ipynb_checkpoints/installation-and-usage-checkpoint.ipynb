{
 "cells": [
  {
   "cell_type": "markdown",
   "metadata": {},
   "source": [
    "## Prerequisite\n",
    "- Python 2.7 kernel\n",
    "- MongDB"
   ]
  },
  {
   "cell_type": "code",
   "execution_count": 1,
   "metadata": {},
   "outputs": [
    {
     "name": "stdout",
     "output_type": "stream",
     "text": [
      "Requirement already satisfied: numpy in /Users/heytitle/projects/neural-network-project/python2-env/lib/python2.7/site-packages\r\n",
      "Requirement already satisfied: scipy in /Users/heytitle/projects/neural-network-project/python2-env/lib/python2.7/site-packages\r\n",
      "Requirement already satisfied: weave in /Users/heytitle/projects/neural-network-project/python2-env/lib/python2.7/site-packages\r\n",
      "Requirement already satisfied: pymongo in /Users/heytitle/projects/neural-network-project/python2-env/lib/python2.7/site-packages\r\n"
     ]
    }
   ],
   "source": [
    "!pip install numpy scipy weave pymongo"
   ]
  },
  {
   "cell_type": "code",
   "execution_count": 6,
   "metadata": {},
   "outputs": [
    {
     "name": "stdout",
     "output_type": "stream",
     "text": [
      "Cloning into 'Spearmint'...\n",
      "remote: Counting objects: 745, done.\u001b[K\n",
      "remote: Total 745 (delta 0), reused 0 (delta 0), pack-reused 745\u001b[K\n",
      "Receiving objects: 100% (745/745), 1.56 MiB | 275.00 KiB/s, done.\n",
      "Resolving deltas: 100% (460/460), done.\n",
      "Checking connectivity... done.\n"
     ]
    }
   ],
   "source": [
    "!git clone git@github.com:HIPS/Spearmint.git"
   ]
  },
  {
   "cell_type": "code",
   "execution_count": 7,
   "metadata": {},
   "outputs": [
    {
     "name": "stdout",
     "output_type": "stream",
     "text": [
      "Obtaining file:///Users/heytitle/projects/neural-network-project/bayesian-optimization/Spearmint\n",
      "Installing collected packages: spearmint\n",
      "  Running setup.py develop for spearmint\n",
      "Successfully installed spearmint\n"
     ]
    }
   ],
   "source": [
    "!pip install -e Spearmint"
   ]
  },
  {
   "cell_type": "markdown",
   "metadata": {},
   "source": [
    "### Replace \"scipy.weave\" module with \"weave\""
   ]
  },
  {
   "cell_type": "code",
   "execution_count": 15,
   "metadata": {},
   "outputs": [],
   "source": [
    "!perl -p -i -e 's/scipy.weave/weave/g' Spearmint/spearmint/*.py Spearmint/spearmint/*/*.py"
   ]
  },
  {
   "cell_type": "markdown",
   "metadata": {},
   "source": [
    "## Usage"
   ]
  },
  {
   "cell_type": "code",
   "execution_count": 18,
   "metadata": {},
   "outputs": [
    {
     "name": "stdout",
     "output_type": "stream",
     "text": [
      "Using database at localhost.\n",
      "Fitting GP for main task...\n",
      "Getting suggestion...\n",
      "\n",
      "Minimum expected objective value under model is -51.56863 (+/- 138.00405), at location:\n",
      "                NAME          TYPE       VALUE\n",
      "                ----          ----       -----\n",
      "                y             float      10.209961   \n",
      "                x             float      -4.135742   \n",
      "\n",
      "Minimum of observed values is 17.508300, at location:\n",
      "                NAME          TYPE       VALUE\n",
      "                ----          ----       -----\n",
      "                y             float      15.000000   \n",
      "                x             float      -5.000000   \n",
      "\n",
      "Suggestion:     NAME          TYPE       VALUE\n",
      "                ----          ----       -----\n",
      "                y             float      10.041467   \n",
      "                x             float      -3.877459   \n",
      "Submitted job 7 with local scheduler (process id: 26217).\n",
      "Status: 1 pending, 6 complete.\n",
      "\n",
      "^C\n",
      "Traceback (most recent call last):\n",
      "  File \"Spearmint/spearmint/main.py\", line 494, in <module>\n",
      "    main()\n",
      "  File \"Spearmint/spearmint/main.py\", line 309, in main\n",
      "    time.sleep(options.get('polling-time', 5))\n",
      "KeyboardInterrupt\n"
     ]
    }
   ],
   "source": [
    "# Make sure MongoDB is running\n",
    "!python Spearmint/spearmint/main.py Spearmint/examples/simple"
   ]
  },
  {
   "cell_type": "code",
   "execution_count": null,
   "metadata": {
    "collapsed": true
   },
   "outputs": [],
   "source": []
  }
 ],
 "metadata": {
  "kernelspec": {
   "display_name": "Python 2.7",
   "language": "python",
   "name": "python2.7"
  },
  "language_info": {
   "codemirror_mode": {
    "name": "ipython",
    "version": 2
   },
   "file_extension": ".py",
   "mimetype": "text/x-python",
   "name": "python",
   "nbconvert_exporter": "python",
   "pygments_lexer": "ipython2",
   "version": "2.7.10"
  }
 },
 "nbformat": 4,
 "nbformat_minor": 2
}
