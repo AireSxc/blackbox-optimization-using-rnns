{
 "cells": [
  {
   "cell_type": "code",
   "execution_count": 2,
   "metadata": {},
   "outputs": [
    {
     "name": "stdout",
     "output_type": "stream",
     "text": [
      "Requirement already satisfied: numpy in /Users/heytitle/projects/neural-network-project/python3-env/lib/python3.5/site-packages\n",
      "Requirement already satisfied: scipy in /Users/heytitle/projects/neural-network-project/python3-env/lib/python3.5/site-packages\n",
      "Collecting weave\n",
      "  Using cached weave-0.16.0.tar.gz\n",
      "    Complete output from command python setup.py egg_info:\n",
      "    Traceback (most recent call last):\n",
      "      File \"<string>\", line 1, in <module>\n",
      "      File \"/private/var/folders/5v/s381z0s504jf3xjdmglrs7mc0000gn/T/pip-build-8xf88gyn/weave/setup.py\", line 24, in <module>\n",
      "        raise RuntimeError(\"Python version 2.6 or 2.7 required.\")\n",
      "    RuntimeError: Python version 2.6 or 2.7 required.\n",
      "    \n",
      "    ----------------------------------------\n",
      "\u001b[31mCommand \"python setup.py egg_info\" failed with error code 1 in /private/var/folders/5v/s381z0s504jf3xjdmglrs7mc0000gn/T/pip-build-8xf88gyn/weave/\u001b[0m\n"
     ]
    }
   ],
   "source": [
    "# Installing deps\n",
    "\n",
    "!pip install numpy scipy weave"
   ]
  },
  {
   "cell_type": "code",
   "execution_count": 3,
   "metadata": {},
   "outputs": [
    {
     "name": "stdout",
     "output_type": "stream",
     "text": [
      "Python 3.5.1\r\n"
     ]
    }
   ],
   "source": [
    "!python --version"
   ]
  },
  {
   "cell_type": "code",
   "execution_count": 2,
   "metadata": {},
   "outputs": [
    {
     "name": "stdout",
     "output_type": "stream",
     "text": [
      "Requirement already satisfied: weave in /Users/heytitle/projects/neural-network-project/lib/python2.7/site-packages\r\n"
     ]
    }
   ],
   "source": [
    "!pip install weave"
   ]
  },
  {
   "cell_type": "code",
   "execution_count": 3,
   "metadata": {},
   "outputs": [
    {
     "name": "stdout",
     "output_type": "stream",
     "text": [
      "Traceback (most recent call last):\r\n",
      "  File \"../Spearmint/spearmint/main.py\", line 494, in <module>\r\n",
      "    main()\r\n",
      "  File \"../Spearmint/spearmint/main.py\", line 254, in main\r\n",
      "    chooser_module = importlib.import_module('spearmint.choosers.' + options['chooser'])\r\n",
      "  File \"/System/Library/Frameworks/Python.framework/Versions/2.7/lib/python2.7/importlib/__init__.py\", line 37, in import_module\r\n",
      "    __import__(name)\r\n",
      "  File \"/Users/heytitle/projects/neural-network-project/Spearmint/spearmint/choosers/default_chooser.py\", line 197, in <module>\r\n",
      "    from ..models.abstract_model import function_over_hypers\r\n",
      "  File \"/Users/heytitle/projects/neural-network-project/Spearmint/spearmint/models/__init__.py\", line 1, in <module>\r\n",
      "    from gp            import GP\r\n",
      "  File \"/Users/heytitle/projects/neural-network-project/Spearmint/spearmint/models/gp.py\", line 194, in <module>\r\n",
      "    from ..kernels                import Matern52, Noise, Scale, SumKernel, TransformKernel\r\n",
      "  File \"/Users/heytitle/projects/neural-network-project/Spearmint/spearmint/kernels/__init__.py\", line 1, in <module>\r\n",
      "    from matern           import Matern52\r\n",
      "  File \"/Users/heytitle/projects/neural-network-project/Spearmint/spearmint/kernels/matern.py\", line 187, in <module>\r\n",
      "    import kernel_utils\r\n",
      "  File \"/Users/heytitle/projects/neural-network-project/Spearmint/spearmint/kernels/kernel_utils.py\", line 187, in <module>\r\n",
      "    import scipy.weave\r\n",
      "ImportError: No module named weave\r\n"
     ]
    }
   ],
   "source": [
    "!python ../Spearmint/spearmint/main.py ../Spearmint/examples/simple/"
   ]
  },
  {
   "cell_type": "code",
   "execution_count": 5,
   "metadata": {},
   "outputs": [
    {
     "ename": "ImportError",
     "evalue": "No module named 'scipy'",
     "output_type": "error",
     "traceback": [
      "\u001b[0;31m---------------------------------------------------------------------------\u001b[0m",
      "\u001b[0;31mImportError\u001b[0m                               Traceback (most recent call last)",
      "\u001b[0;32m<ipython-input-5-a448081f40e2>\u001b[0m in \u001b[0;36m<module>\u001b[0;34m()\u001b[0m\n\u001b[0;32m----> 1\u001b[0;31m \u001b[0;32mfrom\u001b[0m \u001b[0mscipy\u001b[0m \u001b[0;32mimport\u001b[0m \u001b[0mspecial\u001b[0m\u001b[0;34m,\u001b[0m \u001b[0moptimize\u001b[0m\u001b[0;34m\u001b[0m\u001b[0m\n\u001b[0m",
      "\u001b[0;31mImportError\u001b[0m: No module named 'scipy'"
     ]
    }
   ],
   "source": [
    "from scipy import special, optimize"
   ]
  },
  {
   "cell_type": "code",
   "execution_count": 4,
   "metadata": {},
   "outputs": [
    {
     "name": "stdout",
     "output_type": "stream",
     "text": [
      "/Users/heytitle/Library/Jupyter\n"
     ]
    }
   ],
   "source": [
    "from jupyter_core.paths import jupyter_data_dir\n",
    "print(jupyter_data_dir())\n"
   ]
  },
  {
   "cell_type": "code",
   "execution_count": 1,
   "metadata": {},
   "outputs": [
    {
     "ename": "ImportError",
     "evalue": "No module named 'numpy'",
     "output_type": "error",
     "traceback": [
      "\u001b[0;31m---------------------------------------------------------------------------\u001b[0m",
      "\u001b[0;31mImportError\u001b[0m                               Traceback (most recent call last)",
      "\u001b[0;32m<ipython-input-1-5a0bd626bb1d>\u001b[0m in \u001b[0;36m<module>\u001b[0;34m()\u001b[0m\n\u001b[0;32m----> 1\u001b[0;31m \u001b[0;32mimport\u001b[0m \u001b[0mnumpy\u001b[0m\u001b[0;34m\u001b[0m\u001b[0m\n\u001b[0m",
      "\u001b[0;31mImportError\u001b[0m: No module named 'numpy'"
     ]
    }
   ],
   "source": [
    "import numpy"
   ]
  },
  {
   "cell_type": "code",
   "execution_count": 2,
   "metadata": {},
   "outputs": [
    {
     "name": "stdout",
     "output_type": "stream",
     "text": [
      "/Users/heytitle/projects/neural-network-project/bin/python\r\n"
     ]
    }
   ],
   "source": [
    "!which python"
   ]
  },
  {
   "cell_type": "code",
   "execution_count": null,
   "metadata": {
    "collapsed": true
   },
   "outputs": [],
   "source": []
  }
 ],
 "metadata": {
  "kernelspec": {
   "display_name": "Python 2.7",
   "language": "python",
   "name": "python2.7"
  },
  "language_info": {
   "codemirror_mode": {
    "name": "ipython",
    "version": 2
   },
   "file_extension": ".py",
   "mimetype": "text/x-python",
   "name": "python",
   "nbconvert_exporter": "python",
   "pygments_lexer": "ipython2",
   "version": "2.7.10"
  }
 },
 "nbformat": 4,
 "nbformat_minor": 2
}
