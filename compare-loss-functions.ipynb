{
 "cells": [
  {
   "cell_type": "code",
   "execution_count": 1,
   "metadata": {
    "collapsed": true
   },
   "outputs": [],
   "source": [
    "%matplotlib qt5\n",
    "\n",
    "import numpy as np\n",
    "import tensorflow as tf\n",
    "\n",
    "import matplotlib.pyplot as plt\n",
    "import utils\n",
    "import gpfunctions as gp\n",
    "import lstm_model\n",
    "tf.logging.set_verbosity(tf.logging.ERROR)"
   ]
  },
  {
   "cell_type": "code",
   "execution_count": 2,
   "metadata": {
    "collapsed": false
   },
   "outputs": [
    {
     "name": "stdout",
     "output_type": "stream",
     "text": [
      "(2, 10000, 1)\n"
     ]
    }
   ],
   "source": [
    "DIM=2\n",
    "N_BUMPS = 6\n",
    "LENGTH = 2/N_BUMPS*np.sqrt(DIM)\n",
    "\n",
    "X_PLOT_RANGE = 100\n",
    "X_PLOT_LIMIT = 1.2\n",
    "\n",
    "XX1 = np.linspace(-X_PLOT_LIMIT, X_PLOT_LIMIT, X_PLOT_RANGE)\n",
    "XX2 = np.linspace(-X_PLOT_LIMIT, X_PLOT_LIMIT, X_PLOT_RANGE)\n",
    "XX = np.array(np.meshgrid(XX1,XX2)).T.reshape(1,-1,2)\n",
    "print(XX.T.shape)\n",
    "X_2d, A_2d, Min_2d, Max_2d = utils.loadData(DIM, 'testing', kernel = 'rbf')"
   ]
  },
  {
   "cell_type": "code",
   "execution_count": 3,
   "metadata": {
    "collapsed": false
   },
   "outputs": [
    {
     "name": "stdout",
     "output_type": "stream",
     "text": [
      "[[-1.2        -1.2       ]\n",
      " [-1.2        -1.17575758]\n",
      " [-1.2        -1.15151515]\n",
      " ..., \n",
      " [ 1.2         1.15151515]\n",
      " [ 1.2         1.17575758]\n",
      " [ 1.2         1.2       ]]\n"
     ]
    }
   ],
   "source": [
    "print(XX[0,:])"
   ]
  },
  {
   "cell_type": "code",
   "execution_count": 4,
   "metadata": {
    "collapsed": true
   },
   "outputs": [],
   "source": [
    "def plot_gp_function(f_values, sampling_points, colorbar=False):\n",
    "    \n",
    "    extend = [-X_PLOT_LIMIT,X_PLOT_LIMIT,-X_PLOT_LIMIT,X_PLOT_LIMIT]\n",
    "    f_values = f_values.reshape(X_PLOT_RANGE,X_PLOT_RANGE).T\n",
    "\n",
    "    plt.imshow(f_values, cmap='hot', interpolation='nearest', extent=extend, origin=\"lower\", vmin=-1, vmax=1)\n",
    "   \n",
    "    if colorbar:\n",
    "        plt.colorbar()\n",
    "\n",
    "    plt.xlabel('x1')\n",
    "    plt.ylabel('x2')\n",
    "    \n",
    "    plt.scatter(sampling_points[:,0], sampling_points[:,1], color = \"green\", marker = \"x\")\n",
    "    for i in range(len(sampling_points)):\n",
    "        curr = sampling_points[i]\n",
    "        plt.text(curr[0], curr[1], str(i), fontsize=24, color=\"black\")\n",
    "        \n",
    "def plot_line_mark(x1,y1, limit=1):\n",
    "    X_PLOT_LIMIT = limit\n",
    "    plt.plot([x1, x1], [-X_PLOT_LIMIT, X_PLOT_LIMIT], 'w-', lw=0.5)\n",
    "    plt.plot([-X_PLOT_LIMIT, X_PLOT_LIMIT], [y1,y1] , 'w-', lw=0.5)"
   ]
  },
  {
   "cell_type": "code",
   "execution_count": 5,
   "metadata": {
    "collapsed": true
   },
   "outputs": [],
   "source": [
    "def evaluate_gp_ith_with_model(data_index,model,dim, debug=False):    \n",
    "\n",
    "    data_Xt = X_2d[data_index]\n",
    "    data_At  = A_2d[data_index].reshape(1,-1,1)\n",
    "    data_mint = Min_2d[data_index].reshape(-1,1)\n",
    "    data_maxt = Max_2d[data_index].reshape(-1,1)\n",
    "\n",
    "    res = None\n",
    "\n",
    "    model_params = lstm_model.load_model_params(model)\n",
    "    \n",
    "    with tf.Session() as sess:\n",
    "        params_dict = {\n",
    "            'n_bumps': model_params['n_bumps'],\n",
    "            'dim' : model_params['dim'],\n",
    "            'n_hidden': model_params['n_hidden'],\n",
    "            'forget_bias': model_params['forget_bias'],\n",
    "            'n_steps': model_params['n_steps'],\n",
    "            'l': model_params['gp_length'],\n",
    "            'scope': model_params['scope']\n",
    "        }\n",
    "        \n",
    "        Xt, At, mint, maxt, samples_x, samples_y, x_0,_, _ = lstm_model.build_training_graph(**params_dict)\n",
    "        \n",
    "        saver = tf.train.Saver()\n",
    "        saver.restore(sess, model_params['model_path'])\n",
    "\n",
    "        feed_dict = {\n",
    "            Xt: data_Xt.reshape(1,-1,dim),\n",
    "            At: data_At,\n",
    "            mint: data_mint,\n",
    "            maxt: data_maxt,\n",
    "            x_0: np.array([-1,-1]).reshape(1,-1)\n",
    "        }\n",
    "\n",
    "        \n",
    "        sample_y, sample_x = sess.run([samples_y, samples_x], feed_dict=feed_dict)\n",
    "        sample_y = np.array(sample_y).reshape(-1,1).T\n",
    "        sample_x = np.array(sample_x).reshape(-1,1, model_params['dim']).transpose((1,0,2)).reshape(-1,model_params['dim'])\n",
    "        return sample_y, sample_x"
   ]
  },
  {
   "cell_type": "code",
   "execution_count": 6,
   "metadata": {
    "collapsed": false
   },
   "outputs": [],
   "source": [
    "def compute_gp_function_values(xx, data_idx=1, kernel='rbf'):\n",
    "    X = np.expand_dims(X_2d[data_idx], axis=0)\n",
    "    A = A_2d[data_idx]\n",
    "    miv = Min_2d[data_idx]\n",
    "    mxv = Max_2d[data_idx]\n",
    "\n",
    "    y = gp.normalized_gp_function('np', X,A, miv, mxv, l=LENGTH, kernel = gp.kernel_function(kernel), x = xx)\n",
    "    return y\n",
    "\n",
    "def plot_loss_function_on_gp( loss, data_idx=300, kernel='rbf' ):\n",
    "    model = utils.get_trained_model(dim=2, kernel=kernel, loss=loss)    \n",
    "    \n",
    "    f_values = compute_gp_function_values(XX, data_idx=data_idx, kernel=kernel)\n",
    "    \n",
    "    sample_y, sample_x = evaluate_gp_ith_with_model(data_idx, model, dim=2)\n",
    "    min_idx = np.argmin(sample_y)\n",
    "    plot_gp_function( f_values, sample_x)\n",
    "    plt.title('LSTM-%s' % loss )\n",
    "    plot_line_mark(*sample_x[min_idx, :])\n",
    "\n",
    "plot_loss_function_on_gp(loss='MIN')"
   ]
  },
  {
   "cell_type": "code",
   "execution_count": 7,
   "metadata": {
    "collapsed": false
   },
   "outputs": [],
   "source": [
    "def plot_with_several_data(loss='MIN', data= [10,111,20,30,1111,999,888,400]):\n",
    "    plt.figure(figsize=(20,10))\n",
    "    count = 1\n",
    "    for i in data:\n",
    "        plt.subplot(int(len(data)/4.0),4,count)\n",
    "        plot_loss_function_on_gp(loss=loss, data_idx=i)\n",
    "        count = count + 1\n",
    "    plt.tight_layout()\n",
    "\n"
   ]
  },
  {
   "cell_type": "code",
   "execution_count": null,
   "metadata": {
    "collapsed": true
   },
   "outputs": [],
   "source": [
    "plot_with_several_data('MIN')"
   ]
  },
  {
   "cell_type": "code",
   "execution_count": null,
   "metadata": {
    "collapsed": false
   },
   "outputs": [],
   "source": [
    "plot_with_several_data('OI')"
   ]
  },
  {
   "cell_type": "code",
   "execution_count": null,
   "metadata": {
    "collapsed": false
   },
   "outputs": [],
   "source": [
    "plot_with_several_data('SUMMIN')"
   ]
  },
  {
   "cell_type": "code",
   "execution_count": 8,
   "metadata": {
    "collapsed": false
   },
   "outputs": [],
   "source": [
    "plt.figure(figsize=(15,12))\n",
    "count = 1\n",
    "for loss in ['MIN','SUMMIN', 'OI','WSUM_EXPO']:\n",
    "    plt.subplot(1,4, count)\n",
    "    plot_loss_function_on_gp(loss=loss, data_idx=11)\n",
    "    count = count + 1\n",
    "plt.tight_layout()"
   ]
  },
  {
   "cell_type": "code",
   "execution_count": null,
   "metadata": {
    "collapsed": true
   },
   "outputs": [],
   "source": []
  },
  {
   "cell_type": "code",
   "execution_count": null,
   "metadata": {
    "collapsed": true
   },
   "outputs": [],
   "source": []
  }
 ],
 "metadata": {
  "kernelspec": {
   "display_name": "Python [conda env:tensorflow]",
   "language": "python",
   "name": "conda-env-tensorflow-py"
  },
  "language_info": {
   "codemirror_mode": {
    "name": "ipython",
    "version": 3
   },
   "file_extension": ".py",
   "mimetype": "text/x-python",
   "name": "python",
   "nbconvert_exporter": "python",
   "pygments_lexer": "ipython3",
   "version": "3.5.2"
  }
 },
 "nbformat": 4,
 "nbformat_minor": 2
}
