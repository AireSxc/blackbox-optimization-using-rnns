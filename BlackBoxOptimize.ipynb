{
 "cells": [
  {
   "cell_type": "markdown",
   "metadata": {},
   "source": [
    "# Global Black Box Optimization with RNNS\n",
    "Project by Pattarawat Chormai and Felix Sattler ||\n",
    "Supervised by Raphael Holca-Lamarre"
   ]
  },
  {
   "cell_type": "code",
   "execution_count": 18,
   "metadata": {
    "collapsed": false
   },
   "outputs": [
    {
     "data": {
      "text/plain": [
       "<module 'visualize' from 'D:\\\\Workspace\\\\NIPro\\\\visualize.py'>"
      ]
     },
     "execution_count": 18,
     "metadata": {},
     "output_type": "execute_result"
    }
   ],
   "source": [
    "# Imports\n",
    "import tensorflow as tf\n",
    "import numpy as np\n",
    "import visualize as viz\n",
    "import benchmarkfunctions as bf\n",
    "import gpfunctions as gp\n",
    "import lstm_model\n",
    "import data\n",
    "import sk_optimization\n",
    "import imp\n",
    "imp.reload(gp)\n",
    "imp.reload(viz)"
   ]
  },
  {
   "cell_type": "markdown",
   "metadata": {},
   "source": [
    "## Set all the Hyperparameters"
   ]
  },
  {
   "cell_type": "code",
   "execution_count": 3,
   "metadata": {
    "collapsed": false
   },
   "outputs": [],
   "source": [
    "# Data\n",
    "load_data = False\n",
    "save_data = False\n",
    "dim = 6\n",
    "n_train = 4000\n",
    "n_test = 100\n",
    "n_bumps = 6\n",
    "l = 2/n_bumps*np.sqrt(dim)\n",
    "n_mc_samples = 1000\n",
    "max_x_abs_value = 1.0\n",
    "kernel = gp.rbf_kernel\n",
    "function = gp.benchmark_prior0\n",
    "\n",
    "# LSTM Model\n",
    "n_hidden = 100\n",
    "n_steps = 20\n",
    "\n",
    "# Optimization\n",
    "x_start = np.zeros(dim).reshape(1,dim)\n",
    "epochs = 100\n",
    "gradient_clipping = 1.0\n",
    "forget_bias = 5.0\n",
    "rate_init = 0.01\n",
    "rate_final = 0.0001\n",
    "rate_decay = (rate_final/rate_init)**(1/epochs)\n",
    "batch_size = 128\n",
    "stddev = 0.00\n",
    "loss_type = [\"MIN\", \"SUM\", \"WSUM\", \"OI\", \"SUMIN\", \"WSUM_EXPO\", \"SUMOI\", 'DIST'][0]\n",
    "\n",
    "# Visualization\n",
    "visualize = True"
   ]
  },
  {
   "cell_type": "markdown",
   "metadata": {},
   "source": [
    "## Create Training Data or load from Disk"
   ]
  },
  {
   "cell_type": "code",
   "execution_count": 4,
   "metadata": {
    "collapsed": false
   },
   "outputs": [],
   "source": [
    "# Create Data or Load Data from Disk\n",
    "if load_data:\n",
    "    X_train, A_train, min_train, max_train, X_test, A_test, min_test, max_test = data.load_data\n",
    "else:\n",
    "    X_train, A_train, min_train, max_train, X_test, A_test, min_test, max_test = \\\n",
    "                                    data.gen_data(n_train, n_test, dim, n_bumps, l, kernel, n_mc_samples)\n",
    "# Save Data to Disk\n",
    "if save_data:\n",
    "    save_data(n_train, n_test, dim, n_bumps, l, n_mc_samples = 100)\n",
    "        \n",
    "data_train = (X_train, A_train, min_train, max_train)\n",
    "data_test = (X_test, A_test, min_test, max_test)"
   ]
  },
  {
   "cell_type": "code",
   "execution_count": 5,
   "metadata": {
    "collapsed": false
   },
   "outputs": [],
   "source": [
    "# Visualize Training Data\n",
    "if visualize: viz.plot_gp_data_sample(12, X_train, A_train, min_train, max_train, l, kernel, function)"
   ]
  },
  {
   "cell_type": "markdown",
   "metadata": {},
   "source": [
    "## Compute random Baseline"
   ]
  },
  {
   "cell_type": "code",
   "execution_count": 6,
   "metadata": {
    "collapsed": false
   },
   "outputs": [
    {
     "name": "stdout",
     "output_type": "stream",
     "text": [
      "Time:  1.0157382488250732\n"
     ]
    }
   ],
   "source": [
    "samples_random_x, samples_random_y = sk_optimization.SKOptimizer().get_samples_sk(X_test, A_test, min_test, max_test, l, dim, \\\n",
    "                                                            n_steps+1, function, kernel, n_test, x_start.flatten(), \"random\")"
   ]
  },
  {
   "cell_type": "code",
   "execution_count": 7,
   "metadata": {
    "collapsed": false
   },
   "outputs": [],
   "source": [
    "viz.plot_gp_results_sample(10, X_test[:10], A_test[:10], min_test[:10], \\\n",
    "                           max_test[:10], l, samples_random_x, samples_random_y, kernel, function)"
   ]
  },
  {
   "cell_type": "markdown",
   "metadata": {},
   "source": [
    "## Compute SkOpt Baseline"
   ]
  },
  {
   "cell_type": "code",
   "execution_count": 8,
   "metadata": {
    "collapsed": false
   },
   "outputs": [
    {
     "name": "stdout",
     "output_type": "stream",
     "text": [
      "Time:  40.6760778427124\n"
     ]
    }
   ],
   "source": [
    "samples_sk_x, samples_sk_y = sk_optimization.SKOptimizer().get_samples_sk(X_test, A_test, min_test, max_test, l, dim, \\\n",
    "                                                            n_steps+1, function, kernel, 10, x_start.flatten(), \"forest\")"
   ]
  },
  {
   "cell_type": "code",
   "execution_count": 9,
   "metadata": {
    "collapsed": false
   },
   "outputs": [],
   "source": [
    "viz.plot_gp_results_sample(10, X_test[:10], A_test[:10], min_test[:10], \\\n",
    "                           max_test[:10], l, samples_sk_x, samples_sk_y, kernel, function)"
   ]
  },
  {
   "cell_type": "markdown",
   "metadata": {},
   "source": [
    "## Start a Session and train the model"
   ]
  },
  {
   "cell_type": "code",
   "execution_count": 10,
   "metadata": {
    "collapsed": false
   },
   "outputs": [],
   "source": [
    "# Build the training graph, collect placeholders, sample sequence and lstmcell parameters \n",
    "Xt, At, mint, maxt, samples_x, samples_y, x_0, cell, weights = \\\n",
    "    lstm_model.build_training_graph(n_bumps, dim, n_hidden, forget_bias, n_steps, l, kernel, function)\n",
    "placeholders = {\"Xt\": Xt, \"At\": At, \"mint\": mint, \"maxt\": maxt, \"x0\": x_0}"
   ]
  },
  {
   "cell_type": "code",
   "execution_count": 11,
   "metadata": {
    "collapsed": true
   },
   "outputs": [],
   "source": [
    "sess = tf.InteractiveSession()\n",
    "sess.run(tf.global_variables_initializer())"
   ]
  },
  {
   "cell_type": "code",
   "execution_count": 12,
   "metadata": {
    "collapsed": false
   },
   "outputs": [
    {
     "name": "stdout",
     "output_type": "stream",
     "text": [
      "Build Graph...\n",
      "Ep:    0 | TrainLoss:  0.235 | TrainMin:  0.235 | TestLoss:  0.226 | TestMin:  0.226\n",
      "Ep:    1 | TrainLoss:  0.099 | TrainMin:  0.099 | TestLoss:  0.085 | TestMin:  0.085\n",
      "Ep:    2 | TrainLoss:  0.013 | TrainMin:  0.013 | TestLoss: -0.000 | TestMin: -0.000\n",
      "Ep:    3 | TrainLoss: -0.008 | TrainMin: -0.008 | TestLoss:  0.004 | TestMin:  0.004\n",
      "Ep:    4 | TrainLoss: -0.063 | TrainMin: -0.063 | TestLoss: -0.026 | TestMin: -0.026\n",
      "Ep:    5 | TrainLoss: -0.124 | TrainMin: -0.124 | TestLoss: -0.100 | TestMin: -0.100\n",
      "Ep:    6 | TrainLoss: -0.182 | TrainMin: -0.182 | TestLoss: -0.187 | TestMin: -0.187\n",
      "Ep:    7 | TrainLoss: -0.205 | TrainMin: -0.206 | TestLoss: -0.171 | TestMin: -0.172\n",
      "Ep:    8 | TrainLoss: -0.329 | TrainMin: -0.335 | TestLoss: -0.359 | TestMin: -0.366\n",
      "Ep:    9 | TrainLoss: -0.399 | TrainMin: -0.408 | TestLoss: -0.402 | TestMin: -0.407\n",
      "Ep:   10 | TrainLoss: -0.439 | TrainMin: -0.442 | TestLoss: -0.457 | TestMin: -0.459\n",
      "Ep:   20 | TrainLoss: -0.736 | TrainMin: -0.741 | TestLoss: -0.780 | TestMin: -0.781\n",
      "Ep:   30 | TrainLoss: -0.806 | TrainMin: -0.809 | TestLoss: -0.817 | TestMin: -0.820\n",
      "Ep:   40 | TrainLoss: -0.846 | TrainMin: -0.848 | TestLoss: -0.836 | TestMin: -0.839\n",
      "Ep:   50 | TrainLoss: -0.840 | TrainMin: -0.843 | TestLoss: -0.841 | TestMin: -0.845\n",
      "Ep:   60 | TrainLoss: -0.878 | TrainMin: -0.880 | TestLoss: -0.850 | TestMin: -0.855\n",
      "Ep:   70 | TrainLoss: -0.887 | TrainMin: -0.889 | TestLoss: -0.849 | TestMin: -0.854\n",
      "Ep:   80 | TrainLoss: -0.895 | TrainMin: -0.896 | TestLoss: -0.863 | TestMin: -0.864\n",
      "Ep:   90 | TrainLoss: -0.896 | TrainMin: -0.896 | TestLoss: -0.872 | TestMin: -0.873\n",
      "Ep:   99 | TrainLoss: -0.900 | TrainMin: -0.901 | TestLoss: -0.870 | TestMin: -0.870\n",
      "Done.\n"
     ]
    }
   ],
   "source": [
    "train_logs = lstm_model.train_model(sess, placeholders, samples_x, samples_y, epochs, batch_size, data_train, data_test,\n",
    "                     rate_init, rate_decay, gradient_clipping, loss_type, x_start, max_x_abs_value, log = True)"
   ]
  },
  {
   "cell_type": "code",
   "execution_count": 13,
   "metadata": {
    "collapsed": false
   },
   "outputs": [
    {
     "data": {
      "image/png": "[encoded data removed]",
      "text/plain": [
       "<matplotlib.figure.Figure at 0x16c4c79ab00>"
      ]
     },
     "metadata": {},
     "output_type": "display_data"
    }
   ],
   "source": [
    "viz.visualize_learning(train_logs)"
   ]
  },
  {
   "cell_type": "markdown",
   "metadata": {},
   "source": [
    "## Evaluate the Model on Training Data"
   ]
  },
  {
   "cell_type": "code",
   "execution_count": null,
   "metadata": {
    "collapsed": false,
    "scrolled": false
   },
   "outputs": [],
   "source": [
    "# Show results on Training Data\n",
    "samples_train_x, samples_train_y = \\\n",
    "        lstm_model.get_samples(sess, placeholders, samples_x, samples_y, data_train, x_start)\n",
    "    \n",
    "viz.plot_gp_results_sample(10, X_train, A_train, min_train, max_train, l, samples_train_x, samples_train_y, kernel, function)"
   ]
  },
  {
   "cell_type": "code",
   "execution_count": null,
   "metadata": {
    "collapsed": false
   },
   "outputs": [],
   "source": [
    "viz.plot_min_curves([np.array(samples_random_y_train), samples_train_y, np.array(samples_sk_y_train)],['Random','OI','SkOpt'])"
   ]
  },
  {
   "cell_type": "markdown",
   "metadata": {},
   "source": [
    "## Evaluate the Model on Test Data"
   ]
  },
  {
   "cell_type": "code",
   "execution_count": 14,
   "metadata": {
    "collapsed": false
   },
   "outputs": [
    {
     "name": "stdout",
     "output_type": "stream",
     "text": [
      "0.2872028350830078\n"
     ]
    }
   ],
   "source": [
    "# Show results on Test Data\n",
    "samples_test_x, samples_test_y = \\\n",
    "        lstm_model.get_samples(sess, placeholders, samples_x, samples_y, data_test, x_start)\n",
    "\n",
    "viz.plot_gp_results_sample(10, X_test, A_test, min_test, max_test, l, samples_test_x, samples_test_y, kernel, function)"
   ]
  },
  {
   "cell_type": "code",
   "execution_count": 28,
   "metadata": {
    "collapsed": false
   },
   "outputs": [],
   "source": [
    "%matplotlib qt5\n",
    "import matplotlib.pyplot as plt\n",
    "plt.figure(figsize=(20,10))\n",
    "for i in range(2):\n",
    "    plt.subplot(2,3,3*i+1)\n",
    "    viz.plot_min_curves([np.array(samples_random_y), samples_test_y, samples_test_y+0.1, samples_test_y+0.2, np.array(samples_sk_y)],\n",
    "                        ['Random','prior0-MIN','rbf-MIN','matern32-MIN','SkOpt'])\n",
    "    plt.title('prior0-functions '+str(4*i+2)+'D')\n",
    "for i in range(2):\n",
    "    plt.subplot(2,3,3*i+2)\n",
    "    viz.plot_min_curves([np.array(samples_random_y), samples_test_y, samples_test_y+0.1, samples_test_y+0.2, np.array(samples_sk_y)],\n",
    "                        ['Random','prior0-MIN','rbf-MIN','matern32-MIN','SkOpt'])\n",
    "    plt.title('rbf-gp-functions '+str(4*i+2)+'D')\n",
    "    \n",
    "for i in range(2):\n",
    "    plt.subplot(2,3,3*i+3)\n",
    "    viz.plot_min_curves([np.array(samples_random_y), samples_test_y, samples_test_y+0.1, samples_test_y+0.2, np.array(samples_sk_y)],\n",
    "                        ['Random','prior0-MIN','rbf-MIN','matern32-MIN','SkOpt'])\n",
    "    plt.title('matern32-gp-functions '+str(4*i+2)+'D')\n",
    "plt.show()"
   ]
  },
  {
   "cell_type": "markdown",
   "metadata": {},
   "source": [
    "## Evaluate the Model on Benchmark Functions"
   ]
  },
  {
   "cell_type": "code",
   "execution_count": null,
   "metadata": {
    "collapsed": true
   },
   "outputs": [],
   "source": [
    "f_bm = [bf.branin, bf.goldstein_price, bf.hartmann3, bf.hartmann6][1]\n",
    "f_bm_tf = [bf.branin_tf, bf.goldstein_price_tf, bf.hartmann3_tf, bf.hartmann6_tf][1]"
   ]
  },
  {
   "cell_type": "code",
   "execution_count": null,
   "metadata": {
    "collapsed": false
   },
   "outputs": [],
   "source": [
    "samples_benchmark_x, samples_benchmark_y = \\\n",
    "        lstm_model.get_benchmark_samples(sess, f_bm_tf, cell, weights, dim, n_hidden, n_steps, x_start)"
   ]
  },
  {
   "cell_type": "code",
   "execution_count": null,
   "metadata": {
    "collapsed": false
   },
   "outputs": [],
   "source": [
    "viz.plot_result(f_bm, dim, 1, samples_benchmark_x, samples_benchmark_y)"
   ]
  },
  {
   "cell_type": "markdown",
   "metadata": {},
   "source": [
    "## Generate Sequence of sample points sequentially"
   ]
  },
  {
   "cell_type": "code",
   "execution_count": null,
   "metadata": {
    "collapsed": false
   },
   "outputs": [],
   "source": [
    "def get_y(x):\n",
    "    # Can be any arbitrary function that gets a (1,dim) numpy array as input and returns a (1,1) numpy array\n",
    "    return np.sum(x**2).reshape(1,1)-1\n",
    "\n",
    "def generate_sample_sequence(x0, steps):\n",
    "    h_0 = tf.zeros([1, n_hidden])\n",
    "    c_0 = tf.zeros([1, n_hidden])\n",
    "\n",
    "    x = tf.constant(x0, dtype=tf.float32)\n",
    "    state = (c_0, h_0)\n",
    "\n",
    "    y0 = get_y(x0)\n",
    "    y = tf.constant(y0, dtype=tf.float32)\n",
    "    \n",
    "    samples_x = [x0]\n",
    "    samples_y = [y0]\n",
    "    \n",
    "    for i in range(steps):\n",
    "        x, state = lstm_model.next_sample_point(x,y,state,cell,weights, scope=\"rnn_cell\")\n",
    "        x_np = sess.run(x)\n",
    "        y_np = get_y(x_np)\n",
    "        y = tf.constant(y_np, dtype=tf.float32)\n",
    "        \n",
    "        samples_x += [x_np]\n",
    "        samples_y += [y_np]\n",
    "        \n",
    "    return samples_x, samples_y"
   ]
  },
  {
   "cell_type": "code",
   "execution_count": null,
   "metadata": {
    "collapsed": false
   },
   "outputs": [],
   "source": [
    "samples_x, samples_y = generate_sample_sequence(np.ones([1,dim]), steps = 20)"
   ]
  },
  {
   "cell_type": "code",
   "execution_count": null,
   "metadata": {
    "collapsed": false
   },
   "outputs": [],
   "source": [
    "samples_y"
   ]
  },
  {
   "cell_type": "code",
   "execution_count": null,
   "metadata": {
    "collapsed": true
   },
   "outputs": [],
   "source": []
  }
 ],
 "metadata": {
  "anaconda-cloud": {},
  "kernelspec": {
   "display_name": "Python [conda env:tensorflow]",
   "language": "python",
   "name": "conda-env-tensorflow-py"
  },
  "language_info": {
   "codemirror_mode": {
    "name": "ipython",
    "version": 3
   },
   "file_extension": ".py",
   "mimetype": "text/x-python",
   "name": "python",
   "nbconvert_exporter": "python",
   "pygments_lexer": "ipython3",
   "version": "3.5.2"
  }
 },
 "nbformat": 4,
 "nbformat_minor": 1
}
