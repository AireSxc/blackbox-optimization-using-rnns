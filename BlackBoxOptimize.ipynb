{
 "cells": [
  {
   "cell_type": "markdown",
   "metadata": {},
   "source": [
    "# Global Black Box Optimization with RNNS\n",
    "Project by Pattarawat Chormai and Felix Sattler ||\n",
    "Supervised by Raphael Holca-Lamarre"
   ]
  },
  {
   "cell_type": "code",
   "execution_count": 1,
   "metadata": {
    "collapsed": false
   },
   "outputs": [],
   "source": [
    "# Imports\n",
    "import tensorflow as tf\n",
    "import numpy as np\n",
    "import visualize as viz\n",
    "import benchmarkfunctions as bf\n",
    "import gpfunctions as gp\n",
    "import lstm_model\n",
    "import data\n",
    "import sk_optimization"
   ]
  },
  {
   "cell_type": "markdown",
   "metadata": {},
   "source": [
    "## Set all the Hyperparameters"
   ]
  },
  {
   "cell_type": "code",
   "execution_count": 2,
   "metadata": {
    "collapsed": false
   },
   "outputs": [],
   "source": [
    "# Data\n",
    "load_data = False\n",
    "save_data = False\n",
    "dim = 6\n",
    "n_train = 1000\n",
    "n_test = 100\n",
    "n_bumps = 6\n",
    "l = 2/n_bumps*np.sqrt(dim)\n",
    "n_mc_samples = 1000\n",
    "max_x_abs_value = 1.0\n",
    "kernel = gp.rbf_kernel\n",
    "function = gp.normalized_gp_function\n",
    "\n",
    "# LSTM Model\n",
    "n_hidden = 100\n",
    "n_steps = 20\n",
    "\n",
    "# Optimization\n",
    "x_start = np.zeros(dim).reshape(1,dim)\n",
    "epochs = 100\n",
    "gradient_clipping = 1.0\n",
    "forget_bias = 5.0\n",
    "rate_init = 0.01\n",
    "rate_final = 0.0001\n",
    "rate_decay = (rate_final/rate_init)**(1/epochs)\n",
    "batch_size = 1\n",
    "stddev = 0.00\n",
    "loss_type = [\"MIN\", \"SUM\", \"WSUM\", \"OI\", \"SUMIN\", \"WSUM_EXPO\", \"SUMOI\", 'DIST'][3]\n",
    "\n",
    "# Visualization\n",
    "visualize = True"
   ]
  },
  {
   "cell_type": "markdown",
   "metadata": {},
   "source": [
    "## Create Training Data or load from Disk"
   ]
  },
  {
   "cell_type": "code",
   "execution_count": 3,
   "metadata": {
    "collapsed": false
   },
   "outputs": [],
   "source": [
    "# Create Data or Load Data from Disk\n",
    "if load_data:\n",
    "    X_train, A_train, min_train, max_train, X_test, A_test, min_test, max_test = data.load_data\n",
    "else:\n",
    "    X_train, A_train, min_train, max_train, X_test, A_test, min_test, max_test = \\\n",
    "                                    data.gen_data(n_train, n_test, dim, n_bumps, l, kernel, n_mc_samples)\n",
    "# Save Data to Disk\n",
    "if save_data:\n",
    "    save_data(n_train, n_test, dim, n_bumps, l, n_mc_samples = 100)\n",
    "        \n",
    "data_train = (X_train, A_train, min_train, max_train)\n",
    "data_test = (X_test, A_test, min_test, max_test)"
   ]
  },
  {
   "cell_type": "code",
   "execution_count": 4,
   "metadata": {
    "collapsed": false
   },
   "outputs": [],
   "source": [
    "# Visualize Training Data\n",
    "if visualize: viz.plot_gp_data_sample(12, X_train, A_train, min_train, max_train, l, kernel, function)"
   ]
  },
  {
   "cell_type": "markdown",
   "metadata": {},
   "source": [
    "## Compute random Baseline"
   ]
  },
  {
   "cell_type": "code",
   "execution_count": null,
   "metadata": {
    "collapsed": false
   },
   "outputs": [],
   "source": [
    "samples_random_x, samples_random_y = sk_optimization.SKOptimizer().get_samples_sk(X_test, A_test, min_test, max_test, l, dim, \\\n",
    "                                                            n_steps+1, function, kernel, n_test, x_start.flatten(), \"random\")"
   ]
  },
  {
   "cell_type": "code",
   "execution_count": null,
   "metadata": {
    "collapsed": false
   },
   "outputs": [],
   "source": [
    "viz.plot_gp_results_sample(10, X_test[:10], A_test[:10], min_test[:10], \\\n",
    "                           max_test[:10], l, samples_random_x, samples_random_y, kernel, function)"
   ]
  },
  {
   "cell_type": "markdown",
   "metadata": {},
   "source": [
    "## Compute SkOpt Baseline"
   ]
  },
  {
   "cell_type": "code",
   "execution_count": 11,
   "metadata": {
    "collapsed": false
   },
   "outputs": [
    {
     "name": "stdout",
     "output_type": "stream",
     "text": [
      "Time:  48.2715220451355\n"
     ]
    }
   ],
   "source": [
    "samples_sk_x, samples_sk_y = sk_optimization.SKOptimizer().get_samples_sk(X_test, A_test, min_test, max_test, l, dim, \\\n",
    "                                                            n_steps+1, function, kernel, 10, x_start.flatten(), \"forest\")"
   ]
  },
  {
   "cell_type": "code",
   "execution_count": null,
   "metadata": {
    "collapsed": false
   },
   "outputs": [],
   "source": [
    "viz.plot_gp_results_sample(10, X_test[:10], A_test[:10], min_test[:10], \\\n",
    "                           max_test[:10], l, samples_sk_x, samples_sk_y, kernel, function)"
   ]
  },
  {
   "cell_type": "markdown",
   "metadata": {},
   "source": [
    "## Start a Session and train the model"
   ]
  },
  {
   "cell_type": "code",
   "execution_count": 5,
   "metadata": {
    "collapsed": false
   },
   "outputs": [],
   "source": [
    "# Build the training graph, collect placeholders, sample sequence and lstmcell parameters \n",
    "Xt, At, mint, maxt, samples_x, samples_y, x_0, cell, weights = \\\n",
    "    lstm_model.build_training_graph(n_bumps, dim, n_hidden, forget_bias, n_steps, l, kernel, function)\n",
    "placeholders = {\"Xt\": Xt, \"At\": At, \"mint\": mint, \"maxt\": maxt, \"x0\": x_0}"
   ]
  },
  {
   "cell_type": "code",
   "execution_count": 6,
   "metadata": {
    "collapsed": true
   },
   "outputs": [],
   "source": [
    "sess = tf.InteractiveSession()\n",
    "sess.run(tf.global_variables_initializer())"
   ]
  },
  {
   "cell_type": "code",
   "execution_count": null,
   "metadata": {
    "collapsed": false
   },
   "outputs": [],
   "source": [
    "train_logs = lstm_model.train_model(sess, placeholders, samples_x, samples_y, epochs, batch_size, data_train, data_test,\n",
    "                     rate_init, rate_decay, gradient_clipping, loss_type, x_start, max_x_abs_value, log = True)"
   ]
  },
  {
   "cell_type": "code",
   "execution_count": null,
   "metadata": {
    "collapsed": false
   },
   "outputs": [],
   "source": [
    "viz.visualize_learning(train_logs)"
   ]
  },
  {
   "cell_type": "markdown",
   "metadata": {},
   "source": [
    "## Evaluate the Model on Training Data"
   ]
  },
  {
   "cell_type": "code",
   "execution_count": 7,
   "metadata": {
    "collapsed": false,
    "scrolled": false
   },
   "outputs": [
    {
     "name": "stdout",
     "output_type": "stream",
     "text": [
      "0.33446717262268066\n"
     ]
    }
   ],
   "source": [
    "# Show results on Training Data\n",
    "samples_train_x, samples_train_y = \\\n",
    "        lstm_model.get_samples(sess, placeholders, samples_x, samples_y, data_train, x_start)\n",
    "    \n",
    "viz.plot_gp_results_sample(10, X_train, A_train, min_train, max_train, l, samples_train_x, samples_train_y, kernel, function)"
   ]
  },
  {
   "cell_type": "code",
   "execution_count": null,
   "metadata": {
    "collapsed": false
   },
   "outputs": [],
   "source": [
    "viz.plot_min_curves([np.array(samples_random_y_train), samples_train_y, np.array(samples_sk_y_train)],['Random','OI','SkOpt'])"
   ]
  },
  {
   "cell_type": "markdown",
   "metadata": {},
   "source": [
    "## Evaluate the Model on Test Data"
   ]
  },
  {
   "cell_type": "code",
   "execution_count": 8,
   "metadata": {
    "collapsed": false
   },
   "outputs": [
    {
     "name": "stdout",
     "output_type": "stream",
     "text": [
      "0.043535470962524414\n"
     ]
    }
   ],
   "source": [
    "# Show results on Test Data\n",
    "samples_test_x, samples_test_y = \\\n",
    "        lstm_model.get_samples(sess, placeholders, samples_x, samples_y, data_test, x_start)\n",
    "\n",
    "viz.plot_gp_results_sample(10, X_test, A_test, min_test, max_test, l, samples_test_x, samples_test_y, kernel, function)"
   ]
  },
  {
   "cell_type": "code",
   "execution_count": null,
   "metadata": {
    "collapsed": false
   },
   "outputs": [],
   "source": [
    "viz.plot_min_curves([np.array(samples_random_y), samples_test_y, np.array(samples_sk_y)],['Random','OI','SkOpt'])"
   ]
  },
  {
   "cell_type": "markdown",
   "metadata": {},
   "source": [
    "## Evaluate the Model on Benchmark Functions"
   ]
  },
  {
   "cell_type": "code",
   "execution_count": null,
   "metadata": {
    "collapsed": true
   },
   "outputs": [],
   "source": [
    "f_bm = [bf.branin, bf.goldstein_price, bf.hartmann3, bf.hartmann6][1]\n",
    "f_bm_tf = [bf.branin_tf, bf.goldstein_price_tf, bf.hartmann3_tf, bf.hartmann6_tf][1]"
   ]
  },
  {
   "cell_type": "code",
   "execution_count": null,
   "metadata": {
    "collapsed": false
   },
   "outputs": [],
   "source": [
    "samples_benchmark_x, samples_benchmark_y = \\\n",
    "        lstm_model.get_benchmark_samples(sess, f_bm_tf, cell, weights, dim, n_hidden, n_steps, x_start)"
   ]
  },
  {
   "cell_type": "code",
   "execution_count": null,
   "metadata": {
    "collapsed": false
   },
   "outputs": [],
   "source": [
    "viz.plot_result(f_bm, dim, 1, samples_benchmark_x, samples_benchmark_y)"
   ]
  },
  {
   "cell_type": "markdown",
   "metadata": {},
   "source": [
    "## Generate Sequence of sample points sequentially"
   ]
  },
  {
   "cell_type": "code",
   "execution_count": null,
   "metadata": {
    "collapsed": false
   },
   "outputs": [],
   "source": [
    "def get_y(x):\n",
    "    # Can be any arbitrary function that gets a (1,dim) numpy array as input and returns a (1,1) numpy array\n",
    "    return np.sum(x**2).reshape(1,1)-1\n",
    "\n",
    "def generate_sample_sequence(x0, steps):\n",
    "    h_0 = tf.zeros([1, n_hidden])\n",
    "    c_0 = tf.zeros([1, n_hidden])\n",
    "\n",
    "    x = tf.constant(x0, dtype=tf.float32)\n",
    "    state = (c_0, h_0)\n",
    "\n",
    "    y0 = get_y(x0)\n",
    "    y = tf.constant(y0, dtype=tf.float32)\n",
    "    \n",
    "    samples_x = [x0]\n",
    "    samples_y = [y0]\n",
    "    \n",
    "    for i in range(steps):\n",
    "        x, state = lstm_model.next_sample_point(x,y,state,cell,weights, scope=\"rnn_cell\")\n",
    "        x_np = sess.run(x)\n",
    "        y_np = get_y(x_np)\n",
    "        y = tf.constant(y_np, dtype=tf.float32)\n",
    "        \n",
    "        samples_x += [x_np]\n",
    "        samples_y += [y_np]\n",
    "        \n",
    "    return samples_x, samples_y"
   ]
  },
  {
   "cell_type": "code",
   "execution_count": null,
   "metadata": {
    "collapsed": false
   },
   "outputs": [],
   "source": [
    "samples_x, samples_y = generate_sample_sequence(np.ones([1,dim]), steps = 20)"
   ]
  },
  {
   "cell_type": "code",
   "execution_count": null,
   "metadata": {
    "collapsed": false
   },
   "outputs": [],
   "source": [
    "samples_y"
   ]
  },
  {
   "cell_type": "code",
   "execution_count": null,
   "metadata": {
    "collapsed": true
   },
   "outputs": [],
   "source": []
  }
 ],
 "metadata": {
  "anaconda-cloud": {},
  "kernelspec": {
   "display_name": "Python [conda env:tensorflow]",
   "language": "python",
   "name": "conda-env-tensorflow-py"
  },
  "language_info": {
   "codemirror_mode": {
    "name": "ipython",
    "version": 3
   },
   "file_extension": ".py",
   "mimetype": "text/x-python",
   "name": "python",
   "nbconvert_exporter": "python",
   "pygments_lexer": "ipython3",
   "version": "3.5.2"
  }
 },
 "nbformat": 4,
 "nbformat_minor": 1
}
