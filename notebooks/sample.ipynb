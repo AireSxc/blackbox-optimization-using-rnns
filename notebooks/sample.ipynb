{
 "cells": [
  {
   "cell_type": "code",
   "execution_count": 1,
   "metadata": {
    "collapsed": true
   },
   "outputs": [],
   "source": [
    "import numpy as np\n",
    "import matplotlib.pyplot as plt"
   ]
  },
  {
   "cell_type": "code",
   "execution_count": 6,
   "metadata": {},
   "outputs": [
    {
     "name": "stdout",
     "output_type": "stream",
     "text": [
      "dumyy cell\n"
     ]
    }
   ],
   "source": [
    "#NBCONVERTER_IGNORE\n",
    "print('dumyy cell')"
   ]
  },
  {
   "cell_type": "code",
   "execution_count": 7,
   "metadata": {},
   "outputs": [
    {
     "name": "stdout",
     "output_type": "stream",
     "text": [
      "work cell\n"
     ]
    }
   ],
   "source": [
    "print('work cell')"
   ]
  },
  {
   "cell_type": "markdown",
   "metadata": {},
   "source": [
    "## something"
   ]
  },
  {
   "cell_type": "code",
   "execution_count": 10,
   "metadata": {
    "collapsed": true
   },
   "outputs": [],
   "source": [
    "sorted = np.argsort([1,100,6,7])"
   ]
  },
  {
   "cell_type": "code",
   "execution_count": 11,
   "metadata": {},
   "outputs": [
    {
     "data": {
      "text/plain": [
       "array([0, 2, 3, 1])"
      ]
     },
     "execution_count": 11,
     "metadata": {},
     "output_type": "execute_result"
    }
   ],
   "source": [
    "sorted"
   ]
  },
  {
   "cell_type": "code",
   "execution_count": 21,
   "metadata": {},
   "outputs": [
    {
     "data": {
      "text/plain": [
       "array([1, 3])"
      ]
     },
     "execution_count": 21,
     "metadata": {},
     "output_type": "execute_result"
    }
   ],
   "source": [
    "sorted[::-1][:2]"
   ]
  },
  {
   "cell_type": "code",
   "execution_count": 19,
   "metadata": {},
   "outputs": [
    {
     "name": "stdout",
     "output_type": "stream",
     "text": [
      "(5, 1, 3)\n"
     ]
    }
   ],
   "source": [
    "x = np.ones((3,4))\n",
    "y  = np.random.random((5,1,4))\n",
    "z = np.matmul(y, x.T)\n",
    "print(z.shape)"
   ]
  },
  {
   "cell_type": "code",
   "execution_count": 20,
   "metadata": {},
   "outputs": [
    {
     "data": {
      "text/plain": [
       "array([[[ 1.425411  ,  1.425411  ,  1.425411  ]],\n",
       "\n",
       "       [[ 0.90503003,  0.90503003,  0.90503003]],\n",
       "\n",
       "       [[ 2.0477837 ,  2.0477837 ,  2.0477837 ]],\n",
       "\n",
       "       [[ 1.41251788,  1.41251788,  1.41251788]],\n",
       "\n",
       "       [[ 1.7039589 ,  1.7039589 ,  1.7039589 ]]])"
      ]
     },
     "execution_count": 20,
     "metadata": {},
     "output_type": "execute_result"
    }
   ],
   "source": [
    "z"
   ]
  },
  {
   "cell_type": "code",
   "execution_count": 8,
   "metadata": {},
   "outputs": [
    {
     "data": {
      "image/png": "[encoded data removed]",
      "text/plain": [
       "<matplotlib.figure.Figure at 0x1071976d8>"
      ]
     },
     "metadata": {},
     "output_type": "display_data"
    }
   ],
   "source": [
    "import matplotlib.pylab as pylab\n",
    "params = {\n",
    "#     'legend.fontsize': 'medium',\n",
    "         'axes.labelsize': 'xx-large',\n",
    "         'axes.titlesize':'x-large',\n",
    "         'xtick.labelsize':'xx-large',\n",
    "         'ytick.labelsize':'xx-large'}\n",
    "pylab.rcParams.update(params)\n",
    "\n",
    "%matplotlib inline\n",
    "names = ['LSTM (ours)',  'GBRT', 'GP',  'Forest', 'Basinhopping']\n",
    "runtime = [43, 196602, 878683, 482715, 6777]\n",
    "# varruntime = [4, 1966, 8786, 4827, 67]\n",
    "ind = np.arange(len(names))\n",
    "\n",
    "width = 0.35       # the width of the bars\n",
    "\n",
    "fig, ax = plt.subplots(figsize=(7,3))\n",
    "rects1 = ax.bar(ind+0.18, runtime, width, color='r')\n",
    "\n",
    "# add some text for labels, title and axes ticks\n",
    "ax.set_ylabel('Runtime in ms (log-scale)')\n",
    "#ax.set_title('Runtime')\n",
    "ax.set_xticks(ind + width / 2)\n",
    "ax.set_xticklabels(['LSTM (ours)',  'GBRT', 'GP',  'Forest','Basinhopping'])\n",
    "plt.xticks(rotation=45)\n",
    "plt.yscale('log')\n",
    "\n",
    "plt.show()"
   ]
  },
  {
   "cell_type": "code",
   "execution_count": 64,
   "metadata": {},
   "outputs": [
    {
     "name": "stdout",
     "output_type": "stream",
     "text": [
      "[[-1.   1. ]\n",
      " [-0.2  0.2]]\n",
      "[[ 0  5]\n",
      " [-1  1]]\n",
      "=======\n",
      "[ 2.5  5. ]\n",
      "[ 1.  -0.1] -> [ 5.  -0.5]\n",
      "[ 2.5  5. ]\n",
      "[ 0.   0.2] -> [ 2.5  1. ]\n",
      "[ 2.5  5. ]\n",
      "[ 0. -0.] -> [ 2.5 -0. ]\n"
     ]
    }
   ],
   "source": [
    "# translation\n",
    "\n",
    "original_range = np.array([(-1,1),(-0.2,0.2)])\n",
    "\n",
    "new_range = np.array([(0,5),(-1,1)])\n",
    "\n",
    "# 1 -> 0.7\n",
    "# -1 -> 0\n",
    "# 0 -> 0.35\n",
    "\n",
    "def translate(x):\n",
    "    ow = original_range[:,1] - original_range[:,0]\n",
    "\n",
    "    nw = new_range[:,1] - new_range[:,0]\n",
    "    ratio = nw/ow\n",
    "    print(ratio)\n",
    "\n",
    "    new_x = x*ratio - (original_range[:,0]*ratio - new_range[:,0])\n",
    "    print('%s -> %s' % (x, new_x) )\n",
    "#     print('----')\n",
    "#     return new_x\n",
    "\n",
    "print(original_range)\n",
    "print(new_range)\n",
    "print('=======')\n",
    "translate(np.array([1,-0.1]))\n",
    "translate(np.array([0,0.2]))\n",
    "translate(np.array([0,-0.0]))"
   ]
  },
  {
   "cell_type": "code",
   "execution_count": 17,
   "metadata": {},
   "outputs": [
    {
     "name": "stdout",
     "output_type": "stream",
     "text": [
      "0.6\n",
      "0.3\n",
      "0.44999999999999996\n",
      "0.15\n"
     ]
    }
   ],
   "source": [
    "# translation\n",
    "\n",
    "original_range = (0,1)\n",
    "\n",
    "new_range = (0,0.3)\n",
    "\n",
    "# 1 -> 0.3\n",
    "# 0 -> 0\n",
    "\n",
    "\n",
    "print(translate(1))\n",
    "print(translate(0))\n",
    "print(translate(0.5))\n",
    "print(translate(-0.5))"
   ]
  },
  {
   "cell_type": "code",
   "execution_count": null,
   "metadata": {
    "collapsed": true
   },
   "outputs": [],
   "source": []
  }
 ],
 "metadata": {
  "kernelspec": {
   "display_name": "Python 3",
   "language": "python",
   "name": "python3"
  },
  "language_info": {
   "codemirror_mode": {
    "name": "ipython",
    "version": 3
   },
   "file_extension": ".py",
   "mimetype": "text/x-python",
   "name": "python",
   "nbconvert_exporter": "python",
   "pygments_lexer": "ipython3",
   "version": "3.5.1"
  }
 },
 "nbformat": 4,
 "nbformat_minor": 2
}
