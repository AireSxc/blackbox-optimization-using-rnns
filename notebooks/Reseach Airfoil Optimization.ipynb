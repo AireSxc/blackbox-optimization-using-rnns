{
 "cells": [
  {
   "cell_type": "code",
   "execution_count": 1,
   "metadata": {
    "collapsed": true
   },
   "outputs": [],
   "source": [
    "import airfoil_simulator\n",
    "import tensorflow as tf\n",
    "import numpy as np\n",
    "import lstm_model\n",
    "import time\n",
    "import skopt \n",
    "import visualize as viz"
   ]
  },
  {
   "cell_type": "code",
   "execution_count": 2,
   "metadata": {
    "collapsed": true
   },
   "outputs": [],
   "source": [
    "def obj_airfoil_lift_drag(x):\n",
    "    x = np.array(x)\n",
    "    obj_value = -1*airfoil_simulator.objective(x.reshape(-1))/100\n",
    "    return obj_value"
   ]
  },
  {
   "cell_type": "code",
   "execution_count": 3,
   "metadata": {
    "collapsed": true
   },
   "outputs": [],
   "source": [
    "# imp.reload(lstm_model) # remove this when it's ready\n",
    "steps = 20\n",
    "dim = 2\n",
    "x_0 = np.array([-0.1,-0.1]).reshape(-1,2)"
   ]
  },
  {
   "cell_type": "code",
   "execution_count": 33,
   "metadata": {},
   "outputs": [
    {
     "name": "stdout",
     "output_type": "stream",
     "text": [
      "Iteration No: 1 started. Evaluating function at provided point.\n",
      "Iteration No: 1 ended. Evaluation done at provided point.\n",
      "Time taken: 0.0006\n",
      "Function value obtained: 2.0000\n",
      "Current minimum: 2.0000\n",
      "Iteration No: 2 started. Searching for the next optimal point.\n",
      "Iteration No: 2 ended. Search finished for the next optimal point.\n",
      "Time taken: 0.0000\n",
      "Function value obtained: 2.0000\n",
      "Current minimum: 2.0000\n",
      "Iteration No: 3 started. Searching for the next optimal point.\n",
      "Iteration No: 3 ended. Search finished for the next optimal point.\n",
      "Time taken: 0.0000\n",
      "Function value obtained: 2.0000\n",
      "Current minimum: 2.0000\n",
      "Iteration No: 4 started. Searching for the next optimal point.\n",
      "Iteration No: 4 ended. Search finished for the next optimal point.\n",
      "Time taken: 0.0000\n",
      "Function value obtained: 2.0000\n",
      "Current minimum: 2.0000\n",
      "Iteration No: 5 ended. Search finished for the next optimal point.\n",
      "Time taken: 0.0003\n",
      "Function value obtained: 2.0000\n",
      "Current minimum: 2.0000\n"
     ]
    }
   ],
   "source": [
    "def optimize_lstm(x_0, steps):\n",
    "    #load best model\n",
    "    best_model_2d='rnn-cell-2d-1498485717'   \n",
    "    print(\"Starting at %s and optimize for %d steps\" % (x_0, steps) )\n",
    "    sess, model_params = lstm_model.load_trained_model(best_model_2d)\n",
    "    \n",
    "    start_time = time.time()\n",
    "    samples_x, samples_y = lstm_model.generate_sample_sequence(sess, model_params, x_0, steps = steps, \\\n",
    "        obj_func=lambda x: np.array(obj_airfoil_lift_drag(x)).reshape(1,-1) \\\n",
    "    )\n",
    "\n",
    "    samples_y = np.array(samples_y).flatten()\n",
    "\n",
    "    #print(\"Min -L/D found %f at %s\" % (samples_y[min_y_idx], samples_x[min_y_idx].flatten()) )\n",
    "    print(\"Took %f mins\" % (( time.time() - start_time ) / 60.0) )\n",
    "    \n",
    "    return samples_x, samples_y\n",
    "\n",
    "def optimize_random(x_0, steps):\n",
    "    res = skopt.dummy_minimize(lambda x :2, dimensions=[(-1.0,1.0)]*2, n_calls=5, x0=x_0, verbose=True) \n",
    "    return res.x_iters, res.func_vals\n",
    "\n",
    "def optimize_skopt(x_0, steps):\n",
    "    res = skopt.gp_minimize(obj_airfoil_lift_drag, dimensions=[(-1.0,1.0)]*2, n_calls=steps, \n",
    "                            n_random_starts=10, x0=x_0, verbose=True) \n",
    "    return res.xiters, res.funcvals\n",
    "\n",
    "samples_x_random, samples_y_random = optimize_random(x_0, steps)"
   ]
  },
  {
   "cell_type": "code",
   "execution_count": 39,
   "metadata": {},
   "outputs": [
    {
     "data": {
      "text/plain": [
       "array([array([[-0.1, -0.1]]), [-0.20678012485944941, 0.92741758250699147],\n",
       "       [-0.1182194013789335, 0.98812701192719765],\n",
       "       [-0.41162685995270976, 0.35395342124960827],\n",
       "       [-0.057579347661091074, -0.11906301756745563]], dtype=object)"
      ]
     },
     "execution_count": 39,
     "metadata": {},
     "output_type": "execute_result"
    }
   ],
   "source": [
    "np.array(samples_x_random).flatten()"
   ]
  },
  {
   "cell_type": "code",
   "execution_count": 44,
   "metadata": {
    "collapsed": true
   },
   "outputs": [],
   "source": [
    "samples_x_random[0] = list(samples_x_random[0][0])"
   ]
  },
  {
   "cell_type": "code",
   "execution_count": 47,
   "metadata": {},
   "outputs": [
    {
     "data": {
      "text/plain": [
       "(5, 2)"
      ]
     },
     "execution_count": 47,
     "metadata": {},
     "output_type": "execute_result"
    }
   ],
   "source": [
    "np.array(samples_x_random).shape"
   ]
  },
  {
   "cell_type": "code",
   "execution_count": null,
   "metadata": {
    "collapsed": true
   },
   "outputs": [],
   "source": []
  },
  {
   "cell_type": "code",
   "execution_count": 17,
   "metadata": {},
   "outputs": [
    {
     "name": "stdout",
     "output_type": "stream",
     "text": [
      "Iteration No: 1 started. Searching for the next optimal point.\n"
     ]
    },
    {
     "ename": "TypeError",
     "evalue": "unsupported operand type(s) for ** or pow(): 'list' and 'int'",
     "output_type": "error",
     "traceback": [
      "\u001b[0;31m---------------------------------------------------------------------------\u001b[0m",
      "\u001b[0;31mTypeError\u001b[0m                                 Traceback (most recent call last)",
      "\u001b[0;32m<ipython-input-17-b2398df19103>\u001b[0m in \u001b[0;36m<module>\u001b[0;34m()\u001b[0m\n\u001b[0;32m----> 1\u001b[0;31m \u001b[0msamples_x_random\u001b[0m\u001b[0;34m,\u001b[0m \u001b[0msamples_y_random\u001b[0m \u001b[0;34m=\u001b[0m \u001b[0moptimize_random\u001b[0m\u001b[0;34m(\u001b[0m\u001b[0mx_0\u001b[0m\u001b[0;34m,\u001b[0m \u001b[0msteps\u001b[0m\u001b[0;34m)\u001b[0m\u001b[0;34m\u001b[0m\u001b[0m\n\u001b[0m\u001b[1;32m      2\u001b[0m \u001b[0;31m# samples_x_skopt, samples_y_skopt = optimize_skopt(x_0, steps)\u001b[0m\u001b[0;34m\u001b[0m\u001b[0;34m\u001b[0m\u001b[0m\n\u001b[1;32m      3\u001b[0m \u001b[0;31m# samples_x_lstm, samples_y_lstm = optimize_lstm(x_0, steps)\u001b[0m\u001b[0;34m\u001b[0m\u001b[0;34m\u001b[0m\u001b[0m\n",
      "\u001b[0;32m<ipython-input-16-5b0461599693>\u001b[0m in \u001b[0;36moptimize_random\u001b[0;34m(x_0, steps)\u001b[0m\n\u001b[1;32m     16\u001b[0m \u001b[0;34m\u001b[0m\u001b[0m\n\u001b[1;32m     17\u001b[0m \u001b[0;32mdef\u001b[0m \u001b[0moptimize_random\u001b[0m\u001b[0;34m(\u001b[0m\u001b[0mx_0\u001b[0m\u001b[0;34m,\u001b[0m \u001b[0msteps\u001b[0m\u001b[0;34m)\u001b[0m\u001b[0;34m:\u001b[0m\u001b[0;34m\u001b[0m\u001b[0m\n\u001b[0;32m---> 18\u001b[0;31m     \u001b[0mres\u001b[0m \u001b[0;34m=\u001b[0m \u001b[0mskopt\u001b[0m\u001b[0;34m.\u001b[0m\u001b[0mdummy_minimize\u001b[0m\u001b[0;34m(\u001b[0m\u001b[0;32mlambda\u001b[0m \u001b[0mx\u001b[0m \u001b[0;34m:\u001b[0m \u001b[0mx\u001b[0m\u001b[0;34m**\u001b[0m\u001b[0;36m2\u001b[0m\u001b[0;34m,\u001b[0m \u001b[0mdimensions\u001b[0m\u001b[0;34m=\u001b[0m\u001b[0;34m[\u001b[0m\u001b[0;34m(\u001b[0m\u001b[0;34m-\u001b[0m\u001b[0;36m1.0\u001b[0m\u001b[0;34m,\u001b[0m\u001b[0;36m1.0\u001b[0m\u001b[0;34m)\u001b[0m\u001b[0;34m]\u001b[0m\u001b[0;34m*\u001b[0m\u001b[0;36m2\u001b[0m\u001b[0;34m,\u001b[0m \u001b[0mn_calls\u001b[0m\u001b[0;34m=\u001b[0m\u001b[0;36m2\u001b[0m\u001b[0;34m,\u001b[0m \u001b[0mverbose\u001b[0m\u001b[0;34m=\u001b[0m\u001b[0;32mTrue\u001b[0m\u001b[0;34m)\u001b[0m\u001b[0;34m\u001b[0m\u001b[0m\n\u001b[0m\u001b[1;32m     19\u001b[0m \u001b[0;31m#     return res.xiters, res.funcvals\u001b[0m\u001b[0;34m\u001b[0m\u001b[0;34m\u001b[0m\u001b[0m\n\u001b[1;32m     20\u001b[0m \u001b[0;34m\u001b[0m\u001b[0m\n",
      "\u001b[0;32m/Users/heytitle/projects/neural-network-project/python3-env/lib/python3.5/site-packages/skopt/optimizer/dummy.py\u001b[0m in \u001b[0;36mdummy_minimize\u001b[0;34m(func, dimensions, n_calls, x0, y0, random_state, verbose, callback)\u001b[0m\n\u001b[1;32m    145\u001b[0m \u001b[0;34m\u001b[0m\u001b[0m\n\u001b[1;32m    146\u001b[0m     \u001b[0;32mfor\u001b[0m \u001b[0mi\u001b[0m \u001b[0;32min\u001b[0m \u001b[0mrange\u001b[0m\u001b[0;34m(\u001b[0m\u001b[0mlen\u001b[0m\u001b[0;34m(\u001b[0m\u001b[0my0\u001b[0m\u001b[0;34m)\u001b[0m\u001b[0;34m,\u001b[0m \u001b[0mlen\u001b[0m\u001b[0;34m(\u001b[0m\u001b[0mX\u001b[0m\u001b[0;34m)\u001b[0m\u001b[0;34m)\u001b[0m\u001b[0;34m:\u001b[0m\u001b[0;34m\u001b[0m\u001b[0m\n\u001b[0;32m--> 147\u001b[0;31m         \u001b[0my_i\u001b[0m \u001b[0;34m=\u001b[0m \u001b[0mfunc\u001b[0m\u001b[0;34m(\u001b[0m\u001b[0mX\u001b[0m\u001b[0;34m[\u001b[0m\u001b[0mi\u001b[0m\u001b[0;34m]\u001b[0m\u001b[0;34m)\u001b[0m\u001b[0;34m\u001b[0m\u001b[0m\n\u001b[0m\u001b[1;32m    148\u001b[0m \u001b[0;34m\u001b[0m\u001b[0m\n\u001b[1;32m    149\u001b[0m         \u001b[0;32mif\u001b[0m \u001b[0mfirst\u001b[0m\u001b[0;34m:\u001b[0m\u001b[0;34m\u001b[0m\u001b[0m\n",
      "\u001b[0;32m<ipython-input-16-5b0461599693>\u001b[0m in \u001b[0;36m<lambda>\u001b[0;34m(x)\u001b[0m\n\u001b[1;32m     16\u001b[0m \u001b[0;34m\u001b[0m\u001b[0m\n\u001b[1;32m     17\u001b[0m \u001b[0;32mdef\u001b[0m \u001b[0moptimize_random\u001b[0m\u001b[0;34m(\u001b[0m\u001b[0mx_0\u001b[0m\u001b[0;34m,\u001b[0m \u001b[0msteps\u001b[0m\u001b[0;34m)\u001b[0m\u001b[0;34m:\u001b[0m\u001b[0;34m\u001b[0m\u001b[0m\n\u001b[0;32m---> 18\u001b[0;31m     \u001b[0mres\u001b[0m \u001b[0;34m=\u001b[0m \u001b[0mskopt\u001b[0m\u001b[0;34m.\u001b[0m\u001b[0mdummy_minimize\u001b[0m\u001b[0;34m(\u001b[0m\u001b[0;32mlambda\u001b[0m \u001b[0mx\u001b[0m \u001b[0;34m:\u001b[0m \u001b[0mx\u001b[0m\u001b[0;34m**\u001b[0m\u001b[0;36m2\u001b[0m\u001b[0;34m,\u001b[0m \u001b[0mdimensions\u001b[0m\u001b[0;34m=\u001b[0m\u001b[0;34m[\u001b[0m\u001b[0;34m(\u001b[0m\u001b[0;34m-\u001b[0m\u001b[0;36m1.0\u001b[0m\u001b[0;34m,\u001b[0m\u001b[0;36m1.0\u001b[0m\u001b[0;34m)\u001b[0m\u001b[0;34m]\u001b[0m\u001b[0;34m*\u001b[0m\u001b[0;36m2\u001b[0m\u001b[0;34m,\u001b[0m \u001b[0mn_calls\u001b[0m\u001b[0;34m=\u001b[0m\u001b[0;36m2\u001b[0m\u001b[0;34m,\u001b[0m \u001b[0mverbose\u001b[0m\u001b[0;34m=\u001b[0m\u001b[0;32mTrue\u001b[0m\u001b[0;34m)\u001b[0m\u001b[0;34m\u001b[0m\u001b[0m\n\u001b[0m\u001b[1;32m     19\u001b[0m \u001b[0;31m#     return res.xiters, res.funcvals\u001b[0m\u001b[0;34m\u001b[0m\u001b[0;34m\u001b[0m\u001b[0m\n\u001b[1;32m     20\u001b[0m \u001b[0;34m\u001b[0m\u001b[0m\n",
      "\u001b[0;31mTypeError\u001b[0m: unsupported operand type(s) for ** or pow(): 'list' and 'int'"
     ]
    }
   ],
   "source": [
    "# samples_x_skopt, samples_y_skopt = optimize_skopt(x_0, steps)\n",
    "# samples_x_lstm, samples_y_lstm = optimize_lstm(x_0, steps)"
   ]
  },
  {
   "cell_type": "code",
   "execution_count": null,
   "metadata": {
    "collapsed": true
   },
   "outputs": [],
   "source": [
    "viz.plot_min_curves([samples_y_lstm[np.newaxis,:], np.array(samples_y_random)[np.newaxis,:],\n",
    "                    np.array(samples_y_skopt)[np.newaxis,:]],['MIN', 'RANDOM','SKOPT'])"
   ]
  },
  {
   "cell_type": "code",
   "execution_count": null,
   "metadata": {
    "collapsed": true
   },
   "outputs": [],
   "source": [
    "def something(a=2, b=3):\n",
    "    print(a+b)"
   ]
  },
  {
   "cell_type": "code",
   "execution_count": null,
   "metadata": {
    "collapsed": true
   },
   "outputs": [],
   "source": [
    "something(2,3)"
   ]
  },
  {
   "cell_type": "code",
   "execution_count": null,
   "metadata": {
    "collapsed": true
   },
   "outputs": [],
   "source": [
    "d = {'a': 4, 'b': 5}\n",
    "something(**d)"
   ]
  },
  {
   "cell_type": "code",
   "execution_count": null,
   "metadata": {
    "collapsed": true
   },
   "outputs": [],
   "source": [
    "\"sdf {data}\".format(data=\"sdf\")"
   ]
  },
  {
   "cell_type": "code",
   "execution_count": null,
   "metadata": {
    "collapsed": true
   },
   "outputs": [],
   "source": [
    "y = np.load('./airfoil-opt-result/lstm-samples_y.npy')\n",
    "x = np.load('./airfoil-opt-result/lstm-samples_x.npy')"
   ]
  },
  {
   "cell_type": "code",
   "execution_count": null,
   "metadata": {
    "collapsed": true
   },
   "outputs": [],
   "source": [
    "x[0,:,:]"
   ]
  },
  {
   "cell_type": "code",
   "execution_count": null,
   "metadata": {
    "collapsed": true
   },
   "outputs": [],
   "source": [
    "%matplotlib inline\n",
    "\n",
    "import matplotlib.pyplot as plt\n",
    "\n",
    "plt.plot(y)"
   ]
  },
  {
   "cell_type": "code",
   "execution_count": null,
   "metadata": {
    "collapsed": true
   },
   "outputs": [],
   "source": [
    "la = [1,2,3,4]"
   ]
  },
  {
   "cell_type": "code",
   "execution_count": null,
   "metadata": {
    "collapsed": true
   },
   "outputs": [],
   "source": [
    "def generate_pair(arr):\n",
    "    total_items = len(arr)\n",
    "    for i in range(total_items):\n",
    "        for j in range(1, total_items):\n",
    "            yield (arr[i],arr[j]) \n",
    "            \n",
    "for p in generate_pair(la):\n",
    "    print(p)"
   ]
  },
  {
   "cell_type": "code",
   "execution_count": 8,
   "metadata": {
    "collapsed": true
   },
   "outputs": [],
   "source": [
    "la = [np.array([11,2,3]), [1,2,3], [2,3,4]]"
   ]
  },
  {
   "cell_type": "code",
   "execution_count": 9,
   "metadata": {},
   "outputs": [
    {
     "data": {
      "text/plain": [
       "(3, 3)"
      ]
     },
     "execution_count": 9,
     "metadata": {},
     "output_type": "execute_result"
    }
   ],
   "source": [
    "np.array(la).shape"
   ]
  },
  {
   "cell_type": "code",
   "execution_count": 87,
   "metadata": {},
   "outputs": [
    {
     "data": {
      "text/plain": [
       "<module 'airfoil_simulator' from '/Users/heytitle/projects/neural-network-project/airfoil_simulator.py'>"
      ]
     },
     "execution_count": 87,
     "metadata": {},
     "output_type": "execute_result"
    }
   ],
   "source": [
    "imp.reload(airfoil_simulator)\n"
   ]
  },
  {
   "cell_type": "code",
   "execution_count": 88,
   "metadata": {},
   "outputs": [
    {
     "name": "stdout",
     "output_type": "stream",
     "text": [
      "foil number 0 with alpha 0.200000\n",
      "work fine\n",
      "Iteration:   0\n",
      "control points: [[1, 0], [0.75, 0.050000000000000003], [0.5, 0.10000000000000001], [0.25, 0.20000000000000001], [0, 0], [0.25, -0.20000000000000001], [0.5, -0.10000000000000001], [0.75, -0.050000000000000003], [1, 0]]\n",
      "L/D = 1.6410861865407318\n",
      "\n"
     ]
    },
    {
     "data": {
      "text/plain": [
       "1.6410861865407318"
      ]
     },
     "execution_count": 88,
     "metadata": {},
     "output_type": "execute_result"
    }
   ],
   "source": [
    "import os\n",
    "import imp\n",
    "os.environ['XFOIL_PATH'] = '/Applications/Xfoil.app/Contents/Resources/xfoil'\n",
    "\n",
    "airfoil_simulator.objective([-0.2,-0.1], alpha=0.2, debug=True)"
   ]
  },
  {
   "cell_type": "code",
   "execution_count": 91,
   "metadata": {},
   "outputs": [],
   "source": [
    "x = np.array([-0.1,-0.1]).reshape(-1,2)"
   ]
  },
  {
   "cell_type": "code",
   "execution_count": 93,
   "metadata": {},
   "outputs": [
    {
     "data": {
      "text/plain": [
       "(2, 1)"
      ]
     },
     "execution_count": 93,
     "metadata": {},
     "output_type": "execute_result"
    }
   ],
   "source": [
    "x.reshape(-1,1).shape"
   ]
  },
  {
   "cell_type": "code",
   "execution_count": 98,
   "metadata": {},
   "outputs": [
    {
     "data": {
      "text/plain": [
       "(2,)"
      ]
     },
     "execution_count": 98,
     "metadata": {},
     "output_type": "execute_result"
    }
   ],
   "source": [
    "x.flatten().shape"
   ]
  },
  {
   "cell_type": "code",
   "execution_count": null,
   "metadata": {
    "collapsed": true
   },
   "outputs": [],
   "source": []
  }
 ],
 "metadata": {
  "anaconda-cloud": {},
  "kernelspec": {
   "display_name": "Python 3 : NI Project",
   "language": "python",
   "name": "python-3-ni-project"
  },
  "language_info": {
   "codemirror_mode": {
    "name": "ipython",
    "version": 3
   },
   "file_extension": ".py",
   "mimetype": "text/x-python",
   "name": "python",
   "nbconvert_exporter": "python",
   "pygments_lexer": "ipython3",
   "version": "3.5.1"
  }
 },
 "nbformat": 4,
 "nbformat_minor": 2
}
