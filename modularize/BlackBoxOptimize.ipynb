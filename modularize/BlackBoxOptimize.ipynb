{
 "cells": [
  {
   "cell_type": "markdown",
   "metadata": {},
   "source": [
    "## Global Black Box Optimization with RNNS"
   ]
  },
  {
   "cell_type": "code",
   "execution_count": 1,
   "metadata": {
    "collapsed": false
   },
   "outputs": [],
   "source": [
    "import tensorflow as tf\n",
    "import numpy as np\n",
    "import visualize as viz\n",
    "import benchmarkfunctions as bf\n",
    "import gpfunctions as gp\n",
    "import lstm_model\n",
    "import data"
   ]
  },
  {
   "cell_type": "code",
   "execution_count": 2,
   "metadata": {
    "collapsed": true
   },
   "outputs": [],
   "source": [
    "def print_model():\n",
    "        print(\"Function Dimension: \\t\\t\"+str(dim))\n",
    "        print(\"Number of Training Samples: \\t\"+str(n_train))\n",
    "        print(\"Number of Test Samples: \\t\"+str(n_test))\n",
    "        print(\"Number of GP-Bumps: \\t\\t\"+str(n_bumps))\n",
    "        print(\"GP length scale: \\t\\t\"+str(l))     \n",
    "        print(\"Number of hidden Units: \\t\"+str(n_hidden))\n",
    "        print(\"Sequence length: \\t\\t\"+ str(n_steps))\n",
    "        print(\"Noise in Observation: \\t\\t\"+ str(stddev))\n",
    "        print(\"Loss-Function: \\t\\t\\t\" + loss_type)\n",
    "        print(\"Epochs: \\t\\t\\t\"+str(epochs))\n",
    "        print(\"Gradient clipping: \\t\\t\"+str(gradient_clipping))\n",
    "        print(\"Forget bias: \\t\\t\\t\"+str(forget_bias))\n",
    "        print(\"Batch size: \\t\\t\\t\"+str(batch_size))\n",
    "        print(\"Learning rate init: \\t\\t\"+str(rate_init))\n",
    "        print(\"Learning rate final: \\t\\t\"+str(rate_final))\n",
    "        print(\"Learning rate decay: \\t\\t\"+str(rate_decay))\n",
    "        print(\"------------------------------------------------------------------------------------\")"
   ]
  },
  {
   "cell_type": "code",
   "execution_count": 3,
   "metadata": {
    "collapsed": false
   },
   "outputs": [],
   "source": [
    "# Data\n",
    "dim = 2\n",
    "n_train = 1600\n",
    "n_test = 160\n",
    "n_bumps = 6\n",
    "l = 2/n_bumps*np.sqrt(dim)\n",
    "n_mc_samples = 1000\n",
    "\n",
    "# LSTM Model\n",
    "n_hidden = 100\n",
    "n_steps = 20\n",
    "\n",
    "# Optimization\n",
    "epochs = 100\n",
    "gradient_clipping = 5.0\n",
    "forget_bias = 5.0\n",
    "rate_init = 0.005\n",
    "rate_final = 0.0001\n",
    "rate_decay = (rate_final/rate_init)**(1/epochs)\n",
    "batch_size = 128\n",
    "stddev = 0.00\n",
    "loss_type = [\"MIN\", \"SUM\", \"WSUM\", \"EI\", \"SUMMIN\"][1]\n",
    "\n",
    "# Visualization\n",
    "visualize = False"
   ]
  },
  {
   "cell_type": "code",
   "execution_count": 4,
   "metadata": {
    "collapsed": false
   },
   "outputs": [],
   "source": [
    "X_train, A_train, min_train, max_train, X_test, A_test, min_test, max_test = \\\n",
    "                                    data.gen_data(n_train, n_test, dim, n_bumps, l, n_mc_samples)\n",
    "    \n",
    "data_train = (X_train, A_train, min_train, max_train)\n",
    "data_test = (X_test, A_test, min_test, max_test)"
   ]
  },
  {
   "cell_type": "code",
   "execution_count": 5,
   "metadata": {
    "collapsed": false
   },
   "outputs": [],
   "source": [
    "# Visualize Training Data\n",
    "if visualize:\n",
    "    nplot = 9\n",
    "    idx = np.random.choice(list(range(n_train)), nplot)\n",
    "    f_plot = lambda x: gp.normalize(min_train[idx], max_train[idx], gp.GP(X_train[idx], A_train[idx], x, l)) \n",
    "    viz.plot_training_data(f_plot, dim, nplot, heat = True)"
   ]
  },
  {
   "cell_type": "code",
   "execution_count": 6,
   "metadata": {
    "collapsed": false
   },
   "outputs": [],
   "source": [
    "Xt, At, mint, maxt, samples_x, samples_y = \\\n",
    "        lstm_model.build_training_graph(n_bumps, dim, n_hidden, forget_bias, n_steps, l)\n",
    "    \n",
    "placeholders = {\"Xt\": Xt, \"At\": At, \"mint\": mint, \"maxt\": maxt}"
   ]
  },
  {
   "cell_type": "code",
   "execution_count": 7,
   "metadata": {
    "collapsed": true
   },
   "outputs": [],
   "source": [
    "sess = tf.InteractiveSession()\n",
    "sess.run(tf.global_variables_initializer())"
   ]
  },
  {
   "cell_type": "code",
   "execution_count": 8,
   "metadata": {
    "collapsed": false
   },
   "outputs": [
    {
     "name": "stdout",
     "output_type": "stream",
     "text": [
      "Ep:    0 | TrainLoss: -3.398 | TrainMin: -0.374 | TestLoss: -3.778 | TestMin: -0.415\n",
      "Ep:    1 | TrainLoss: -3.809 | TrainMin: -0.370 | TestLoss: -4.165 | TestMin: -0.407\n",
      "Ep:    2 | TrainLoss: -4.166 | TrainMin: -0.378 | TestLoss: -4.596 | TestMin: -0.415\n",
      "Ep:    3 | TrainLoss: -4.049 | TrainMin: -0.397 | TestLoss: -4.335 | TestMin: -0.434\n",
      "Ep:    4 | TrainLoss: -4.271 | TrainMin: -0.393 | TestLoss: -4.634 | TestMin: -0.433\n",
      "Ep:    5 | TrainLoss: -4.795 | TrainMin: -0.396 | TestLoss: -5.119 | TestMin: -0.436\n",
      "Ep:    6 | TrainLoss: -4.836 | TrainMin: -0.400 | TestLoss: -5.294 | TestMin: -0.443\n",
      "Ep:    7 | TrainLoss: -5.234 | TrainMin: -0.437 | TestLoss: -5.855 | TestMin: -0.484\n",
      "Ep:    8 | TrainLoss: -4.734 | TrainMin: -0.391 | TestLoss: -5.069 | TestMin: -0.434\n",
      "Ep:    9 | TrainLoss: -5.596 | TrainMin: -0.447 | TestLoss: -5.585 | TestMin: -0.472\n"
     ]
    },
    {
     "ename": "KeyboardInterrupt",
     "evalue": "",
     "output_type": "error",
     "traceback": [
      "\u001b[1;31m---------------------------------------------------------------------------\u001b[0m",
      "\u001b[1;31mKeyboardInterrupt\u001b[0m                         Traceback (most recent call last)",
      "\u001b[1;32m<ipython-input-8-c0cf039b27cd>\u001b[0m in \u001b[0;36m<module>\u001b[1;34m()\u001b[0m\n\u001b[0;32m      1\u001b[0m train_logs = lstm_model.train_model(sess, placeholders, epochs, batch_size, data_train, data_test,\n\u001b[1;32m----> 2\u001b[1;33m                      rate_init, rate_decay, gradient_clipping, loss_type, samples_y, log = True)\n\u001b[0m",
      "\u001b[1;32mD:\\Workspace\\NIPro\\modularize\\lstm_model.py\u001b[0m in \u001b[0;36mtrain_model\u001b[1;34m(sess, placeholders, epochs, batch_size, data_train, data_test, rate_init, rate_decay, gradient_clipping, loss_type, samples_y, log)\u001b[0m\n\u001b[0;32m    124\u001b[0m         \u001b[1;32mif\u001b[0m \u001b[0mlog\u001b[0m\u001b[1;33m:\u001b[0m\u001b[1;33m\u001b[0m\u001b[0m\n\u001b[0;32m    125\u001b[0m             train_loss, train_fmin = sess.run([loss, f_min], feed_dict=\\\n\u001b[1;32m--> 126\u001b[1;33m                                               {Xt: X_train, At: A_train, mint: min_train, maxt: max_train})\n\u001b[0m\u001b[0;32m    127\u001b[0m             test_loss, test_fmin = sess.run([loss, f_min], feed_dict=\\\n\u001b[0;32m    128\u001b[0m                                               {Xt: X_test, At: A_test, mint: min_test, maxt: max_test})\n",
      "\u001b[1;32mC:\\Users\\User\\Anaconda3\\envs\\tensorflow\\lib\\site-packages\\tensorflow\\python\\client\\session.py\u001b[0m in \u001b[0;36mrun\u001b[1;34m(self, fetches, feed_dict, options, run_metadata)\u001b[0m\n\u001b[0;32m    776\u001b[0m     \u001b[1;32mtry\u001b[0m\u001b[1;33m:\u001b[0m\u001b[1;33m\u001b[0m\u001b[0m\n\u001b[0;32m    777\u001b[0m       result = self._run(None, fetches, feed_dict, options_ptr,\n\u001b[1;32m--> 778\u001b[1;33m                          run_metadata_ptr)\n\u001b[0m\u001b[0;32m    779\u001b[0m       \u001b[1;32mif\u001b[0m \u001b[0mrun_metadata\u001b[0m\u001b[1;33m:\u001b[0m\u001b[1;33m\u001b[0m\u001b[0m\n\u001b[0;32m    780\u001b[0m         \u001b[0mproto_data\u001b[0m \u001b[1;33m=\u001b[0m \u001b[0mtf_session\u001b[0m\u001b[1;33m.\u001b[0m\u001b[0mTF_GetBuffer\u001b[0m\u001b[1;33m(\u001b[0m\u001b[0mrun_metadata_ptr\u001b[0m\u001b[1;33m)\u001b[0m\u001b[1;33m\u001b[0m\u001b[0m\n",
      "\u001b[1;32mC:\\Users\\User\\Anaconda3\\envs\\tensorflow\\lib\\site-packages\\tensorflow\\python\\client\\session.py\u001b[0m in \u001b[0;36m_run\u001b[1;34m(self, handle, fetches, feed_dict, options, run_metadata)\u001b[0m\n\u001b[0;32m    980\u001b[0m     \u001b[1;32mif\u001b[0m \u001b[0mfinal_fetches\u001b[0m \u001b[1;32mor\u001b[0m \u001b[0mfinal_targets\u001b[0m\u001b[1;33m:\u001b[0m\u001b[1;33m\u001b[0m\u001b[0m\n\u001b[0;32m    981\u001b[0m       results = self._do_run(handle, final_targets, final_fetches,\n\u001b[1;32m--> 982\u001b[1;33m                              feed_dict_string, options, run_metadata)\n\u001b[0m\u001b[0;32m    983\u001b[0m     \u001b[1;32melse\u001b[0m\u001b[1;33m:\u001b[0m\u001b[1;33m\u001b[0m\u001b[0m\n\u001b[0;32m    984\u001b[0m       \u001b[0mresults\u001b[0m \u001b[1;33m=\u001b[0m \u001b[1;33m[\u001b[0m\u001b[1;33m]\u001b[0m\u001b[1;33m\u001b[0m\u001b[0m\n",
      "\u001b[1;32mC:\\Users\\User\\Anaconda3\\envs\\tensorflow\\lib\\site-packages\\tensorflow\\python\\client\\session.py\u001b[0m in \u001b[0;36m_do_run\u001b[1;34m(self, handle, target_list, fetch_list, feed_dict, options, run_metadata)\u001b[0m\n\u001b[0;32m   1030\u001b[0m     \u001b[1;32mif\u001b[0m \u001b[0mhandle\u001b[0m \u001b[1;32mis\u001b[0m \u001b[1;32mNone\u001b[0m\u001b[1;33m:\u001b[0m\u001b[1;33m\u001b[0m\u001b[0m\n\u001b[0;32m   1031\u001b[0m       return self._do_call(_run_fn, self._session, feed_dict, fetch_list,\n\u001b[1;32m-> 1032\u001b[1;33m                            target_list, options, run_metadata)\n\u001b[0m\u001b[0;32m   1033\u001b[0m     \u001b[1;32melse\u001b[0m\u001b[1;33m:\u001b[0m\u001b[1;33m\u001b[0m\u001b[0m\n\u001b[0;32m   1034\u001b[0m       return self._do_call(_prun_fn, self._session, handle, feed_dict,\n",
      "\u001b[1;32mC:\\Users\\User\\Anaconda3\\envs\\tensorflow\\lib\\site-packages\\tensorflow\\python\\client\\session.py\u001b[0m in \u001b[0;36m_do_call\u001b[1;34m(self, fn, *args)\u001b[0m\n\u001b[0;32m   1037\u001b[0m   \u001b[1;32mdef\u001b[0m \u001b[0m_do_call\u001b[0m\u001b[1;33m(\u001b[0m\u001b[0mself\u001b[0m\u001b[1;33m,\u001b[0m \u001b[0mfn\u001b[0m\u001b[1;33m,\u001b[0m \u001b[1;33m*\u001b[0m\u001b[0margs\u001b[0m\u001b[1;33m)\u001b[0m\u001b[1;33m:\u001b[0m\u001b[1;33m\u001b[0m\u001b[0m\n\u001b[0;32m   1038\u001b[0m     \u001b[1;32mtry\u001b[0m\u001b[1;33m:\u001b[0m\u001b[1;33m\u001b[0m\u001b[0m\n\u001b[1;32m-> 1039\u001b[1;33m       \u001b[1;32mreturn\u001b[0m \u001b[0mfn\u001b[0m\u001b[1;33m(\u001b[0m\u001b[1;33m*\u001b[0m\u001b[0margs\u001b[0m\u001b[1;33m)\u001b[0m\u001b[1;33m\u001b[0m\u001b[0m\n\u001b[0m\u001b[0;32m   1040\u001b[0m     \u001b[1;32mexcept\u001b[0m \u001b[0merrors\u001b[0m\u001b[1;33m.\u001b[0m\u001b[0mOpError\u001b[0m \u001b[1;32mas\u001b[0m \u001b[0me\u001b[0m\u001b[1;33m:\u001b[0m\u001b[1;33m\u001b[0m\u001b[0m\n\u001b[0;32m   1041\u001b[0m       \u001b[0mmessage\u001b[0m \u001b[1;33m=\u001b[0m \u001b[0mcompat\u001b[0m\u001b[1;33m.\u001b[0m\u001b[0mas_text\u001b[0m\u001b[1;33m(\u001b[0m\u001b[0me\u001b[0m\u001b[1;33m.\u001b[0m\u001b[0mmessage\u001b[0m\u001b[1;33m)\u001b[0m\u001b[1;33m\u001b[0m\u001b[0m\n",
      "\u001b[1;32mC:\\Users\\User\\Anaconda3\\envs\\tensorflow\\lib\\site-packages\\tensorflow\\python\\client\\session.py\u001b[0m in \u001b[0;36m_run_fn\u001b[1;34m(session, feed_dict, fetch_list, target_list, options, run_metadata)\u001b[0m\n\u001b[0;32m   1019\u001b[0m         return tf_session.TF_Run(session, options,\n\u001b[0;32m   1020\u001b[0m                                  \u001b[0mfeed_dict\u001b[0m\u001b[1;33m,\u001b[0m \u001b[0mfetch_list\u001b[0m\u001b[1;33m,\u001b[0m \u001b[0mtarget_list\u001b[0m\u001b[1;33m,\u001b[0m\u001b[1;33m\u001b[0m\u001b[0m\n\u001b[1;32m-> 1021\u001b[1;33m                                  status, run_metadata)\n\u001b[0m\u001b[0;32m   1022\u001b[0m \u001b[1;33m\u001b[0m\u001b[0m\n\u001b[0;32m   1023\u001b[0m     \u001b[1;32mdef\u001b[0m \u001b[0m_prun_fn\u001b[0m\u001b[1;33m(\u001b[0m\u001b[0msession\u001b[0m\u001b[1;33m,\u001b[0m \u001b[0mhandle\u001b[0m\u001b[1;33m,\u001b[0m \u001b[0mfeed_dict\u001b[0m\u001b[1;33m,\u001b[0m \u001b[0mfetch_list\u001b[0m\u001b[1;33m)\u001b[0m\u001b[1;33m:\u001b[0m\u001b[1;33m\u001b[0m\u001b[0m\n",
      "\u001b[1;31mKeyboardInterrupt\u001b[0m: "
     ]
    }
   ],
   "source": [
    "train_logs = lstm_model.train_model(sess, placeholders, epochs, batch_size, data_train, data_test,\n",
    "                     rate_init, rate_decay, gradient_clipping, loss_type, samples_y, log = True)"
   ]
  },
  {
   "cell_type": "code",
   "execution_count": null,
   "metadata": {
    "collapsed": false
   },
   "outputs": [],
   "source": [
    "viz.visualize_learning(train_logs)"
   ]
  },
  {
   "cell_type": "markdown",
   "metadata": {},
   "source": [
    "## Evaluate on Training/Test Data"
   ]
  },
  {
   "cell_type": "code",
   "execution_count": 11,
   "metadata": {
    "collapsed": false
   },
   "outputs": [],
   "source": [
    "# Extract Samples\n",
    "samples_train_x, samples_train_y = sess.run([samples_x, samples_y],\\\n",
    "                                            feed_dict={Xt: X_train, At: A_train, mint: min_train, maxt: max_train})\n",
    "samples_train_x = np.array(samples_train_x).reshape(n_steps+1,n_train, dim).transpose((1,0,2))\n",
    "samples_train_y = np.array(samples_train_y).reshape(n_steps+1,n_train).T\n",
    "samples_test_x, samples_test_y = sess.run([samples_x, samples_y],\\\n",
    "                                          feed_dict={Xt: X_test, At: A_test, mint: min_test, maxt: max_test})\n",
    "samples_test_x = np.array(samples_test_x).reshape(n_steps+1,n_test, dim).transpose((1,0,2))\n",
    "samples_test_y = np.array(samples_test_y).reshape(n_steps+1,n_test).T"
   ]
  },
  {
   "cell_type": "code",
   "execution_count": 14,
   "metadata": {
    "collapsed": false,
    "scrolled": false
   },
   "outputs": [],
   "source": [
    "# Show results on Training Data\n",
    "if visualize:\n",
    "    nplot = 12\n",
    "    idx = np.random.choice(list(range(n_train)), nplot)\n",
    "    f_plot = lambda x: normalize(min_train[idx], max_train[idx], GP(X_train[idx], A_train[idx], x)) \n",
    "    viz.plot_result(f_plot, dim, nplot, samples_train_x[idx], samples_train_y[idx])"
   ]
  },
  {
   "cell_type": "code",
   "execution_count": null,
   "metadata": {
    "collapsed": false
   },
   "outputs": [],
   "source": [
    "# Show results on Test Data\n",
    "if visualize:\n",
    "    nplot = 12\n",
    "    idx = np.random.choice(list(range(n_test)), nplot)\n",
    "    f_plot = lambda x: normalize(min_test[idx], max_test[idx], GP(X_test[idx], A_test[idx], x)) \n",
    "    viz.plot_result(f_plot, dim, nplot, samples_test_x[idx], samples_test_y[idx])"
   ]
  },
  {
   "cell_type": "markdown",
   "metadata": {},
   "source": [
    "## Evaluate on Benchmark Function"
   ]
  },
  {
   "cell_type": "code",
   "execution_count": null,
   "metadata": {
    "collapsed": true
   },
   "outputs": [],
   "source": [
    "f_bm = [bf.branin, bf.goldstein_price, bf.hartmann3, bf.hartmann6][3]\n",
    "f_bm_tf = [bf.branin_tf, bf.goldstein_price_tf, bf.hartmann3_tf, bf.hartmann6_tf][3]"
   ]
  },
  {
   "cell_type": "code",
   "execution_count": null,
   "metadata": {
    "collapsed": false
   },
   "outputs": [],
   "source": [
    "samples_benchmark_x, samples_benchmark_y = sess.run(lstm_model(f_bm_tf, cell, weights), feed_dict={size: 1})\n",
    "samples_benchmark_x = np.array(samples_benchmark_x).reshape(n_steps+1,1, dim).transpose((1,0,2))\n",
    "samples_benchmark_y = np.array(samples_benchmark_y).reshape(n_steps+1,1).T"
   ]
  },
  {
   "cell_type": "code",
   "execution_count": null,
   "metadata": {
    "collapsed": false
   },
   "outputs": [],
   "source": [
    "viz.plot_result(f_bm, dim, 1, samples_benchmark_x, samples_benchmark_y)"
   ]
  },
  {
   "cell_type": "code",
   "execution_count": null,
   "metadata": {
    "collapsed": true
   },
   "outputs": [],
   "source": []
  }
 ],
 "metadata": {
  "anaconda-cloud": {},
  "kernelspec": {
   "display_name": "Python [conda env:tensorflow]",
   "language": "python",
   "name": "conda-env-tensorflow-py"
  },
  "language_info": {
   "codemirror_mode": {
    "name": "ipython",
    "version": 3
   },
   "file_extension": ".py",
   "mimetype": "text/x-python",
   "name": "python",
   "nbconvert_exporter": "python",
   "pygments_lexer": "ipython3",
   "version": "3.5.2"
  }
 },
 "nbformat": 4,
 "nbformat_minor": 1
}
