{
 "cells": [
  {
   "cell_type": "code",
   "execution_count": 9,
   "metadata": {
    "collapsed": true
   },
   "outputs": [],
   "source": [
    "%matplotlib qt5\n",
    "import tensorflow as tf\n",
    "import numpy as np\n",
    "import matplotlib.pyplot as plt"
   ]
  },
  {
   "cell_type": "code",
   "execution_count": 2,
   "metadata": {
    "collapsed": true
   },
   "outputs": [],
   "source": [
    "def func1(x):\n",
    "    return (6*x-2)**2*np.sin(12*x-4)"
   ]
  },
  {
   "cell_type": "code",
   "execution_count": 39,
   "metadata": {
    "collapsed": false
   },
   "outputs": [],
   "source": [
    "n_grid = 1000\n",
    "n_samples = 3\n",
    "x_grid = np.linspace(0,1,n_grid)\n",
    "y_grid = func1(x_grid)\n",
    "x_samples = np.linspace(0,1,n_samples)\n",
    "y_samples = func1(x_samples)"
   ]
  },
  {
   "cell_type": "code",
   "execution_count": 40,
   "metadata": {
    "collapsed": false
   },
   "outputs": [],
   "source": [
    "plt.figure(figsize=(20,10))\n",
    "plt.hold(True)\n",
    "plt.plot(x_grid,y_grid,color='k')\n",
    "plt.scatter(x_samples,y_samples,marker='x',color=\"b\")\n",
    "plt.show()"
   ]
  },
  {
   "cell_type": "code",
   "execution_count": 41,
   "metadata": {
    "collapsed": false
   },
   "outputs": [],
   "source": [
    "# Define Model\n",
    "x = tf.placeholder(shape=[None, 1],dtype=tf.float32)\n",
    "y = tf.placeholder(shape=[None, 1],dtype=tf.float32)\n",
    "\n",
    "W_1 = tf.Variable(tf.truncated_normal(shape=[1, 127],stddev=0.5))\n",
    "b_1 = tf.Variable(tf.truncated_normal([127],stddev=0.5))\n",
    "W_2 = tf.Variable(tf.truncated_normal([127, 127],stddev=0.5))\n",
    "b_2 = tf.Variable(tf.truncated_normal([127],stddev=0.5))\n",
    "W_out = tf.Variable(tf.truncated_normal([127, 1],stddev=0.5))\n",
    "b_out = tf.Variable(tf.truncated_normal([1],stddev=0.5))\n",
    "\n",
    "y_predict = tf.matmul(tf.sigmoid(tf.matmul(tf.sigmoid(tf.matmul(x, W_1)+b_1), W_2) + b_2),W_out)+b_out"
   ]
  },
  {
   "cell_type": "code",
   "execution_count": 42,
   "metadata": {
    "collapsed": false
   },
   "outputs": [],
   "source": [
    "# Cost Function\n",
    "error = tf.reduce_mean(tf.square(y_predict-y))\n",
    "\n",
    "# Optimizer\n",
    "train_step = tf.train.AdamOptimizer().minimize(error)"
   ]
  },
  {
   "cell_type": "code",
   "execution_count": 44,
   "metadata": {
    "collapsed": false
   },
   "outputs": [
    {
     "name": "stdout",
     "output_type": "stream",
     "text": [
      "[68.684311]\n",
      "[7.2545476e-09]\n"
     ]
    }
   ],
   "source": [
    "sess = tf.InteractiveSession()\n",
    "sess.run(tf.global_variables_initializer())\n",
    "\n",
    "err = sess.run([error],feed_dict={x:x_samples.reshape(n_samples,1),y:y_samples.reshape(n_samples,1)})\n",
    "print(err)\n",
    "\n",
    "for i in range(1500):\n",
    "    sess.run(train_step,feed_dict={x:x_samples.reshape(n_samples,1),y:y_samples.reshape(n_samples,1)})\n",
    "        \n",
    "err = sess.run([error],feed_dict={x:x_samples.reshape(n_samples,1),y:y_samples.reshape(n_samples,1)})\n",
    "print(err)"
   ]
  },
  {
   "cell_type": "code",
   "execution_count": 45,
   "metadata": {
    "collapsed": false
   },
   "outputs": [],
   "source": [
    "y_p = sess.run(y_predict, feed_dict={x:x_grid.reshape(n_grid,1)})"
   ]
  },
  {
   "cell_type": "code",
   "execution_count": 112,
   "metadata": {
    "collapsed": false
   },
   "outputs": [],
   "source": [
    "y_p = np.array(y_p).reshape(n_grid)\n",
    "u = np.reshape(np.array(np.min(np.abs(np.repeat(np.matrix(x_samples).T,n_grid,axis=1)-x_grid), axis=0)),-1)"
   ]
  },
  {
   "cell_type": "code",
   "execution_count": 117,
   "metadata": {
    "collapsed": false
   },
   "outputs": [],
   "source": [
    "plt.figure(figsize=(8,6))\n",
    "plt.hold(True)\n",
    "plt.plot(x_grid,y_grid,label='True Function',linewidth=2)\n",
    "plt.plot(x_grid,y_p, label=\"DNN Aproximation\",linewidth=2)\n",
    "#plt.plot(x_grid, 20*u**2, label=\"Uncertainty\")\n",
    "plt.plot(x_grid, y_p-20*u**2, label=\"Uncertainty\")\n",
    "plt.plot(x_grid, y_p+20*u**2, label=\"Uncertainty\")\n",
    "plt.scatter(x_samples,y_samples,linewidth=2,label=\"Samples\")\n",
    "#plt.title(\"1D Regression\")\n",
    "plt.legend()\n",
    "plt.show()"
   ]
  },
  {
   "cell_type": "code",
   "execution_count": 111,
   "metadata": {
    "collapsed": false
   },
   "outputs": [
    {
     "data": {
      "text/plain": [
       "(1000, 1000)"
      ]
     },
     "execution_count": 111,
     "metadata": {},
     "output_type": "execute_result"
    }
   ],
   "source": [
    "(y_p-u).shape"
   ]
  },
  {
   "cell_type": "code",
   "execution_count": null,
   "metadata": {
    "collapsed": true
   },
   "outputs": [],
   "source": []
  }
 ],
 "metadata": {
  "anaconda-cloud": {},
  "kernelspec": {
   "display_name": "Python [conda root]",
   "language": "python",
   "name": "conda-root-py"
  },
  "language_info": {
   "codemirror_mode": {
    "name": "ipython",
    "version": 3
   },
   "file_extension": ".py",
   "mimetype": "text/x-python",
   "name": "python",
   "nbconvert_exporter": "python",
   "pygments_lexer": "ipython3",
   "version": "3.5.2"
  }
 },
 "nbformat": 4,
 "nbformat_minor": 1
}
