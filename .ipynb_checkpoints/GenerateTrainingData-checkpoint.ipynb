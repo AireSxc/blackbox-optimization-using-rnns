{
 "cells": [
  {
   "cell_type": "code",
   "execution_count": 1,
   "metadata": {
    "collapsed": true
   },
   "outputs": [],
   "source": [
    "import tensorflow as tf\n",
    "import numpy as np"
   ]
  },
  {
   "cell_type": "code",
   "execution_count": 2,
   "metadata": {
    "collapsed": true
   },
   "outputs": [],
   "source": [
    "def kernel(x1,x2,l):\n",
    "    return np.exp(-1.0/l**2*np.sum((np.expand_dims(x1,axis=2) - np.expand_dims(x2,axis=1))**2, axis = 3))\n",
    "\n",
    "def GP(X,A,x,l):\n",
    "    k_xX = kernel(x,X,l)\n",
    "    return np.squeeze(np.matmul(k_xX,  A),axis=(2,))\n",
    "\n",
    "def normalize(minv, maxv, y):\n",
    "    return 2*(y-minv)/(maxv-minv)-1.0"
   ]
  },
  {
   "cell_type": "code",
   "execution_count": 3,
   "metadata": {
    "collapsed": true
   },
   "outputs": [],
   "source": [
    "def gen_data(n_data, dim, n_gp_samples, n_mc_samples, l):\n",
    "    X = np.random.uniform(low = -1.0, high = 1.0, size = (n_data, n_gp_samples, dim))\n",
    "    Y = np.random.uniform(low = -1.0, high = 1.0, size = (n_data, n_gp_samples))\n",
    "\n",
    "    K_XX = kernel(X,X,l)\n",
    "    A = np.linalg.solve(K_XX, np.expand_dims(Y,axis=2))\n",
    "    \n",
    "    mc_samples = np.random.uniform(low = -1.0, high = 1.0, size = [1, n_mc_samples, dim])\n",
    "    y = GP(X,A,mc_samples,l)\n",
    "\n",
    "    min_vals = np.min(y, axis = 1).reshape(n_data,1)\n",
    "    max_vals = np.max(y, axis = 1).reshape(n_data,1)\n",
    "\n",
    "    return (X, A, min_vals, max_vals)"
   ]
  },
  {
   "cell_type": "code",
   "execution_count": 16,
   "metadata": {
    "collapsed": false
   },
   "outputs": [],
   "source": [
    "# Data\n",
    "n_data = 10000\n",
    "n_gp_samples = 6\n",
    "l = 0.3\n",
    "n_mc_samples = 1000\n",
    "dim = 5\n",
    "\n",
    "params = np.array([n_data, n_gp_samples, n_mc_samples, l, dim])"
   ]
  },
  {
   "cell_type": "code",
   "execution_count": 17,
   "metadata": {
    "collapsed": true
   },
   "outputs": [],
   "source": [
    "X, A, minv, maxv = gen_data(n_data, dim, n_gp_samples, n_mc_samples, l)"
   ]
  },
  {
   "cell_type": "code",
   "execution_count": 18,
   "metadata": {
    "collapsed": false
   },
   "outputs": [],
   "source": [
    "np.save(\"./Data/\"+str(dim)+\"D/params\", params)\n",
    "np.save(\"./Data/\"+str(dim)+\"D/X\", X)\n",
    "np.save(\"./Data/\"+str(dim)+\"D/A\", A)\n",
    "np.save(\"./Data/\"+str(dim)+\"D/minv\", minv)\n",
    "np.save(\"./Data/\"+str(dim)+\"D/maxv\", maxv)\n"
   ]
  },
  {
   "cell_type": "code",
   "execution_count": null,
   "metadata": {
    "collapsed": true
   },
   "outputs": [],
   "source": []
  }
 ],
 "metadata": {
  "anaconda-cloud": {},
  "kernelspec": {
   "display_name": "Python [conda env:tensorflow]",
   "language": "python",
   "name": "conda-env-tensorflow-py"
  },
  "language_info": {
   "codemirror_mode": {
    "name": "ipython",
    "version": 3
   },
   "file_extension": ".py",
   "mimetype": "text/x-python",
   "name": "python",
   "nbconvert_exporter": "python",
   "pygments_lexer": "ipython3",
   "version": "3.5.2"
  }
 },
 "nbformat": 4,
 "nbformat_minor": 1
}
