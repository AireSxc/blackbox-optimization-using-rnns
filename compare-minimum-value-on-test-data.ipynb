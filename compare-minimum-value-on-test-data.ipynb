{
 "cells": [
  {
   "cell_type": "code",
   "execution_count": 1,
   "metadata": {
    "collapsed": true
   },
   "outputs": [],
   "source": [
    "%matplotlib qt5\n",
    "\n",
    "import numpy as np\n",
    "import tensorflow as tf\n",
    "import matplotlib.pyplot as plt\n",
    "\n",
    "import utils\n",
    "import gpfunctions as gp\n",
    "import lstm_model"
   ]
  },
  {
   "cell_type": "code",
   "execution_count": 2,
   "metadata": {
    "collapsed": true
   },
   "outputs": [],
   "source": [
    "tf.logging.set_verbosity(tf.logging.ERROR)"
   ]
  },
  {
   "cell_type": "code",
   "execution_count": 3,
   "metadata": {
    "collapsed": true
   },
   "outputs": [],
   "source": [
    "LOSS_FUNCS = ['MIN', 'OI', 'SUMMIN']\n",
    "BASELINES = ['SKOPT', 'RANDOM'] "
   ]
  },
  {
   "cell_type": "code",
   "execution_count": 4,
   "metadata": {
    "collapsed": false
   },
   "outputs": [],
   "source": [
    "def average_min_found_values_across_rows(values):\n",
    "    return np.mean(np.apply_along_axis(utils.min_up_to_k, 1, values), axis=0)\n",
    "\n",
    "def find_y_randomly(X_test, A_test, min_test, max_test, dim, kernel, n_test=2000, n_steps=20, n_bumps=6.0):\n",
    "    params = {\n",
    "        'function': gp.normalized_gp_function,\n",
    "        'kernel': gp.kernel_function(kernel),\n",
    "        'dim': dim,\n",
    "        'l': 2/n_bumps*np.sqrt(dim),\n",
    "        'n_steps': n_steps+1,\n",
    "        'n_test': n_test,\n",
    "        'X_test': X_test,\n",
    "        'A_test': A_test,\n",
    "        'min_test': min_test,\n",
    "        'max_test': max_test\n",
    "    }\n",
    "    return lstm_model.get_random_baseline(**params)"
   ]
  },
  {
   "cell_type": "code",
   "execution_count": 5,
   "metadata": {
    "collapsed": true
   },
   "outputs": [],
   "source": [
    "def find_y_from_lstm(X_test, A_test, min_test, max_test, kernel, dim, loss, n_steps=20, debug=False):\n",
    "    \n",
    "    model = utils.get_trained_model(dim=dim, kernel=kernel, loss=loss)    \n",
    "    starting_point = utils.loadConfig()['experiments']['%dD'%dim]['hyperparameters']['starting_point'][0]\n",
    "\n",
    "\n",
    "    data_Xt = X_test\n",
    "    data_At  = A_test\n",
    "    data_mint = min_test.reshape(-1,1)\n",
    "    data_maxt = max_test.reshape(-1,1)\n",
    "\n",
    "    model_params = lstm_model.load_model_params(model, debug=False)\n",
    "\n",
    "    with tf.Session() as sess:\n",
    "        params_dict = {\n",
    "            'n_bumps': model_params['n_bumps'],\n",
    "            'dim' : model_params['dim'],\n",
    "            'n_hidden': model_params['n_hidden'],\n",
    "            'forget_bias': model_params['forget_bias'],\n",
    "            'n_steps': model_params['n_steps'],\n",
    "            'l': model_params['gp_length'],\n",
    "            'scope': model_params['scope']\n",
    "        }\n",
    "\n",
    "        Xt, At, mint, maxt, samples_x, samples_y, x_0, _, _ = lstm_model.build_training_graph(**params_dict)\n",
    "\n",
    "        saver = tf.train.Saver()\n",
    "        saver.restore(sess, model_params['model_path'])\n",
    "\n",
    "        feed_dict = {\n",
    "            Xt: data_Xt,\n",
    "            At: data_At,\n",
    "            mint: data_mint,\n",
    "            maxt: data_maxt,\n",
    "            x_0: np.array(starting_point).reshape(1,-1)\n",
    "        }\n",
    "\n",
    "        res = sess.run(samples_y, feed_dict=feed_dict)\n",
    "\n",
    "        return np.array(res).reshape(n_steps+1,-1).T\n",
    "\n",
    "# print(model_name)\n",
    "# compute_y_from_all_testing_data(utils.)\n",
    "# compute_y_from_all_testing_data(model_name, dim=1, kernel='rbf', starting_point=[-1])"
   ]
  },
  {
   "cell_type": "code",
   "execution_count": 8,
   "metadata": {
    "collapsed": true
   },
   "outputs": [],
   "source": [
    "def plot_min_comparison_of_dim_and_kernel(dim, kernel):\n",
    "    \n",
    "    # load SKOPT\n",
    "    for method in ['gp', 'gbrt']:\n",
    "        skopt_y = np.load('./skopt-result/%s/%dd-%s-samples_y.npy' % (method, dim, kernel))\n",
    "        skopt_y = average_min_found_values_across_rows(skopt_y)\n",
    "        key = 'SKOPT-%s' % method.upper()\n",
    "        plt.plot(skopt_y, label=key)\n",
    "    \n",
    "    # load test data\n",
    "    X_test, A_test, min_test, max_test = utils.loadData(dim, 'testing', kernel)\n",
    "    \n",
    "    # load RANDOM    \n",
    "    random_y = find_y_randomly(X_test, A_test, min_test, max_test, dim, kernel)\n",
    "    random_y = average_min_found_values_across_rows(random_y)\n",
    "    plt.plot(random_y, label='RANDOM')\n",
    "    \n",
    "    # load LSTM data\n",
    "    for loss in LOSS_FUNCS:\n",
    "        y_values = find_y_from_lstm(X_test, A_test, min_test, max_test, dim=dim, kernel=kernel, loss=loss)\n",
    "        y_values = average_min_found_values_across_rows(y_values)\n",
    "        plt.plot(y_values, label='LSTM-%s'%loss, marker = 'o')\n",
    "    \n",
    "    # using model trained on different kernel\n",
    "    kernelb = 'rbf' if kernel is 'matern32' else 'matern32'\n",
    "    y_values = find_y_from_lstm(X_test, A_test, min_test, max_test, dim=dim, kernel=kernelb, loss='MIN')\n",
    "    y_values = average_min_found_values_across_rows(y_values)\n",
    "\n",
    "    plt.plot(y_values, label='LSTM-%s-%s'%('MIN',kernelb), marker = '^')\n",
    "\n",
    "    \n",
    "    xticks = range(0,random_y.shape[0],2)\n",
    "    yticks = np.arange(-1.2, 0.2, 0.2)\n",
    "    plt.ylabel('Min Found')\n",
    "    plt.xlabel('Evaluation Step')\n",
    "    plt.xticks(xticks)\n",
    "    plt.yticks(yticks)\n",
    "    plt.title('%dD-%s' % (dim, kernel.upper()))\n",
    "    plt.legend()\n",
    "\n",
    "def plot_comparision_of_dim(dim):\n",
    "    kernels = ['rbf', 'matern32']\n",
    "    plt.figure(figsize=(15,4))\n",
    "    \n",
    "    for i in range(len(kernels)):\n",
    "        plt.subplot(1,2,i+1)\n",
    "        plot_min_comparison_of_dim_and_kernel(dim=dim, kernel=kernels[i])\n",
    "        \n",
    "def plot_comparison_of_dims(dims):\n",
    "    kernels = ['rbf', 'matern32']\n",
    "    plt.figure(figsize=(20,8))\n",
    "    \n",
    "    for j, d in enumerate(dims):\n",
    "        for i in range(len(kernels)):\n",
    "            plt.subplot(2,len(dims),j+i*len(dims)+1)\n",
    "            plot_min_comparison_of_dim_and_kernel(dim=d, kernel=kernels[i])    "
   ]
  },
  {
   "cell_type": "code",
   "execution_count": null,
   "metadata": {
    "collapsed": false
   },
   "outputs": [],
   "source": [
    "plot_comparision_of_dim(dim=1)"
   ]
  },
  {
   "cell_type": "code",
   "execution_count": null,
   "metadata": {
    "collapsed": false
   },
   "outputs": [],
   "source": [
    "plot_comparision_of_dim(dim=2)"
   ]
  },
  {
   "cell_type": "code",
   "execution_count": null,
   "metadata": {
    "collapsed": false
   },
   "outputs": [],
   "source": [
    "plot_comparision_of_dim(dim=3)"
   ]
  },
  {
   "cell_type": "code",
   "execution_count": null,
   "metadata": {
    "collapsed": false
   },
   "outputs": [],
   "source": [
    "plot_comparision_of_dim(dim=4)"
   ]
  },
  {
   "cell_type": "code",
   "execution_count": null,
   "metadata": {
    "collapsed": false
   },
   "outputs": [],
   "source": [
    "plot_comparision_of_dim(dim=6)"
   ]
  },
  {
   "cell_type": "code",
   "execution_count": 9,
   "metadata": {
    "collapsed": false
   },
   "outputs": [],
   "source": [
    "plot_comparison_of_dims([1,2,3,4,6])"
   ]
  },
  {
   "cell_type": "code",
   "execution_count": null,
   "metadata": {
    "collapsed": false
   },
   "outputs": [],
   "source": [
    "def plot_for_poster():\n",
    "    dims = [2,3,4,6]\n",
    "    total_dims = len(dims)\n",
    "    kernels = ['rbf']\n",
    "    plt.figure(figsize=(15,4*total_dims))\n",
    "    count = 0\n",
    "    for d in range(total_dims):\n",
    "        dim = dims[d]\n",
    "        for i in range(len(kernels)):\n",
    "            plt.subplot(total_dims,2,count+1)\n",
    "            plot_min_comparison_of_dim_and_kernel(dim=dim, kernel=kernels[i])\n",
    "            \n",
    "            if i == 0 and d == 0:\n",
    "                plt.legend()\n",
    "            count = count + 1\n",
    "    plt.tight_layout()\n",
    "plot_for_poster()"
   ]
  },
  {
   "cell_type": "code",
   "execution_count": null,
   "metadata": {
    "collapsed": true
   },
   "outputs": [],
   "source": [
    "def find_xy_from_lstm(X_test, A_test, min_test, max_test, kernel, dim, loss, n_steps=20, debug=False):\n",
    "    \n",
    "    model = utils.get_trained_model(dim=dim, kernel=kernel, loss=loss)    \n",
    "    starting_point = utils.loadConfig()['experiments']['%dD'%dim]['hyperparameters']['starting_point'][0]\n",
    "\n",
    "\n",
    "    data_Xt = X_test\n",
    "    data_At  = A_test\n",
    "    data_mint = min_test.reshape(-1,1)\n",
    "    data_maxt = max_test.reshape(-1,1)\n",
    "\n",
    "    model_params = lstm_model.load_model_params(model, debug=False)\n",
    "\n",
    "    with tf.Session() as sess:\n",
    "        params_dict = {\n",
    "            'n_bumps': model_params['n_bumps'],\n",
    "            'dim' : model_params['dim'],\n",
    "            'n_hidden': model_params['n_hidden'],\n",
    "            'forget_bias': model_params['forget_bias'],\n",
    "            'n_steps': model_params['n_steps'],\n",
    "            'l': model_params['gp_length'],\n",
    "            'scope': model_params['scope']\n",
    "        }\n",
    "\n",
    "        Xt, At, mint, maxt, samples_x, samples_y, x_0, _, _ = lstm_model.build_training_graph(**params_dict)\n",
    "\n",
    "        saver = tf.train.Saver()\n",
    "        saver.restore(sess, model_params['model_path'])\n",
    "\n",
    "        feed_dict = {\n",
    "            Xt: data_Xt,\n",
    "            At: data_At,\n",
    "            mint: data_mint,\n",
    "            maxt: data_maxt,\n",
    "            x_0: np.array(starting_point).reshape(1,-1)\n",
    "        }\n",
    "\n",
    "        y,x = sess.run([samples_y,samples_x], feed_dict=feed_dict)\n",
    "\n",
    "        return y,x\n",
    "X_test, A_test, min_test, max_test = utils.loadData(6, 'testing', 'rbf')\n",
    "sy, sx = find_xy_from_lstm(X_test, A_test, min_test, max_test, 'rbf', 6, 'MIN')"
   ]
  },
  {
   "cell_type": "code",
   "execution_count": null,
   "metadata": {
    "collapsed": false
   },
   "outputs": [],
   "source": [
    "np.array(sx)[2, 0,:]"
   ]
  },
  {
   "cell_type": "code",
   "execution_count": null,
   "metadata": {
    "collapsed": false
   },
   "outputs": [],
   "source": [
    "np.array(sy)[:5,0,:]"
   ]
  },
  {
   "cell_type": "code",
   "execution_count": null,
   "metadata": {
    "collapsed": false
   },
   "outputs": [],
   "source": [
    "idx = 0\n",
    "length = 2/(6.0)*np.sqrt(6)\n",
    "\n",
    "# data = np.array([-1]*6)\n",
    "    data = np.array(sx)[:5, idx,:].reshape(1,1,6)\n",
    "# data = np.array(sx)[:5, 0,:]\n",
    "# print(data.shape)\n",
    "gp.normalized_gp_function('np', X_test[np.newaxis, idx], A_test[np.newaxis, idx], min_test[np.newaxis, idx], max_test[np.newaxis, idx], \\\n",
    "    length, gp.kernel_function('rbf'), data)"
   ]
  },
  {
   "cell_type": "code",
   "execution_count": null,
   "metadata": {
    "collapsed": false
   },
   "outputs": [],
   "source": [
    "gp.rbf_kernel('np', np.array([1,1,1,1]).reshape(1,1,4), np.array([0,0,0,0]).reshape(1,1,4), 1)"
   ]
  },
  {
   "cell_type": "code",
   "execution_count": null,
   "metadata": {
    "collapsed": false
   },
   "outputs": [],
   "source": [
    "np.exp(-1* np.sum(np.power((np.array([1,1,1,1]) - np.array([0,0,0,0])),2) ))"
   ]
  },
  {
   "cell_type": "code",
   "execution_count": null,
   "metadata": {
    "collapsed": true
   },
   "outputs": [],
   "source": [
    "with tf.Session() as sess:\n",
    "    x1 = tf.placeholder(tf.float32, [1,1,4])\n",
    "    x2 = tf.placeholder(tf.float32, [1,1,4])\n",
    "#     x2 = tf.Variable(4)\n",
    "    \n",
    "#         x_0 = tf.placeholder(tf.float32, [1,dim])\n",
    "\n",
    "    rbf = gp.rbf_kernel('tf', x1, x2, 1)\n",
    "    \n",
    "    y  = sess.run(rbf, feed_dict={x1: np.array([1,1,1,1]).reshape(1,1,4), x2: np.array([1,1,1,1]).reshape(1,1,4)})"
   ]
  },
  {
   "cell_type": "code",
   "execution_count": null,
   "metadata": {
    "collapsed": false
   },
   "outputs": [],
   "source": [
    "fun = lambda x, i : np.asscalar(gp.normalized_gp_function(\"np\", X_test[np.newaxis,i], A_test[np.newaxis,i],\\\n",
    "                        min_test[np.newaxis,i], max_test[np.newaxis,i], length, gp.kernel_function('rbf'), \\\n",
    "                        np.array(x)[np.newaxis,np.newaxis,:]))\n",
    "fun( np.array(sx)[4, 0,:], 0 )"
   ]
  },
  {
   "cell_type": "code",
   "execution_count": null,
   "metadata": {
    "collapsed": false
   },
   "outputs": [],
   "source": [
    "np.array(sy)[:5,0,:]"
   ]
  },
  {
   "cell_type": "code",
   "execution_count": null,
   "metadata": {
    "collapsed": true
   },
   "outputs": [],
   "source": []
  }
 ],
 "metadata": {
  "anaconda-cloud": {},
  "kernelspec": {
   "display_name": "Python [conda env:tensorflow]",
   "language": "python",
   "name": "conda-env-tensorflow-py"
  },
  "language_info": {
   "codemirror_mode": {
    "name": "ipython",
    "version": 3
   },
   "file_extension": ".py",
   "mimetype": "text/x-python",
   "name": "python",
   "nbconvert_exporter": "python",
   "pygments_lexer": "ipython3",
   "version": "3.5.2"
  }
 },
 "nbformat": 4,
 "nbformat_minor": 2
}
