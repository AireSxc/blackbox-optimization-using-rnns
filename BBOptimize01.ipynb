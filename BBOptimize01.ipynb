{
 "cells": [
  {
   "cell_type": "code",
   "execution_count": 1,
   "metadata": {
    "collapsed": true
   },
   "outputs": [],
   "source": [
    "import tensorflow as tf\n",
    "import numpy as np\n",
    "import matplotlib.pyplot as plt"
   ]
  },
  {
   "cell_type": "code",
   "execution_count": 2,
   "metadata": {
    "collapsed": true
   },
   "outputs": [],
   "source": [
    "def poly(params,x):\n",
    "    return tf.reduce_sum(tf.multiply(x ** np.linspace(0,degree-1,degree), params),axis = 1)\n",
    "\n",
    "def min_poly(params):\n",
    "    x_min = -params[0,1]/(2*params[0,2])\n",
    "    y_min = np.dot(x_min ** np.linspace(0,3-1,3), params.reshape(-1))\n",
    "    return y_min\n",
    "\n",
    "def min_many_poly(params):\n",
    "    s = 0\n",
    "    for i in range(n_train):\n",
    "        s += min_poly(params[i].reshape(1,3))     \n",
    "    return s"
   ]
  },
  {
   "cell_type": "code",
   "execution_count": 3,
   "metadata": {
    "collapsed": false
   },
   "outputs": [
    {
     "name": "stdout",
     "output_type": "stream",
     "text": [
      "0.732773560931\n"
     ]
    }
   ],
   "source": [
    "# Polynomial degree\n",
    "degree = 3\n",
    "n_train = 1\n",
    "n_hidden = 20\n",
    "\n",
    "# Generate Training Data\n",
    "f_train = np.random.uniform(size=(n_train,3))\n",
    "x_init = 0.5*np.ones((n_train,1))\n",
    "\n",
    "print(min_many_poly(f_train))"
   ]
  },
  {
   "cell_type": "code",
   "execution_count": 4,
   "metadata": {
    "collapsed": false
   },
   "outputs": [
    {
     "name": "stdout",
     "output_type": "stream",
     "text": [
      "(1, 3)\n",
      "(1, 1)\n"
     ]
    }
   ],
   "source": [
    "print(f_train.shape)\n",
    "print(x_init.shape)"
   ]
  },
  {
   "cell_type": "code",
   "execution_count": 5,
   "metadata": {
    "collapsed": false
   },
   "outputs": [],
   "source": [
    "# Create Model\n",
    "\n",
    "x_0 = tf.placeholder(tf.float32, shape=[None,1])\n",
    "params = tf.placeholder(tf.float32, [None, degree])\n",
    "\n",
    "W_1 = tf.Variable(tf.truncated_normal([2,30],stddev=0.5))\n",
    "b_1 = tf.Variable(tf.constant(0.1, shape=[30]))\n",
    "\n",
    "W_2 = tf.Variable(tf.truncated_normal([30,30],stddev=0.5))\n",
    "b_2 = tf.Variable(tf.constant(0.1, shape=[30]))\n",
    "\n",
    "W_3 = tf.Variable(tf.truncated_normal([30,1],stddev=0.5))\n",
    "b_3 = tf.Variable(tf.constant(0.1, shape=[1]))\n",
    "\n",
    "f = tf.reshape(poly(params,x_0),[-1,1])\n",
    "\n",
    "z = tf.concat(1,[x_0, f])\n",
    "\n",
    "h_1 = tf.tanh(tf.matmul(z, W_1) + b_1)\n",
    "h_2 = tf.tanh(tf.matmul(h_1, W_2) + b_2)\n",
    "x_out = tf.tanh(tf.matmul(h_2, W_3) + b_3)\n",
    "\n",
    "f_out = poly(params,x_out)"
   ]
  },
  {
   "cell_type": "code",
   "execution_count": 6,
   "metadata": {
    "collapsed": true
   },
   "outputs": [],
   "source": [
    "f_sum = tf.reduce_sum(f_out)\n",
    "\n",
    "train_step = tf.train.AdamOptimizer(0.001).minimize(f_sum)\n",
    "#train_step = tf.train.GradientDescentOptimizer(1.0).minimize(f_out)"
   ]
  },
  {
   "cell_type": "code",
   "execution_count": 7,
   "metadata": {
    "collapsed": false
   },
   "outputs": [],
   "source": [
    "sess = tf.InteractiveSession()\n",
    "sess.run(tf.global_variables_initializer())"
   ]
  },
  {
   "cell_type": "code",
   "execution_count": 8,
   "metadata": {
    "collapsed": false
   },
   "outputs": [
    {
     "name": "stdout",
     "output_type": "stream",
     "text": [
      "[0.73591042]\n",
      "[0.73277354]\n",
      "[0.7327736]\n",
      "[0.73277354]\n",
      "[0.73277378]\n",
      "[0.73277575]\n",
      "[0.73277521]\n",
      "[0.7327736]\n",
      "[0.73277426]\n",
      "[0.7327736]\n"
     ]
    }
   ],
   "source": [
    "epochs = 10000\n",
    "\n",
    "for i in range(epochs):\n",
    "    sess.run(train_step, feed_dict={params:f_train, x_0:x_init})\n",
    "    cost = sess.run([f_sum], feed_dict={params:f_train, x_0:x_init})\n",
    "    if i% 1000 == 0:\n",
    "        print(cost)\n",
    "    "
   ]
  },
  {
   "cell_type": "code",
   "execution_count": null,
   "metadata": {
    "collapsed": true
   },
   "outputs": [],
   "source": []
  }
 ],
 "metadata": {
  "anaconda-cloud": {},
  "kernelspec": {
   "display_name": "Python [conda root]",
   "language": "python",
   "name": "conda-root-py"
  },
  "language_info": {
   "codemirror_mode": {
    "name": "ipython",
    "version": 3
   },
   "file_extension": ".py",
   "mimetype": "text/x-python",
   "name": "python",
   "nbconvert_exporter": "python",
   "pygments_lexer": "ipython3",
   "version": "3.5.2"
  }
 },
 "nbformat": 4,
 "nbformat_minor": 1
}
