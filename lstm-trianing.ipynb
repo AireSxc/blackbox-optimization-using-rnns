{
 "cells": [
  {
   "cell_type": "code",
   "execution_count": 1,
   "metadata": {
    "collapsed": true
   },
   "outputs": [],
   "source": [
    "import tensorflow as tf\n",
    "import numpy as np\n",
    "import rnn_n2n as my_rnn\n",
    "import utils\n",
    "import json\n",
    "from prettytable import PrettyTable\n"
   ]
  },
  {
   "cell_type": "code",
   "execution_count": 2,
   "metadata": {},
   "outputs": [
    {
     "name": "stdout",
     "output_type": "stream",
     "text": [
      "./trained_models/rnn-cell-2d-1497300817\n",
      "Load rnn-cell-2d-1497300817 model\n",
      "+---------------------+------------------------+\n",
      "| Parameter           | Value                  |\n",
      "+---------------------+------------------------+\n",
      "| dim                 | 2                      |\n",
      "| forget_bias         | 5.0                    |\n",
      "| gp_length           | 0.4714045207910317     |\n",
      "| learning_rate_final | 0.0001                 |\n",
      "| learning_rate_init  | 0.001                  |\n",
      "| loss_function       | WSUM                   |\n",
      "| n_bumps             | 6                      |\n",
      "| n_hidden            | 50                     |\n",
      "| n_steps             | 20                     |\n",
      "| scope               | rnn-cell-2d-1497300817 |\n",
      "+---------------------+------------------------+\n",
      "INFO:tensorflow:Restoring parameters from ./trained_models/rnn-cell-2d-1497300817/model\n",
      "Stored 'lstm_eval_gp_400_th' (ndarray)\n"
     ]
    },
    {
     "data": {
      "text/plain": [
       "array([ 0.09278786, -0.08068019, -0.08847779, -0.09880793, -0.11235511,\n",
       "       -0.12988067, -0.15223438, -0.18029636, -0.21482509, -0.25615233,\n",
       "       -0.30366933, -0.35515988, -0.4063049 , -0.45100594, -0.48305613,\n",
       "       -0.49861223, -0.49778396, -0.48415852, -0.46287614, -0.4387219 ,\n",
       "       -0.41508996], dtype=float32)"
      ]
     },
     "execution_count": 2,
     "metadata": {},
     "output_type": "execute_result"
    }
   ],
   "source": [
    "def evaluate_gp_ith_with_model(data_index,model):    \n",
    "    x_2d, a_2d, min_2d, max_2d = utils.loadData(2, 'testing')\n",
    "\n",
    "    data_Xt = x_2d[data_index]\n",
    "    data_At  = a_2d[data_index].reshape(1,-1,1)\n",
    "    data_mint = min_2d[data_index].reshape(-1,1)\n",
    "    data_maxt = max_2d[data_index].reshape(-1,1)\n",
    "\n",
    "    # load trained model\n",
    "    tf.reset_default_graph()\n",
    "    model_path = './trained_models/%s' % model\n",
    "    print(model_path)\n",
    "    \n",
    "    with open('%s/network-params.json' % model_path ) as jsonfile:\n",
    "        model_params = json.load(jsonfile)\n",
    "\n",
    "    print('Load %s model' % model )\n",
    "    keys = list(model_params.keys())   \n",
    "    keys.sort()\n",
    "    \n",
    "    x = PrettyTable()\n",
    "    x.field_names = [\"Parameter\", \"Value\"]\n",
    "\n",
    "    for k in keys:\n",
    "        x.add_row([k, model_params[k]])\n",
    "        \n",
    "    x.align = 'l'\n",
    "\n",
    "    print(x)\n",
    "\n",
    "    res = None\n",
    "    with tf.Session() as sess:\n",
    "        params_dict = {\n",
    "            'n_bumps': model_params['n_bumps'],\n",
    "            'dim' : model_params['dim'],\n",
    "            'n_hidden': model_params['n_hidden'],\n",
    "            'forget_bias': model_params['forget_bias'],\n",
    "            'n_steps': model_params['n_steps'],\n",
    "            'l': model_params['gp_length'],\n",
    "            'scope': model\n",
    "        }\n",
    "        \n",
    "        Xt, At, mint, maxt, samples_x, samples_y = my_rnn.build_training_graph(**params_dict)\n",
    "        \n",
    "        saver = tf.train.Saver()\n",
    "        saver.restore(sess, '%s/model' % model_path)\n",
    "\n",
    "        feed_dict = {\n",
    "            Xt: data_Xt.reshape(1,-1,2),\n",
    "            At: data_At,\n",
    "            mint: data_mint,\n",
    "            maxt: data_maxt\n",
    "        }\n",
    "\n",
    "        res = sess.run(samples_y, feed_dict=feed_dict)\n",
    "    return np.array(res).flatten()\n",
    "lstm_eval_gp_400_th = evaluate_gp_ith_with_model(400, 'rnn-cell-2d-1497300817')\n",
    "%store lstm_eval_gp_400_th\n",
    "lstm_eval_gp_400_th"
   ]
  },
  {
   "cell_type": "code",
   "execution_count": 3,
   "metadata": {},
   "outputs": [
    {
     "data": {
      "text/plain": [
       "21"
      ]
     },
     "execution_count": 3,
     "metadata": {},
     "output_type": "execute_result"
    }
   ],
   "source": [
    "len(lstm_eval_gp_400_th)"
   ]
  },
  {
   "cell_type": "code",
   "execution_count": null,
   "metadata": {
    "collapsed": true
   },
   "outputs": [],
   "source": [
    "import imp\n",
    "\n",
    "imp.reload(my_rnn)"
   ]
  },
  {
   "cell_type": "code",
   "execution_count": null,
   "metadata": {
    "collapsed": true
   },
   "outputs": [],
   "source": []
  },
  {
   "cell_type": "markdown",
   "metadata": {},
   "source": [
    "## END"
   ]
  },
  {
   "cell_type": "code",
   "execution_count": null,
   "metadata": {
    "collapsed": true
   },
   "outputs": [],
   "source": [
    "X = tf.placeholder(tf.float32, [1,10])"
   ]
  },
  {
   "cell_type": "code",
   "execution_count": null,
   "metadata": {},
   "outputs": [],
   "source": [
    "with tf.Session() as sess:\n",
    "    res = tf.matmul(X,tf.transpose(X))\n",
    "    x = np.array([1,2,3,4,5,6,7,8,9,10])\n",
    "    y = sess.run(res, feed_dict={ X: x.reshape(1,10)  })\n",
    "    print(y)"
   ]
  },
  {
   "cell_type": "code",
   "execution_count": null,
   "metadata": {},
   "outputs": [],
   "source": [
    "def something(x=4,b=3):\n",
    "    print(x,b)\n",
    "\n",
    "xx =  { 'x': 5, 'b': 7 }\n",
    "print(xx)\n",
    "something(**xx)"
   ]
  },
  {
   "cell_type": "code",
   "execution_count": null,
   "metadata": {},
   "outputs": [],
   "source": [
    "def xyz(x, b=5):\n",
    "    print(x,b)\n",
    "    \n",
    "my_dict = { 'x': 5, 'b':2}\n",
    "xyz(**my_dict)"
   ]
  },
  {
   "cell_type": "code",
   "execution_count": null,
   "metadata": {},
   "outputs": [],
   "source": [
    "my_dict = { 'x': 5, 'b':2}\n",
    "kk = my_dict.keys()\n",
    "bb = list(kk)\n",
    "bb.sort()\n",
    "bb"
   ]
  },
  {
   "cell_type": "code",
   "execution_count": null,
   "metadata": {
    "collapsed": true
   },
   "outputs": [],
   "source": []
  }
 ],
 "metadata": {
  "kernelspec": {
   "display_name": "Python 3",
   "language": "python",
   "name": "python3"
  },
  "language_info": {
   "codemirror_mode": {
    "name": "ipython",
    "version": 3
   },
   "file_extension": ".py",
   "mimetype": "text/x-python",
   "name": "python",
   "nbconvert_exporter": "python",
   "pygments_lexer": "ipython3",
   "version": "3.5.1"
  }
 },
 "nbformat": 4,
 "nbformat_minor": 2
}
