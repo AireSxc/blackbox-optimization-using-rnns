{
 "cells": [
  {
   "cell_type": "code",
   "execution_count": 113,
   "metadata": {
    "collapsed": true
   },
   "outputs": [],
   "source": [
    "import tensorflow as tf\n",
    "import numpy as np\n",
    "import rnn_n2n as my_rnn\n",
    "import utils"
   ]
  },
  {
   "cell_type": "code",
   "execution_count": 180,
   "metadata": {},
   "outputs": [
    {
     "name": "stdout",
     "output_type": "stream",
     "text": [
      "{'n_hidden': 30, 'batch_size': 128, 'loss_function': 'WSUM_EXPO', 'learning_rate_final': 0.0001, 'n_steps': 20, 'epochs': 50, 'learning_rate_init': 0.001}\n"
     ]
    }
   ],
   "source": [
    "GP_TEST_DATA_INDEX = 400\n",
    "DIM=2\n",
    "\n",
    "NETWORK_PARAMS = {\n",
    "    'learning_rate_init': 0.001,\n",
    "    'learning_rate_final': 0.0001,\n",
    "    'n_hidden': 30,\n",
    "    'loss_function': 'WSUM_EXPO',\n",
    "    'batch_size': 128,\n",
    "    'epochs': 50,\n",
    "    'n_steps': 20\n",
    "}\n",
    "print(NETWORK_PARAMS)"
   ]
  },
  {
   "cell_type": "code",
   "execution_count": 181,
   "metadata": {},
   "outputs": [
    {
     "name": "stdout",
     "output_type": "stream",
     "text": [
      "------------------------------------------------------------------------------------\n",
      "Function Dimension            : 2\n",
      "RNN Scope                     : rnn-cell-1497207494\n",
      "Number of Training Samples    : 20000\n",
      "Number of Test Samples        : 2000\n",
      "Loss                          : WSUM_EXPO\n",
      "Batch size                    : 128\n",
      "Number of hidden Units        : 30\n",
      "Sequence length               : 20\n",
      "Epochs                        : 50\n",
      "Learning rate init            : 0.00100\n",
      "Learning rate decay           : 0.95410\n",
      "Learning rate final           : 0.00010\n",
      "------------------------------------------------------------------------------------\n",
      "Ep:    0 | TrainLoss : -0.181 | TrainMin: -0.513 | TestLoss: -0.175 | TestMin: -0.501\n",
      "Ep:    1 | TrainLoss : -0.036 | TrainMin: -0.404 | TestLoss: -0.026 | TestMin: -0.391\n",
      "Ep:    2 | TrainLoss : -0.055 | TrainMin: -0.412 | TestLoss: -0.051 | TestMin: -0.406\n",
      "Ep:    3 | TrainLoss : -0.089 | TrainMin: -0.400 | TestLoss: -0.088 | TestMin: -0.399\n",
      "Ep:    4 | TrainLoss : -0.006 | TrainMin: -0.319 | TestLoss: -0.002 | TestMin: -0.318\n",
      "Ep:    5 | TrainLoss : -0.005 | TrainMin: -0.307 | TestLoss: -0.002 | TestMin: -0.310\n",
      "Ep:    6 | TrainLoss : -0.009 | TrainMin: -0.318 | TestLoss: -0.006 | TestMin: -0.320\n",
      "Ep:    7 | TrainLoss : -0.026 | TrainMin: -0.344 | TestLoss: -0.031 | TestMin: -0.342\n",
      "Ep:    8 | TrainLoss : -0.085 | TrainMin: -0.434 | TestLoss: -0.086 | TestMin: -0.439\n",
      "Ep:    9 | TrainLoss : -0.107 | TrainMin: -0.415 | TestLoss: -0.093 | TestMin: -0.392\n",
      "Ep:   10 | TrainLoss : -0.103 | TrainMin: -0.419 | TestLoss: -0.092 | TestMin: -0.399\n",
      "Ep:   15 | TrainLoss : -0.089 | TrainMin: -0.419 | TestLoss: -0.083 | TestMin: -0.404\n",
      "Ep:   20 | TrainLoss : -0.103 | TrainMin: -0.464 | TestLoss: -0.099 | TestMin: -0.455\n",
      "Ep:   25 | TrainLoss : -0.114 | TrainMin: -0.481 | TestLoss: -0.111 | TestMin: -0.472\n",
      "Ep:   30 | TrainLoss : -0.108 | TrainMin: -0.465 | TestLoss: -0.103 | TestMin: -0.455\n",
      "Ep:   35 | TrainLoss : -0.120 | TrainMin: -0.491 | TestLoss: -0.116 | TestMin: -0.484\n",
      "Ep:   40 | TrainLoss : -0.129 | TrainMin: -0.491 | TestLoss: -0.122 | TestMin: -0.476\n",
      "Ep:   45 | TrainLoss : -0.139 | TrainMin: -0.494 | TestLoss: -0.133 | TestMin: -0.480\n",
      "Ep:   49 | TrainLoss : -0.145 | TrainMin: -0.512 | TestLoss: -0.143 | TestMin: -0.505\n",
      "Last output: Ep:   49 | TrainLoss : -0.145 | TrainMin: -0.512 | TestLoss: -0.143 | TestMin: -0.505\n",
      "Leave session open\n"
     ]
    }
   ],
   "source": [
    "trained_session, tf_placeholders = my_rnn.train_rnn_n2n(DIM, close_session=False, **NETWORK_PARAMS)"
   ]
  },
  {
   "cell_type": "code",
   "execution_count": 177,
   "metadata": {},
   "outputs": [
    {
     "name": "stdout",
     "output_type": "stream",
     "text": [
      "Stored 'lstm_eval_gp_400_th' (ndarray)\n"
     ]
    },
    {
     "data": {
      "text/plain": [
       "array([ 0.49519646,  0.38751364,  0.35614884,  0.64942634,  1.21604037,\n",
       "        0.34179902,  0.31764817,  0.28250659,  0.10570705,  0.33645034,\n",
       "        0.38746321,  0.38750422,  0.3205868 , -0.35846299,  0.10914314,\n",
       "        0.03237593, -0.47302622, -0.12619406,  0.355533  ,  0.38845944,\n",
       "        0.38543975], dtype=float32)"
      ]
     },
     "execution_count": 177,
     "metadata": {},
     "output_type": "execute_result"
    }
   ],
   "source": [
    "def evaluate_gp_ith(data_index):    \n",
    "    x_2d, a_2d, min_2d, max_2d = utils.loadData(2, 'testing')\n",
    "\n",
    "    Xt = x_2d[data_index]\n",
    "    At  = a_2d[data_index].reshape(1,-1,1)\n",
    "    mint = min_2d[data_index].reshape(-1,1)\n",
    "    maxt = max_2d[data_index].reshape(-1,1)\n",
    "\n",
    "    samples_y = tf_placeholders[0]\n",
    "    x_tf = tf_placeholders[1]\n",
    "    a_tf = tf_placeholders[2]\n",
    "    min_tf = tf_placeholders[3]\n",
    "    max_tf = tf_placeholders[4]\n",
    "    size_tf =tf_placeholders[5]\n",
    "\n",
    "    Xt = Xt.reshape(1,-1,2)\n",
    "\n",
    "    feed_dict = {\n",
    "        x_tf: Xt,\n",
    "        a_tf: At,\n",
    "        min_tf: mint,\n",
    "        max_tf: maxt,\n",
    "        size_tf: 1\n",
    "    }\n",
    "\n",
    "    res = trained_session.run(samples_y, feed_dict=feed_dict)\n",
    "    return np.array(res).flatten()\n",
    "lstm_eval_gp_400_th = evaluate_gp_ith(400)\n",
    "%store lstm_eval_gp_400_th\n",
    "lstm_eval_gp_400_th"
   ]
  },
  {
   "cell_type": "code",
   "execution_count": 170,
   "metadata": {},
   "outputs": [
    {
     "data": {
      "text/plain": [
       "21"
      ]
     },
     "execution_count": 170,
     "metadata": {},
     "output_type": "execute_result"
    }
   ],
   "source": [
    "len(lstm_eval_gp_400_th)"
   ]
  },
  {
   "cell_type": "code",
   "execution_count": 116,
   "metadata": {},
   "outputs": [
    {
     "data": {
      "text/plain": [
       "<module 'rnn_n2n' from '/Users/heytitle/projects/neural-network-project/rnn_n2n.py'>"
      ]
     },
     "execution_count": 116,
     "metadata": {},
     "output_type": "execute_result"
    }
   ],
   "source": [
    "import imp\n",
    "\n",
    "imp.reload(my_rnn)"
   ]
  },
  {
   "cell_type": "code",
   "execution_count": 18,
   "metadata": {
    "collapsed": true
   },
   "outputs": [],
   "source": [
    "X = tf.placeholder(tf.float32, [1,10])"
   ]
  },
  {
   "cell_type": "code",
   "execution_count": 20,
   "metadata": {},
   "outputs": [
    {
     "name": "stdout",
     "output_type": "stream",
     "text": [
      "[[ 385.]]\n"
     ]
    }
   ],
   "source": [
    "with tf.Session() as sess:\n",
    "    res = tf.matmul(X,tf.transpose(X))\n",
    "    x = np.array([1,2,3,4,5,6,7,8,9,10])\n",
    "    y = sess.run(res, feed_dict={ X: x.reshape(1,10)  })\n",
    "    print(y)"
   ]
  },
  {
   "cell_type": "code",
   "execution_count": 36,
   "metadata": {},
   "outputs": [
    {
     "name": "stdout",
     "output_type": "stream",
     "text": [
      "{'b': 7, 'x': 5}\n",
      "5 7\n"
     ]
    }
   ],
   "source": [
    "def something(x=4,b=3):\n",
    "    print(x,b)\n",
    "\n",
    "xx =  { 'x': 5, 'b': 7 }\n",
    "print(xx)\n",
    "something(**xx)"
   ]
  },
  {
   "cell_type": "code",
   "execution_count": null,
   "metadata": {
    "collapsed": true
   },
   "outputs": [],
   "source": []
  }
 ],
 "metadata": {
  "kernelspec": {
   "display_name": "Python 3",
   "language": "python",
   "name": "python3"
  },
  "language_info": {
   "codemirror_mode": {
    "name": "ipython",
    "version": 3
   },
   "file_extension": ".py",
   "mimetype": "text/x-python",
   "name": "python",
   "nbconvert_exporter": "python",
   "pygments_lexer": "ipython3",
   "version": "3.5.1"
  }
 },
 "nbformat": 4,
 "nbformat_minor": 2
}
