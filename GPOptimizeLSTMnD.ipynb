{
 "cells": [
  {
   "cell_type": "markdown",
   "metadata": {},
   "source": [
    "## Global Black Box Optimization with RNNS"
   ]
  },
  {
   "cell_type": "code",
   "execution_count": 1,
   "metadata": {
    "collapsed": false
   },
   "outputs": [],
   "source": [
    "import tensorflow as tf\n",
    "import numpy as np"
   ]
  },
  {
   "cell_type": "code",
   "execution_count": 2,
   "metadata": {
    "collapsed": false
   },
   "outputs": [],
   "source": [
    "def kernel(x1,x2,l = 0.3):\n",
    "    return np.exp(-1.0/l**2*np.sum((np.expand_dims(x1,axis=2) - np.expand_dims(x2,axis=1))**2, axis = 3))\n",
    "\n",
    "def GP(X,A,x, l = 0.3):\n",
    "    k_xX = kernel(x,X)\n",
    "    return np.squeeze(np.matmul(k_xX,  A),axis=(2,))\n",
    "\n",
    "def kernelTF(x1,x2,l = 0.3):\n",
    "    return tf.exp(-1.0/l**2*tf.reduce_sum((tf.expand_dims(x1,axis=2) - tf.expand_dims(x2,axis=1))**2, axis = 3))\n",
    "\n",
    "def GPTF(X,A,x, l = 0.3):\n",
    "    k_xX = kernelTF(tf.expand_dims(x, axis = 1),X)\n",
    "    return tf.tanh(tf.squeeze(tf.matmul(k_xX,  A),axis=(2,)))"
   ]
  },
  {
   "cell_type": "code",
   "execution_count": 3,
   "metadata": {
    "collapsed": true
   },
   "outputs": [],
   "source": [
    "def gen_data(n_train, n_test, dim, n_gp_samples):\n",
    "    import itertools as it\n",
    "    X = np.tile(np.array(list(it.product(np.linspace(-1,1,n_gp_samples),repeat=dim))), (n_train+n_test,1,1))\n",
    "    Y = np.random.uniform(low = -1.0, high = 1.0, size = (n_train+n_test, n_gp_samples**dim))\n",
    "\n",
    "    K_XX = kernel(X,X)\n",
    "    A = np.linalg.solve(K_XX, np.expand_dims(Y,axis=2))\n",
    "\n",
    "    return (X[:n_train], Y[:n_train], A[:n_train], X[-n_test:], Y[-n_test:], A[-n_test:])"
   ]
  },
  {
   "cell_type": "code",
   "execution_count": 4,
   "metadata": {
    "collapsed": true
   },
   "outputs": [],
   "source": [
    "# Data\n",
    "n_train = 1600\n",
    "n_test = 16\n",
    "n_gp_samples = 3\n",
    "dim = 1\n",
    "\n",
    "# LSTM Model\n",
    "n_hidden = 50\n",
    "n_steps = 10\n",
    "\n",
    "# Optimization\n",
    "learning_rate = 0.0001\n",
    "epochs = 200\n",
    "batch_size = 160"
   ]
  },
  {
   "cell_type": "code",
   "execution_count": 5,
   "metadata": {
    "collapsed": false
   },
   "outputs": [],
   "source": [
    "X_train, Y_train, A_train, X_test, Y_test, A_test = gen_data(n_train, n_test, dim, n_gp_samples)"
   ]
  },
  {
   "cell_type": "code",
   "execution_count": 6,
   "metadata": {
    "collapsed": true
   },
   "outputs": [],
   "source": [
    "# LSTM Output Weights\n",
    "weights = {\n",
    "    'out': tf.Variable(tf.random_normal([n_hidden, dim]))\n",
    "}\n",
    "biases = {\n",
    "    'out': tf.Variable(tf.random_normal([dim]))\n",
    "}"
   ]
  },
  {
   "cell_type": "code",
   "execution_count": 7,
   "metadata": {
    "collapsed": false
   },
   "outputs": [],
   "source": [
    "# Create Model\n",
    "size = tf.placeholder(tf.int32,[])\n",
    "\n",
    "Xt = tf.placeholder(tf.float32, [None, n_gp_samples**dim, dim])\n",
    "At = tf.placeholder(tf.float32, [None, n_gp_samples**dim, 1])\n",
    "\n",
    "x_0 = -0.0*tf.ones([size, dim])\n",
    "h_0 = tf.ones([size, n_hidden])\n",
    "c_0 = tf.ones([size, n_hidden])\n",
    "\n",
    "state = (c_0, h_0)\n",
    "x = x_0\n",
    "y = GPTF(Xt,At,x)\n",
    "sample_points = [x]\n",
    "\n",
    "f_min = y\n",
    "f_sum = 0\n",
    "\n",
    "# No idea why this is necessary \n",
    "cell = tf.contrib.rnn.LSTMCell(num_units = n_hidden, reuse=None)\n",
    "cell(tf.concat([x, y], 1), state, scope='rnn_cell')\n",
    "cell = tf.contrib.rnn.LSTMCell(num_units = n_hidden, reuse=True)\n",
    "\n",
    "for i in range(n_steps):\n",
    "    h, state = cell(tf.concat([x, y], 1), state, scope='rnn_cell')\n",
    "    x = tf.tanh(tf.matmul(h, weights['out']) + biases['out'])\n",
    "    sample_points.append(x)\n",
    "    \n",
    "    y = GPTF(Xt,At,x)\n",
    "    \n",
    "    f_min = tf.minimum(y, f_min)\n",
    "    f_sum += tf.reduce_mean(y)\n",
    "\n",
    "f_min = tf.reduce_mean(f_min)\n",
    "loss = f_sum / n_steps"
   ]
  },
  {
   "cell_type": "code",
   "execution_count": 8,
   "metadata": {
    "collapsed": true
   },
   "outputs": [],
   "source": [
    "train_step = tf.train.AdamOptimizer(learning_rate).minimize(loss)"
   ]
  },
  {
   "cell_type": "code",
   "execution_count": 9,
   "metadata": {
    "collapsed": true
   },
   "outputs": [],
   "source": [
    "sess = tf.InteractiveSession()\n",
    "sess.run(tf.global_variables_initializer())\n",
    "\n",
    "train_loss_list = []\n",
    "test_loss_list = []\n",
    "train_fmin_list = []\n",
    "test_fmin_list = []"
   ]
  },
  {
   "cell_type": "code",
   "execution_count": 10,
   "metadata": {
    "collapsed": false
   },
   "outputs": [
    {
     "name": "stdout",
     "output_type": "stream",
     "text": [
      "Function Dimension: \t\t1\n",
      "Number of Training Samples: \t1600\n",
      "Batch size: \t\t\t160\n",
      "Number of hidden Units: \t50\n",
      "Sequence length: \t\t10\n",
      "Epochs: \t\t\t200\n",
      "Learning rate: \t\t\t0.0001\n",
      "------------------------------------------------------------------------------------\n",
      "Ep:    0 | TrainLoss: -0.039 | TrainMin: -0.362 | TestLoss: -0.026 | TestMin: -0.348\n",
      "Ep:    1 | TrainLoss: -0.068 | TrainMin: -0.349 | TestLoss: -0.052 | TestMin: -0.335\n",
      "Ep:    2 | TrainLoss: -0.073 | TrainMin: -0.349 | TestLoss: -0.059 | TestMin: -0.335\n",
      "Ep:    3 | TrainLoss: -0.084 | TrainMin: -0.353 | TestLoss: -0.058 | TestMin: -0.340\n",
      "Ep:    4 | TrainLoss: -0.094 | TrainMin: -0.353 | TestLoss: -0.065 | TestMin: -0.339\n",
      "Ep:    5 | TrainLoss: -0.102 | TrainMin: -0.350 | TestLoss: -0.074 | TestMin: -0.337\n",
      "Ep:    6 | TrainLoss: -0.112 | TrainMin: -0.351 | TestLoss: -0.075 | TestMin: -0.338\n",
      "Ep:    7 | TrainLoss: -0.115 | TrainMin: -0.348 | TestLoss: -0.087 | TestMin: -0.336\n",
      "Ep:    8 | TrainLoss: -0.118 | TrainMin: -0.348 | TestLoss: -0.087 | TestMin: -0.336\n",
      "Ep:    9 | TrainLoss: -0.120 | TrainMin: -0.346 | TestLoss: -0.091 | TestMin: -0.334\n",
      "Ep:   20 | TrainLoss: -0.146 | TrainMin: -0.223 | TestLoss: -0.115 | TestMin: -0.188\n",
      "Ep:   40 | TrainLoss: -0.153 | TrainMin: -0.226 | TestLoss: -0.123 | TestMin: -0.194\n",
      "Ep:   60 | TrainLoss: -0.159 | TrainMin: -0.232 | TestLoss: -0.132 | TestMin: -0.202\n",
      "Ep:   80 | TrainLoss: -0.168 | TrainMin: -0.231 | TestLoss: -0.134 | TestMin: -0.198\n",
      "Ep:  100 | TrainLoss: -0.176 | TrainMin: -0.248 | TestLoss: -0.141 | TestMin: -0.210\n",
      "Ep:  120 | TrainLoss: -0.180 | TrainMin: -0.294 | TestLoss: -0.135 | TestMin: -0.227\n",
      "Ep:  140 | TrainLoss: -0.194 | TrainMin: -0.302 | TestLoss: -0.145 | TestMin: -0.233\n",
      "Ep:  160 | TrainLoss: -0.198 | TrainMin: -0.304 | TestLoss: -0.144 | TestMin: -0.234\n",
      "Ep:  180 | TrainLoss: -0.201 | TrainMin: -0.305 | TestLoss: -0.142 | TestMin: -0.232\n",
      "Ep:  199 | TrainLoss: -0.209 | TrainMin: -0.304 | TestLoss: -0.143 | TestMin: -0.240\n"
     ]
    }
   ],
   "source": [
    "# Train the Network\n",
    "print(\"Function Dimension: \\t\\t\"+str(dim))\n",
    "print(\"Number of Training Samples: \\t\"+str(n_train))\n",
    "print(\"Batch size: \\t\\t\\t\"+str(batch_size))\n",
    "print(\"Number of hidden Units: \\t\"+str(n_hidden))\n",
    "print(\"Sequence length: \\t\\t\"+ str(n_steps))\n",
    "print(\"Epochs: \\t\\t\\t\"+str(epochs))\n",
    "print(\"Learning rate: \\t\\t\\t\"+str(learning_rate))\n",
    "print(\"------------------------------------------------------------------------------------\")\n",
    "\n",
    "for ep in range(epochs):\n",
    "    for batch in range(n_train//batch_size):\n",
    "        X_batch = X_train[batch*batch_size:(batch+1)*batch_size]\n",
    "        A_batch = A_train[batch*batch_size:(batch+1)*batch_size]\n",
    "        \n",
    "        sess.run([train_step], feed_dict={Xt: X_batch, At: A_batch, size: batch_size})\n",
    "    \n",
    "    train_loss, train_fmin = sess.run([loss, f_min], feed_dict={Xt: X_train, At: A_train, size: n_train})\n",
    "    test_loss, test_fmin = sess.run([loss, f_min], feed_dict={Xt: X_test, At: A_test, size:n_test})\n",
    "    \n",
    "    train_loss_list += [train_loss]\n",
    "    test_loss_list += [test_loss]\n",
    "    train_fmin_list += [train_fmin]\n",
    "    test_fmin_list += [test_fmin]\n",
    "    \n",
    "    if ep < 10 or ep % (epochs // 10) == 0 or ep == epochs-1:\n",
    "        print(\"Ep: \" +\"{:4}\".format(ep)+\" | TrainLoss: \"+\"{: .3f}\".format(train_loss)\n",
    "              +\" | TrainMin: \"+ \"{: .3f}\".format(train_fmin)+ \" | TestLoss: \"+\n",
    "              \"{: .3f}\".format(test_loss)+\" | TestMin: \"+ \"{: .3f}\".format(test_fmin))"
   ]
  }
 ],
 "metadata": {
  "anaconda-cloud": {},
  "kernelspec": {
   "display_name": "Python [conda env:tensorflow]",
   "language": "python",
   "name": "conda-env-tensorflow-py"
  },
  "language_info": {
   "codemirror_mode": {
    "name": "ipython",
    "version": 3
   },
   "file_extension": ".py",
   "mimetype": "text/x-python",
   "name": "python",
   "nbconvert_exporter": "python",
   "pygments_lexer": "ipython3",
   "version": "3.5.2"
  }
 },
 "nbformat": 4,
 "nbformat_minor": 1
}
