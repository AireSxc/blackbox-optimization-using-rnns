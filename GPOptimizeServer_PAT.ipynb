{
 "cells": [
  {
   "cell_type": "markdown",
   "metadata": {},
   "source": [
    "## Global Black Box Optimization with RNNS"
   ]
  },
  {
   "cell_type": "code",
   "execution_count": 1,
   "metadata": {
    "collapsed": true
   },
   "outputs": [],
   "source": [
    "import tensorflow as tf\n",
    "import numpy as np\n",
    "import benchmarkfunctions as fun\n",
    "import utils"
   ]
  },
  {
   "cell_type": "code",
   "execution_count": 2,
   "metadata": {
    "collapsed": true
   },
   "outputs": [],
   "source": [
    "def kernelTF(x1,x2,l = 0.3):\n",
    "    return tf.exp(-1.0/l**2*tf.reduce_sum((tf.expand_dims(x1,axis=2) - tf.expand_dims(x2,axis=1))**2, axis = 3))\n",
    "\n",
    "def GPTF(X,A,x, l = 0.3):\n",
    "    k_xX = kernelTF(tf.expand_dims(x, axis = 1),X)\n",
    "    return tf.squeeze(tf.matmul(k_xX,  A),axis=(2,))\n",
    "\n",
    "def normalize(minv, maxv, y):\n",
    "    return 2*(y-minv)/(maxv-minv)-1.0"
   ]
  },
  {
   "cell_type": "code",
   "execution_count": 3,
   "metadata": {
    "collapsed": true
   },
   "outputs": [],
   "source": [
    "# # Data\n",
    "# dim = 1\n",
    "# # n_train = 1600\n",
    "# # n_test = 1600\n",
    "# # path = \"./Data/\"+str(dim)+\"D/\"\n",
    "\n",
    "# # LSTM Model\n",
    "# n_hidden = 50\n",
    "# n_steps = 10\n",
    "# # \n",
    "# # Optimization\n",
    "# learning_rate = 0.0001\n",
    "# epochs = 1000\n",
    "# batch_size = 160"
   ]
  },
  {
   "cell_type": "code",
   "execution_count": 4,
   "metadata": {},
   "outputs": [],
   "source": [
    "# X_train, A_train, min_train, max_train = utils.loadData(dim, 'training')\n",
    "# print(X_train.shape)"
   ]
  },
  {
   "cell_type": "code",
   "execution_count": 5,
   "metadata": {},
   "outputs": [],
   "source": [
    "# X_test, A_test, min_test, max_test = utils.loadData(dim, 'testing')\n",
    "# print(X_test.shape)"
   ]
  },
  {
   "cell_type": "code",
   "execution_count": 6,
   "metadata": {
    "collapsed": true
   },
   "outputs": [],
   "source": [
    "# X, A, minv, maxv = np.load(path+\"X.npy\"), np.load(path+\"A.npy\"), np.load(path+\"minv.npy\"), np.load(path+\"maxv.npy\")\n",
    "# X_train, A_train, min_train, max_train = X[:n_train], A[:n_train], minv[:n_train], maxv[:n_train]\n",
    "# X_test, A_test, min_test, max_test = X[-n_test:], A[-n_test:], minv[-n_test:], maxv[-n_test:]\n",
    "\n",
    "# n_gp_samples = X_train.shape[1]"
   ]
  },
  {
   "cell_type": "code",
   "execution_count": 7,
   "metadata": {},
   "outputs": [],
   "source": [
    "# # LSTM Output Weights\n",
    "# weights = {\n",
    "#     'out': tf.Variable(tf.random_normal([n_hidden, dim]))\n",
    "# }\n",
    "# biases = {\n",
    "#     'out': tf.Variable(tf.random_normal([dim]))\n",
    "# }"
   ]
  },
  {
   "cell_type": "code",
   "execution_count": 8,
   "metadata": {},
   "outputs": [],
   "source": [
    "# # Create Model\n",
    "# size = tf.placeholder(tf.int32,[])\n",
    "\n",
    "# Xt = tf.placeholder(tf.float32, [None, n_gp_samples, dim])\n",
    "# At = tf.placeholder(tf.float32, [None, n_gp_samples, 1])\n",
    "# mint = tf.placeholder(tf.float32, [None, 1])\n",
    "# maxt = tf.placeholder(tf.float32, [None, 1])\n",
    "\n",
    "# x_0 = -0.0*tf.ones([size, dim])\n",
    "# h_0 = tf.ones([size, n_hidden])\n",
    "# c_0 = tf.ones([size, n_hidden])\n",
    "\n",
    "# state = (c_0, h_0)\n",
    "# x = x_0\n",
    "# y = normalize(mint, maxt, GPTF(Xt,At,x))\n",
    "# sample_points = [x]\n",
    "\n",
    "# f_min = y\n",
    "# f_sum = 0\n",
    "\n",
    "# # No idea why this is necessary \n",
    "# cell = tf.contrib.rnn.LSTMCell(num_units = n_hidden, reuse=None)\n",
    "# cell(tf.concat([x, y], 1), state, scope='rnn_cell')\n",
    "# cell = tf.contrib.rnn.LSTMCell(num_units = n_hidden, reuse=True)\n",
    "\n",
    "# for i in range(n_steps):\n",
    "#     h, state = cell(tf.concat([x, y], 1), state, scope='rnn_cell')\n",
    "#     x = tf.tanh(tf.matmul(h, weights['out']) + biases['out'])\n",
    "#     sample_points.append(x)\n",
    "    \n",
    "#     y = normalize(mint, maxt, GPTF(Xt,At,x))\n",
    "    \n",
    "#     f_min = tf.minimum(y, f_min)\n",
    "#     f_sum += tf.reduce_mean(y)\n",
    "\n",
    "# f_min = tf.reduce_mean(f_min)\n",
    "# loss = f_sum / n_steps"
   ]
  },
  {
   "cell_type": "code",
   "execution_count": 9,
   "metadata": {},
   "outputs": [],
   "source": [
    "# train_step = tf.train.AdamOptimizer(learning_rate).minimize(loss)"
   ]
  },
  {
   "cell_type": "code",
   "execution_count": 10,
   "metadata": {
    "collapsed": true
   },
   "outputs": [],
   "source": [
    "# sess = tf.InteractiveSession()\n",
    "# sess.run(tf.global_variables_initializer())\n",
    "\n",
    "# train_loss_list = []\n",
    "# test_loss_list = []\n",
    "# train_fmin_list = []\n",
    "# test_fmin_list = []"
   ]
  },
  {
   "cell_type": "code",
   "execution_count": 11,
   "metadata": {},
   "outputs": [],
   "source": [
    "# # Train the Network\n",
    "# print(\"Function Dimension:\\t%d\" % (dim) )\n",
    "# print(\"Number of Training Samples:\\t%d\" % (len(X_train)) )\n",
    "# print(\"Number of Test Samples:\\t%d\" % (len(X_test)) )\n",
    "# print(\"Batch size:\\t%d\" % (batch_size) )\n",
    "# print(\"Number of hidden Units:\\t%d\" % (n_hidden) )\n",
    "# print(\"Sequence length:\\t%d\" % (n_steps) )\n",
    "# print(\"Epochs:\\t%d\" % (epochs) )\n",
    "# print(\"Learning rate:\\t%.4f\" % (learning_rate) )\n",
    "# print(\"------------------------------------------------------------------------------------\")\n",
    "\n",
    "# # for ep in range(epochs):\n",
    "# #     for batch in range(len(X_train)//batch_size):\n",
    "# #         X_batch = X_train[batch*batch_size:(batch+1)*batch_size]\n",
    "# #         A_batch = A_train[batch*batch_size:(batch+1)*batch_size]\n",
    "# #         min_batch = min_train[batch*batch_size:(batch+1)*batch_size]\n",
    "# #         max_batch = max_train[batch*batch_size:(batch+1)*batch_size]\n",
    "        \n",
    "# #         sess.run([train_step], feed_dict={Xt: X_batch, At: A_batch, mint: min_batch, maxt: max_batch, size: X_batch.shape[0]})\n",
    "    \n",
    "# #     train_loss, train_fmin = sess.run([loss, f_min], feed_dict=\\\n",
    "# #                                       {Xt: X_train, At: A_train, mint: min_train, maxt: max_train, size: len(X_train)})\n",
    "# #     test_loss, test_fmin = sess.run([loss, f_min], feed_dict=\\\n",
    "# #                                       {Xt: X_test, At: A_test, mint: min_test, maxt: max_test, size:len(X_test)})\n",
    "    \n",
    "# #     train_loss_list += [train_loss]\n",
    "# #     test_loss_list += [test_loss]\n",
    "# #     train_fmin_list += [train_fmin]\n",
    "# #     test_fmin_list += [test_fmin]\n",
    "    \n",
    "# #     if ep < 10 or ep % (epochs // 10) == 0 or ep == epochs-1:\n",
    "# #         print(\"Ep: \" +\"{:4}\".format(ep)+\" | TrainLoss: \"+\"{: .3f}\".format(train_loss)\n",
    "# #               +\" | TrainMin: \"+ \"{: .3f}\".format(train_fmin)+ \" | TestLoss: \"+\n",
    "# #               \"{: .3f}\".format(test_loss)+\" | TestMin: \"+ \"{: .3f}\".format(test_fmin))"
   ]
  },
  {
   "cell_type": "code",
   "execution_count": 12,
   "metadata": {
    "collapsed": true
   },
   "outputs": [],
   "source": [
    "def train_rnn_n2n(dim, n_steps = 10, learning_rate=0.001, epochs=1000, n_hidden = 50, batch_size = 160):\n",
    "    # load data\n",
    "    X_train, A_train, min_train, max_train = utils.loadData(dim, 'training')\n",
    "    X_test, A_test, min_test, max_test = utils.loadData(dim, 'testing')\n",
    "    \n",
    "    n_gp_samples = X_train.shape[1]\n",
    "    \n",
    "    # define model\n",
    "    weights = {\n",
    "        'out': tf.Variable(tf.random_normal([n_hidden, dim]))\n",
    "    }\n",
    "    \n",
    "    biases = {\n",
    "        'out': tf.Variable(tf.random_normal([dim]))\n",
    "    }\n",
    "    \n",
    "    size = tf.placeholder(tf.int32,[])\n",
    "\n",
    "    Xt = tf.placeholder(tf.float32, [None, n_gp_samples, dim])\n",
    "    At = tf.placeholder(tf.float32, [None, n_gp_samples, 1])\n",
    "    mint = tf.placeholder(tf.float32, [None, 1])\n",
    "    maxt = tf.placeholder(tf.float32, [None, 1])\n",
    "\n",
    "    x_0 = -0.0*tf.ones([size, dim])\n",
    "    h_0 = tf.ones([size, n_hidden])\n",
    "    c_0 = tf.ones([size, n_hidden])\n",
    "\n",
    "    state = (c_0, h_0)\n",
    "    x = x_0\n",
    "    y = normalize(mint, maxt, GPTF(Xt,At,x))\n",
    "    sample_points = [x]\n",
    "\n",
    "    f_min = y\n",
    "    f_sum = 0\n",
    "\n",
    "    # No idea why this is necessary \n",
    "    cell = tf.contrib.rnn.LSTMCell(num_units = n_hidden, reuse=None)\n",
    "    cell(tf.concat([x, y], 1), state, scope='rnn_cell')\n",
    "    cell = tf.contrib.rnn.LSTMCell(num_units = n_hidden, reuse=True)\n",
    "\n",
    "    for i in range(n_steps):\n",
    "        h, state = cell(tf.concat([x, y], 1), state, scope='rnn_cell')\n",
    "        x = tf.tanh(tf.matmul(h, weights['out']) + biases['out'])\n",
    "        sample_points.append(x)\n",
    "\n",
    "        y = normalize(mint, maxt, GPTF(Xt,At,x))\n",
    "\n",
    "        f_min = tf.minimum(y, f_min)\n",
    "        f_sum += tf.reduce_mean(y)\n",
    "\n",
    "    f_min = tf.reduce_mean(f_min)\n",
    "    loss = f_sum / n_steps\n",
    "    \n",
    "    train_step = tf.train.AdamOptimizer(learning_rate).minimize(loss)\n",
    "    \n",
    "    sess = tf.InteractiveSession()\n",
    "    sess.run(tf.global_variables_initializer())\n",
    "\n",
    "    train_loss_list = []\n",
    "    test_loss_list = []\n",
    "    train_fmin_list = []\n",
    "    test_fmin_list = []\n",
    "    \n",
    "    # Train the Network\n",
    "    print(\"%-30s: %d\" % (\"Function Dimension\", dim) )\n",
    "    print(\"%-30s: %d\" % (\"Number of Training Samples\", len(X_train)) )\n",
    "    print(\"%-30s: %d\" % (\"Number of Test Samples\", len(X_test)) )\n",
    "    print(\"%-30s: %d\" % (\"Batch size\", batch_size) )\n",
    "    print(\"%-30s: %d\" % (\"Number of hidden Units\", n_hidden) )\n",
    "    print(\"%-30s: %d\" % (\"Sequence length\", n_steps) )\n",
    "    print(\"%-30s: %d\" % (\"Epochs\",epochs) )\n",
    "    print(\"%-30s: %.5f\" % (\"Learning rate\", learning_rate) )\n",
    "    print(\"------------------------------------------------------------------------------------\")\n",
    "\n",
    "    for ep in range(epochs):\n",
    "        for batch in range(len(X_train)//batch_size):\n",
    "            X_batch = X_train[batch*batch_size:(batch+1)*batch_size]\n",
    "            A_batch = A_train[batch*batch_size:(batch+1)*batch_size]\n",
    "            min_batch = min_train[batch*batch_size:(batch+1)*batch_size]\n",
    "            max_batch = max_train[batch*batch_size:(batch+1)*batch_size]\n",
    "\n",
    "            sess.run([train_step], feed_dict={Xt: X_batch, At: A_batch, mint: min_batch, maxt: max_batch, size: X_batch.shape[0]})\n",
    "\n",
    "        train_loss, train_fmin = sess.run([loss, f_min], feed_dict=\\\n",
    "                                          {Xt: X_train, At: A_train, mint: min_train, maxt: max_train, size: len(X_train)})\n",
    "        test_loss, test_fmin = sess.run([loss, f_min], feed_dict=\\\n",
    "                                          {Xt: X_test, At: A_test, mint: min_test, maxt: max_test, size:len(X_test)})\n",
    "\n",
    "        train_loss_list += [train_loss]\n",
    "        test_loss_list += [test_loss]\n",
    "        train_fmin_list += [train_fmin]\n",
    "        test_fmin_list += [test_fmin]\n",
    "\n",
    "        if ep < 10 or ep % (epochs // 10) == 0 or ep == epochs-1:\n",
    "            print(\"Ep: \" +\"{:4}\".format(ep)+\" | TrainLoss: \"+\"{: .3f}\".format(train_loss)\n",
    "                  +\" | TrainMin: \"+ \"{: .3f}\".format(train_fmin)+ \" | TestLoss: \"+\n",
    "                  \"{: .3f}\".format(test_loss)+\" | TestMin: \"+ \"{: .3f}\".format(test_fmin))"
   ]
  },
  {
   "cell_type": "code",
   "execution_count": 13,
   "metadata": {},
   "outputs": [
    {
     "name": "stdout",
     "output_type": "stream",
     "text": [
      "Function Dimension            : 1\n",
      "Number of Training Samples    : 5000\n",
      "Number of Test Samples        : 200\n",
      "Batch size                    : 160\n",
      "Number of hidden Units        : 50\n",
      "Sequence length               : 10\n",
      "Epochs                        : 10\n",
      "Learning rate                 : 0.00100\n",
      "------------------------------------------------------------------------------------\n",
      "Ep:    0 | TrainLoss: -0.287 | TrainMin: -0.806 | TestLoss: -0.346 | TestMin: -0.826\n",
      "Ep:    1 | TrainLoss: -0.368 | TrainMin: -0.871 | TestLoss: -0.415 | TestMin: -0.887\n",
      "Ep:    2 | TrainLoss: -0.294 | TrainMin: -0.773 | TestLoss: -0.338 | TestMin: -0.794\n",
      "Ep:    3 | TrainLoss: -0.179 | TrainMin: -0.745 | TestLoss: -0.247 | TestMin: -0.776\n",
      "Ep:    4 | TrainLoss: -0.243 | TrainMin: -0.801 | TestLoss: -0.306 | TestMin: -0.821\n",
      "Ep:    5 | TrainLoss: -0.094 | TrainMin: -0.571 | TestLoss: -0.157 | TestMin: -0.576\n",
      "Ep:    6 | TrainLoss: -0.205 | TrainMin: -0.767 | TestLoss: -0.259 | TestMin: -0.789\n",
      "Ep:    7 | TrainLoss: -0.245 | TrainMin: -0.784 | TestLoss: -0.297 | TestMin: -0.800\n",
      "Ep:    8 | TrainLoss: -0.007 | TrainMin: -0.478 | TestLoss:  0.006 | TestMin: -0.464\n",
      "Ep:    9 | TrainLoss: -0.027 | TrainMin: -0.521 | TestLoss: -0.006 | TestMin: -0.507\n"
     ]
    }
   ],
   "source": [
    "train_rnn_n2n(1, epochs=10)"
   ]
  },
  {
   "cell_type": "code",
   "execution_count": 14,
   "metadata": {},
   "outputs": [
    {
     "name": "stdout",
     "output_type": "stream",
     "text": [
      "xsdf                          :\t4\n",
      "x                             :\t4\n"
     ]
    }
   ],
   "source": [
    "print(\"%-30s:\\t4\" %('xsdf'))\n",
    "print(\"%-30s:\\t4\" %('x'))"
   ]
  },
  {
   "cell_type": "code",
   "execution_count": 15,
   "metadata": {},
   "outputs": [
    {
     "data": {
      "text/plain": [
       "26"
      ]
     },
     "execution_count": 15,
     "metadata": {},
     "output_type": "execute_result"
    }
   ],
   "source": [
    "len(\"Number of Training Samples\")"
   ]
  },
  {
   "cell_type": "code",
   "execution_count": null,
   "metadata": {
    "collapsed": true
   },
   "outputs": [],
   "source": []
  }
 ],
 "metadata": {
  "anaconda-cloud": {},
  "kernelspec": {
   "display_name": "Python 3",
   "language": "python",
   "name": "python3"
  },
  "language_info": {
   "codemirror_mode": {
    "name": "ipython",
    "version": 3
   },
   "file_extension": ".py",
   "mimetype": "text/x-python",
   "name": "python",
   "nbconvert_exporter": "python",
   "pygments_lexer": "ipython3",
   "version": "3.5.1"
  }
 },
 "nbformat": 4,
 "nbformat_minor": 1
}
