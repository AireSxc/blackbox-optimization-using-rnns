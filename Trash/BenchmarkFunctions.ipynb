{
 "cells": [
  {
   "cell_type": "code",
   "execution_count": 1,
   "metadata": {
    "collapsed": true
   },
   "outputs": [],
   "source": [
    "import numpy as np\n",
    "import tensorflow as tf\n",
    "import matplotlib.pyplot as plt\n",
    "from mpl_toolkits.mplot3d import Axes3D\n",
    "from matplotlib import cm\n",
    "import numpy as np"
   ]
  },
  {
   "cell_type": "code",
   "execution_count": 4,
   "metadata": {
    "collapsed": true
   },
   "outputs": [],
   "source": [
    "def styblinski4(x):\n",
    "\tminv = -39.166*4\n",
    "\tmaxv = 40.0\n",
    "\t\n",
    "\tx = np.array(x)*4\n",
    "\t\n",
    "\ty = np.sum(x**4-16*x**2+5*x,axis=1)/2\n",
    "\t\n",
    "\ty = 2*(y-minv)/(maxv-minv)-1\n",
    "\t\n",
    "\treturn y\n",
    "\t\n",
    "def styblinski4_tf(x):\n",
    "\tminv = -39.166*4\n",
    "\tmaxv = 40.0\n",
    "\t\n",
    "\tx = x*4\n",
    "\t\n",
    "\ty = tf.reduce_sum(x**4-16*x**2+5*x,axis=1)/2\n",
    "\t\n",
    "\ty = 2*(y-minv)/(maxv-minv)-1\n",
    "\t\n",
    "\treturn tf.reshape(y, (-1,1))"
   ]
  },
  {
   "cell_type": "code",
   "execution_count": 14,
   "metadata": {
    "collapsed": false
   },
   "outputs": [
    {
     "data": {
      "text/plain": [
       "0.77715616836253032"
      ]
     },
     "execution_count": 14,
     "metadata": {},
     "output_type": "execute_result"
    }
   ],
   "source": [
    "xx = np.random.uniform(low = -1.0, high = 1.0, size=[1000000,4])\n",
    "styblinski4(xx)"
   ]
  },
  {
   "cell_type": "code",
   "execution_count": 5,
   "metadata": {
    "collapsed": true
   },
   "outputs": [],
   "source": [
    "tf.constant?"
   ]
  },
  {
   "cell_type": "code",
   "execution_count": null,
   "metadata": {
    "collapsed": true
   },
   "outputs": [],
   "source": []
  }
 ],
 "metadata": {
  "anaconda-cloud": {},
  "kernelspec": {
   "display_name": "Python [conda env:tensorflow]",
   "language": "python",
   "name": "conda-env-tensorflow-py"
  },
  "language_info": {
   "codemirror_mode": {
    "name": "ipython",
    "version": 3
   },
   "file_extension": ".py",
   "mimetype": "text/x-python",
   "name": "python",
   "nbconvert_exporter": "python",
   "pygments_lexer": "ipython3",
   "version": "3.5.2"
  }
 },
 "nbformat": 4,
 "nbformat_minor": 1
}
