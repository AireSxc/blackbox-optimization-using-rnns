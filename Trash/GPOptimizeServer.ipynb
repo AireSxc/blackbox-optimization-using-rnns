{
 "cells": [
  {
   "cell_type": "markdown",
   "metadata": {},
   "source": [
    "## Global Black Box Optimization with RNNS"
   ]
  },
  {
   "cell_type": "code",
   "execution_count": 12,
   "metadata": {
    "collapsed": false
   },
   "outputs": [],
   "source": [
    "import tensorflow as tf\n",
    "import numpy as np\n",
    "import benchmarkfunctions as fun"
   ]
  },
  {
   "cell_type": "code",
   "execution_count": 2,
   "metadata": {
    "collapsed": false
   },
   "outputs": [],
   "source": [
    "def kernelTF(x1,x2,l = 0.3):\n",
    "    return tf.exp(-1.0/l**2*tf.reduce_sum((tf.expand_dims(x1,axis=2) - tf.expand_dims(x2,axis=1))**2, axis = 3))\n",
    "\n",
    "def GPTF(X,A,x, l = 0.3):\n",
    "    k_xX = kernelTF(tf.expand_dims(x, axis = 1),X)\n",
    "    return tf.squeeze(tf.matmul(k_xX,  A),axis=(2,))\n",
    "\n",
    "def normalize(minv, maxv, y):\n",
    "    return 2*(y-minv)/(maxv-minv)-1.0"
   ]
  },
  {
   "cell_type": "code",
   "execution_count": 3,
   "metadata": {
    "collapsed": true
   },
   "outputs": [],
   "source": [
    "# Data\n",
    "dim = 1\n",
    "n_train = 1600\n",
    "n_test = 1600\n",
    "path = \"./Data/\"+str(dim)+\"D/\"\n",
    "\n",
    "# LSTM Model\n",
    "n_hidden = 50\n",
    "n_steps = 10\n",
    "\n",
    "# Optimization\n",
    "learning_rate = 0.0001\n",
    "epochs = 1000\n",
    "batch_size = 160"
   ]
  },
  {
   "cell_type": "code",
   "execution_count": 4,
   "metadata": {
    "collapsed": false
   },
   "outputs": [],
   "source": [
    "X, A, minv, maxv = np.load(path+\"X.npy\"), np.load(path+\"A.npy\"), np.load(path+\"minv.npy\"), np.load(path+\"maxv.npy\")\n",
    "X_train, A_train, min_train, max_train = X[:n_train], A[:n_train], minv[:n_train], maxv[:n_train]\n",
    "X_test, A_test, min_test, max_test = X[-n_test:], A[-n_test:], minv[-n_test:], maxv[-n_test:]\n",
    "\n",
    "n_gp_samples = X.shape[1]"
   ]
  },
  {
   "cell_type": "code",
   "execution_count": 5,
   "metadata": {
    "collapsed": true
   },
   "outputs": [],
   "source": [
    "# LSTM Output Weights\n",
    "weights = {\n",
    "    'out': tf.Variable(tf.random_normal([n_hidden, dim]))\n",
    "}\n",
    "biases = {\n",
    "    'out': tf.Variable(tf.random_normal([dim]))\n",
    "}"
   ]
  },
  {
   "cell_type": "code",
   "execution_count": 6,
   "metadata": {
    "collapsed": false
   },
   "outputs": [],
   "source": [
    "# Create Model\n",
    "size = tf.placeholder(tf.int32,[])\n",
    "\n",
    "Xt = tf.placeholder(tf.float32, [None, n_gp_samples, dim])\n",
    "At = tf.placeholder(tf.float32, [None, n_gp_samples, 1])\n",
    "mint = tf.placeholder(tf.float32, [None, 1])\n",
    "maxt = tf.placeholder(tf.float32, [None, 1])\n",
    "\n",
    "x_0 = -0.0*tf.ones([size, dim])\n",
    "h_0 = tf.ones([size, n_hidden])\n",
    "c_0 = tf.ones([size, n_hidden])\n",
    "\n",
    "state = (c_0, h_0)\n",
    "x = x_0\n",
    "y = normalize(mint, maxt, GPTF(Xt,At,x))\n",
    "sample_points = [x]\n",
    "\n",
    "f_min = y\n",
    "f_sum = 0\n",
    "\n",
    "# No idea why this is necessary \n",
    "cell = tf.contrib.rnn.LSTMCell(num_units = n_hidden, reuse=None)\n",
    "cell(tf.concat([x, y], 1), state, scope='rnn_cell')\n",
    "cell = tf.contrib.rnn.LSTMCell(num_units = n_hidden, reuse=True)\n",
    "\n",
    "for i in range(n_steps):\n",
    "    h, state = cell(tf.concat([x, y], 1), state, scope='rnn_cell')\n",
    "    x = tf.tanh(tf.matmul(h, weights['out']) + biases['out'])\n",
    "    sample_points.append(x)\n",
    "    \n",
    "    y = normalize(mint, maxt, GPTF(Xt,At,x))\n",
    "    \n",
    "    f_min = tf.minimum(y, f_min)\n",
    "    f_sum += tf.reduce_mean(y)\n",
    "\n",
    "f_min = tf.reduce_mean(f_min)\n",
    "loss = f_sum / n_steps"
   ]
  },
  {
   "cell_type": "code",
   "execution_count": 7,
   "metadata": {
    "collapsed": true
   },
   "outputs": [],
   "source": [
    "train_step = tf.train.AdamOptimizer(learning_rate).minimize(loss)"
   ]
  },
  {
   "cell_type": "code",
   "execution_count": 8,
   "metadata": {
    "collapsed": true
   },
   "outputs": [],
   "source": [
    "sess = tf.InteractiveSession()\n",
    "sess.run(tf.global_variables_initializer())\n",
    "\n",
    "train_loss_list = []\n",
    "test_loss_list = []\n",
    "train_fmin_list = []\n",
    "test_fmin_list = []"
   ]
  },
  {
   "cell_type": "code",
   "execution_count": 9,
   "metadata": {
    "collapsed": false
   },
   "outputs": [
    {
     "name": "stdout",
     "output_type": "stream",
     "text": [
      "Function Dimension: \t\t1\n",
      "Number of Training Samples: \t1600\n",
      "Number of Test Samples: \t1600\n",
      "Batch size: \t\t\t160\n",
      "Number of hidden Units: \t50\n",
      "Sequence length: \t\t10\n",
      "Epochs: \t\t\t1000\n",
      "Learning rate: \t\t\t0.0001\n",
      "------------------------------------------------------------------------------------\n",
      "Ep:    0 | TrainLoss:  0.158 | TrainMin: -0.548 | TestLoss:  0.178 | TestMin: -0.533\n",
      "Ep:    1 | TrainLoss:  0.059 | TrainMin: -0.485 | TestLoss:  0.095 | TestMin: -0.456\n",
      "Ep:    2 | TrainLoss:  0.004 | TrainMin: -0.429 | TestLoss:  0.046 | TestMin: -0.399\n",
      "Ep:    3 | TrainLoss: -0.020 | TrainMin: -0.401 | TestLoss:  0.024 | TestMin: -0.372\n",
      "Ep:    4 | TrainLoss: -0.030 | TrainMin: -0.387 | TestLoss:  0.015 | TestMin: -0.359\n",
      "Ep:    5 | TrainLoss: -0.033 | TrainMin: -0.379 | TestLoss:  0.012 | TestMin: -0.352\n",
      "Ep:    6 | TrainLoss: -0.035 | TrainMin: -0.375 | TestLoss:  0.010 | TestMin: -0.348\n",
      "Ep:    7 | TrainLoss: -0.036 | TrainMin: -0.373 | TestLoss:  0.009 | TestMin: -0.346\n",
      "Ep:    8 | TrainLoss: -0.037 | TrainMin: -0.371 | TestLoss:  0.009 | TestMin: -0.344\n",
      "Ep:    9 | TrainLoss: -0.037 | TrainMin: -0.370 | TestLoss:  0.009 | TestMin: -0.342\n",
      "Ep:  100 | TrainLoss: -0.401 | TrainMin: -0.873 | TestLoss: -0.404 | TestMin: -0.879\n",
      "Ep:  200 | TrainLoss: -0.439 | TrainMin: -0.892 | TestLoss: -0.444 | TestMin: -0.897\n",
      "Ep:  300 | TrainLoss: -0.440 | TrainMin: -0.894 | TestLoss: -0.444 | TestMin: -0.897\n",
      "Ep:  400 | TrainLoss: -0.403 | TrainMin: -0.753 | TestLoss: -0.393 | TestMin: -0.751\n",
      "Ep:  500 | TrainLoss: -0.479 | TrainMin: -0.893 | TestLoss: -0.473 | TestMin: -0.895\n",
      "Ep:  600 | TrainLoss: -0.461 | TrainMin: -0.879 | TestLoss: -0.464 | TestMin: -0.884\n",
      "Ep:  700 | TrainLoss: -0.453 | TrainMin: -0.884 | TestLoss: -0.461 | TestMin: -0.891\n",
      "Ep:  800 | TrainLoss: -0.483 | TrainMin: -0.895 | TestLoss: -0.478 | TestMin: -0.895\n",
      "Ep:  900 | TrainLoss: -0.464 | TrainMin: -0.910 | TestLoss: -0.465 | TestMin: -0.913\n",
      "Ep:  999 | TrainLoss: -0.397 | TrainMin: -0.860 | TestLoss: -0.400 | TestMin: -0.861\n"
     ]
    }
   ],
   "source": [
    "# Train the Network\n",
    "print(\"Function Dimension: \\t\\t\"+str(dim))\n",
    "print(\"Number of Training Samples: \\t\"+str(n_train))\n",
    "print(\"Number of Test Samples: \\t\"+str(n_test))\n",
    "print(\"Batch size: \\t\\t\\t\"+str(batch_size))\n",
    "print(\"Number of hidden Units: \\t\"+str(n_hidden))\n",
    "print(\"Sequence length: \\t\\t\"+ str(n_steps))\n",
    "print(\"Epochs: \\t\\t\\t\"+str(epochs))\n",
    "print(\"Learning rate: \\t\\t\\t\"+str(learning_rate))\n",
    "print(\"------------------------------------------------------------------------------------\")\n",
    "\n",
    "for ep in range(epochs):\n",
    "    for batch in range(n_train//batch_size):\n",
    "        X_batch = X_train[batch*batch_size:(batch+1)*batch_size]\n",
    "        A_batch = A_train[batch*batch_size:(batch+1)*batch_size]\n",
    "        min_batch = min_train[batch*batch_size:(batch+1)*batch_size]\n",
    "        max_batch = max_train[batch*batch_size:(batch+1)*batch_size]\n",
    "        \n",
    "        sess.run([train_step], feed_dict={Xt: X_batch, At: A_batch, mint: min_batch, maxt: max_batch, size: X_batch.shape[0]})\n",
    "    \n",
    "    train_loss, train_fmin = sess.run([loss, f_min], feed_dict=\\\n",
    "                                      {Xt: X_train, At: A_train, mint: min_train, maxt: max_train, size: n_train})\n",
    "    test_loss, test_fmin = sess.run([loss, f_min], feed_dict=\\\n",
    "                                      {Xt: X_test, At: A_test, mint: min_test, maxt: max_test, size:n_test})\n",
    "    \n",
    "    train_loss_list += [train_loss]\n",
    "    test_loss_list += [test_loss]\n",
    "    train_fmin_list += [train_fmin]\n",
    "    test_fmin_list += [test_fmin]\n",
    "    \n",
    "    if ep < 10 or ep % (epochs // 10) == 0 or ep == epochs-1:\n",
    "        print(\"Ep: \" +\"{:4}\".format(ep)+\" | TrainLoss: \"+\"{: .3f}\".format(train_loss)\n",
    "              +\" | TrainMin: \"+ \"{: .3f}\".format(train_fmin)+ \" | TestLoss: \"+\n",
    "              \"{: .3f}\".format(test_loss)+\" | TestMin: \"+ \"{: .3f}\".format(test_fmin))"
   ]
  },
  {
   "cell_type": "code",
   "execution_count": null,
   "metadata": {
    "collapsed": true
   },
   "outputs": [],
   "source": []
  }
 ],
 "metadata": {
  "anaconda-cloud": {},
  "kernelspec": {
   "display_name": "Python [conda env:tensorflow]",
   "language": "python",
   "name": "conda-env-tensorflow-py"
  },
  "language_info": {
   "codemirror_mode": {
    "name": "ipython",
    "version": 3
   },
   "file_extension": ".py",
   "mimetype": "text/x-python",
   "name": "python",
   "nbconvert_exporter": "python",
   "pygments_lexer": "ipython3",
   "version": "3.5.2"
  }
 },
 "nbformat": 4,
 "nbformat_minor": 1
}
